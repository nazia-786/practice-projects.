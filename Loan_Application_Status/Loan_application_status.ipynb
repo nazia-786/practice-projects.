{
 "cells": [
  {
   "cell_type": "markdown",
   "id": "e6d63a71",
   "metadata": {},
   "source": [
    "Loan Application Status Prediction\n",
    "Problem Statement:\n",
    "This dataset includes details of applicants who have applied for loan. The dataset includes details like credit history, loan amount, their income, dependents etc. \n",
    "\n",
    "Independent Variables:\n",
    "\n",
    "- Loan_ID\n",
    "\n",
    "- Gender\n",
    "\n",
    "- Married\n",
    "\n",
    "- Dependents\n",
    "\n",
    "- Education\n",
    "\n",
    "- Self_Employed\n",
    "\n",
    "- ApplicantIncome\n",
    "\n",
    "- CoapplicantIncome\n",
    "\n",
    "- Loan_Amount\n",
    "\n",
    "- Loan_Amount_Term\n",
    "\n",
    "- Credit History\n",
    "\n",
    "- Property_Area\n",
    "\n",
    "Dependent Variable (Target Variable):\n",
    "\n",
    "- Loan_Status\n",
    "\n",
    "You have to build a model that can predict whether the loan of the applicant will be approved or not on the basis of the details provided in the dataset. \n",
    "\n",
    "Note: The link of the dataset is below. \n",
    "\n",
    "Downlaod Files:\n",
    "https://github.com/dsrscientist/DSData/blob/master/loan_prediction.csv"
   ]
  },
  {
   "cell_type": "code",
   "execution_count": 1,
   "id": "efea311c",
   "metadata": {},
   "outputs": [],
   "source": [
    "import pandas as pd\n",
    "import numpy as np\n",
    "import matplotlib.pyplot as plt\n",
    "%matplotlib inline\n",
    "import seaborn as sns\n",
    "import warnings\n",
    "warnings.filterwarnings('ignore')"
   ]
  },
  {
   "cell_type": "code",
   "execution_count": 2,
   "id": "d85c088d",
   "metadata": {},
   "outputs": [],
   "source": [
    "df=pd.read_csv(r'C:\\Users\\91964\\Desktop\\nazia\\datascience\\Projects_DT\\loan_prediction.csv')"
   ]
  },
  {
   "cell_type": "code",
   "execution_count": 3,
   "id": "8d96a4e3",
   "metadata": {},
   "outputs": [
    {
     "data": {
      "text/html": [
       "<div>\n",
       "<style scoped>\n",
       "    .dataframe tbody tr th:only-of-type {\n",
       "        vertical-align: middle;\n",
       "    }\n",
       "\n",
       "    .dataframe tbody tr th {\n",
       "        vertical-align: top;\n",
       "    }\n",
       "\n",
       "    .dataframe thead th {\n",
       "        text-align: right;\n",
       "    }\n",
       "</style>\n",
       "<table border=\"1\" class=\"dataframe\">\n",
       "  <thead>\n",
       "    <tr style=\"text-align: right;\">\n",
       "      <th></th>\n",
       "      <th>Loan_ID</th>\n",
       "      <th>Gender</th>\n",
       "      <th>Married</th>\n",
       "      <th>Dependents</th>\n",
       "      <th>Education</th>\n",
       "      <th>Self_Employed</th>\n",
       "      <th>ApplicantIncome</th>\n",
       "      <th>CoapplicantIncome</th>\n",
       "      <th>LoanAmount</th>\n",
       "      <th>Loan_Amount_Term</th>\n",
       "      <th>Credit_History</th>\n",
       "      <th>Property_Area</th>\n",
       "      <th>Loan_Status</th>\n",
       "    </tr>\n",
       "  </thead>\n",
       "  <tbody>\n",
       "    <tr>\n",
       "      <th>0</th>\n",
       "      <td>LP001002</td>\n",
       "      <td>Male</td>\n",
       "      <td>No</td>\n",
       "      <td>0</td>\n",
       "      <td>Graduate</td>\n",
       "      <td>No</td>\n",
       "      <td>5849</td>\n",
       "      <td>0.0</td>\n",
       "      <td>NaN</td>\n",
       "      <td>360.0</td>\n",
       "      <td>1.0</td>\n",
       "      <td>Urban</td>\n",
       "      <td>Y</td>\n",
       "    </tr>\n",
       "    <tr>\n",
       "      <th>1</th>\n",
       "      <td>LP001003</td>\n",
       "      <td>Male</td>\n",
       "      <td>Yes</td>\n",
       "      <td>1</td>\n",
       "      <td>Graduate</td>\n",
       "      <td>No</td>\n",
       "      <td>4583</td>\n",
       "      <td>1508.0</td>\n",
       "      <td>128.0</td>\n",
       "      <td>360.0</td>\n",
       "      <td>1.0</td>\n",
       "      <td>Rural</td>\n",
       "      <td>N</td>\n",
       "    </tr>\n",
       "    <tr>\n",
       "      <th>2</th>\n",
       "      <td>LP001005</td>\n",
       "      <td>Male</td>\n",
       "      <td>Yes</td>\n",
       "      <td>0</td>\n",
       "      <td>Graduate</td>\n",
       "      <td>Yes</td>\n",
       "      <td>3000</td>\n",
       "      <td>0.0</td>\n",
       "      <td>66.0</td>\n",
       "      <td>360.0</td>\n",
       "      <td>1.0</td>\n",
       "      <td>Urban</td>\n",
       "      <td>Y</td>\n",
       "    </tr>\n",
       "    <tr>\n",
       "      <th>3</th>\n",
       "      <td>LP001006</td>\n",
       "      <td>Male</td>\n",
       "      <td>Yes</td>\n",
       "      <td>0</td>\n",
       "      <td>Not Graduate</td>\n",
       "      <td>No</td>\n",
       "      <td>2583</td>\n",
       "      <td>2358.0</td>\n",
       "      <td>120.0</td>\n",
       "      <td>360.0</td>\n",
       "      <td>1.0</td>\n",
       "      <td>Urban</td>\n",
       "      <td>Y</td>\n",
       "    </tr>\n",
       "    <tr>\n",
       "      <th>4</th>\n",
       "      <td>LP001008</td>\n",
       "      <td>Male</td>\n",
       "      <td>No</td>\n",
       "      <td>0</td>\n",
       "      <td>Graduate</td>\n",
       "      <td>No</td>\n",
       "      <td>6000</td>\n",
       "      <td>0.0</td>\n",
       "      <td>141.0</td>\n",
       "      <td>360.0</td>\n",
       "      <td>1.0</td>\n",
       "      <td>Urban</td>\n",
       "      <td>Y</td>\n",
       "    </tr>\n",
       "    <tr>\n",
       "      <th>...</th>\n",
       "      <td>...</td>\n",
       "      <td>...</td>\n",
       "      <td>...</td>\n",
       "      <td>...</td>\n",
       "      <td>...</td>\n",
       "      <td>...</td>\n",
       "      <td>...</td>\n",
       "      <td>...</td>\n",
       "      <td>...</td>\n",
       "      <td>...</td>\n",
       "      <td>...</td>\n",
       "      <td>...</td>\n",
       "      <td>...</td>\n",
       "    </tr>\n",
       "    <tr>\n",
       "      <th>609</th>\n",
       "      <td>LP002978</td>\n",
       "      <td>Female</td>\n",
       "      <td>No</td>\n",
       "      <td>0</td>\n",
       "      <td>Graduate</td>\n",
       "      <td>No</td>\n",
       "      <td>2900</td>\n",
       "      <td>0.0</td>\n",
       "      <td>71.0</td>\n",
       "      <td>360.0</td>\n",
       "      <td>1.0</td>\n",
       "      <td>Rural</td>\n",
       "      <td>Y</td>\n",
       "    </tr>\n",
       "    <tr>\n",
       "      <th>610</th>\n",
       "      <td>LP002979</td>\n",
       "      <td>Male</td>\n",
       "      <td>Yes</td>\n",
       "      <td>3+</td>\n",
       "      <td>Graduate</td>\n",
       "      <td>No</td>\n",
       "      <td>4106</td>\n",
       "      <td>0.0</td>\n",
       "      <td>40.0</td>\n",
       "      <td>180.0</td>\n",
       "      <td>1.0</td>\n",
       "      <td>Rural</td>\n",
       "      <td>Y</td>\n",
       "    </tr>\n",
       "    <tr>\n",
       "      <th>611</th>\n",
       "      <td>LP002983</td>\n",
       "      <td>Male</td>\n",
       "      <td>Yes</td>\n",
       "      <td>1</td>\n",
       "      <td>Graduate</td>\n",
       "      <td>No</td>\n",
       "      <td>8072</td>\n",
       "      <td>240.0</td>\n",
       "      <td>253.0</td>\n",
       "      <td>360.0</td>\n",
       "      <td>1.0</td>\n",
       "      <td>Urban</td>\n",
       "      <td>Y</td>\n",
       "    </tr>\n",
       "    <tr>\n",
       "      <th>612</th>\n",
       "      <td>LP002984</td>\n",
       "      <td>Male</td>\n",
       "      <td>Yes</td>\n",
       "      <td>2</td>\n",
       "      <td>Graduate</td>\n",
       "      <td>No</td>\n",
       "      <td>7583</td>\n",
       "      <td>0.0</td>\n",
       "      <td>187.0</td>\n",
       "      <td>360.0</td>\n",
       "      <td>1.0</td>\n",
       "      <td>Urban</td>\n",
       "      <td>Y</td>\n",
       "    </tr>\n",
       "    <tr>\n",
       "      <th>613</th>\n",
       "      <td>LP002990</td>\n",
       "      <td>Female</td>\n",
       "      <td>No</td>\n",
       "      <td>0</td>\n",
       "      <td>Graduate</td>\n",
       "      <td>Yes</td>\n",
       "      <td>4583</td>\n",
       "      <td>0.0</td>\n",
       "      <td>133.0</td>\n",
       "      <td>360.0</td>\n",
       "      <td>0.0</td>\n",
       "      <td>Semiurban</td>\n",
       "      <td>N</td>\n",
       "    </tr>\n",
       "  </tbody>\n",
       "</table>\n",
       "<p>614 rows × 13 columns</p>\n",
       "</div>"
      ],
      "text/plain": [
       "      Loan_ID  Gender Married Dependents     Education Self_Employed  \\\n",
       "0    LP001002    Male      No          0      Graduate            No   \n",
       "1    LP001003    Male     Yes          1      Graduate            No   \n",
       "2    LP001005    Male     Yes          0      Graduate           Yes   \n",
       "3    LP001006    Male     Yes          0  Not Graduate            No   \n",
       "4    LP001008    Male      No          0      Graduate            No   \n",
       "..        ...     ...     ...        ...           ...           ...   \n",
       "609  LP002978  Female      No          0      Graduate            No   \n",
       "610  LP002979    Male     Yes         3+      Graduate            No   \n",
       "611  LP002983    Male     Yes          1      Graduate            No   \n",
       "612  LP002984    Male     Yes          2      Graduate            No   \n",
       "613  LP002990  Female      No          0      Graduate           Yes   \n",
       "\n",
       "     ApplicantIncome  CoapplicantIncome  LoanAmount  Loan_Amount_Term  \\\n",
       "0               5849                0.0         NaN             360.0   \n",
       "1               4583             1508.0       128.0             360.0   \n",
       "2               3000                0.0        66.0             360.0   \n",
       "3               2583             2358.0       120.0             360.0   \n",
       "4               6000                0.0       141.0             360.0   \n",
       "..               ...                ...         ...               ...   \n",
       "609             2900                0.0        71.0             360.0   \n",
       "610             4106                0.0        40.0             180.0   \n",
       "611             8072              240.0       253.0             360.0   \n",
       "612             7583                0.0       187.0             360.0   \n",
       "613             4583                0.0       133.0             360.0   \n",
       "\n",
       "     Credit_History Property_Area Loan_Status  \n",
       "0               1.0         Urban           Y  \n",
       "1               1.0         Rural           N  \n",
       "2               1.0         Urban           Y  \n",
       "3               1.0         Urban           Y  \n",
       "4               1.0         Urban           Y  \n",
       "..              ...           ...         ...  \n",
       "609             1.0         Rural           Y  \n",
       "610             1.0         Rural           Y  \n",
       "611             1.0         Urban           Y  \n",
       "612             1.0         Urban           Y  \n",
       "613             0.0     Semiurban           N  \n",
       "\n",
       "[614 rows x 13 columns]"
      ]
     },
     "execution_count": 3,
     "metadata": {},
     "output_type": "execute_result"
    }
   ],
   "source": [
    "df"
   ]
  },
  {
   "cell_type": "code",
   "execution_count": 4,
   "id": "a113ffe6",
   "metadata": {},
   "outputs": [
    {
     "data": {
      "text/plain": [
       "(614, 13)"
      ]
     },
     "execution_count": 4,
     "metadata": {},
     "output_type": "execute_result"
    }
   ],
   "source": [
    "df.shape"
   ]
  },
  {
   "cell_type": "code",
   "execution_count": 5,
   "id": "8d40cf8e",
   "metadata": {},
   "outputs": [],
   "source": [
    "# checking missing values"
   ]
  },
  {
   "cell_type": "code",
   "execution_count": 6,
   "id": "86bed025",
   "metadata": {},
   "outputs": [
    {
     "data": {
      "text/plain": [
       "Loan_ID               0\n",
       "Gender               13\n",
       "Married               3\n",
       "Dependents           15\n",
       "Education             0\n",
       "Self_Employed        32\n",
       "ApplicantIncome       0\n",
       "CoapplicantIncome     0\n",
       "LoanAmount           22\n",
       "Loan_Amount_Term     14\n",
       "Credit_History       50\n",
       "Property_Area         0\n",
       "Loan_Status           0\n",
       "dtype: int64"
      ]
     },
     "execution_count": 6,
     "metadata": {},
     "output_type": "execute_result"
    }
   ],
   "source": [
    "df.isna().sum()"
   ]
  },
  {
   "cell_type": "code",
   "execution_count": 7,
   "id": "9ef320f0",
   "metadata": {},
   "outputs": [
    {
     "data": {
      "text/plain": [
       "<AxesSubplot:>"
      ]
     },
     "execution_count": 7,
     "metadata": {},
     "output_type": "execute_result"
    },
    {
     "data": {
      "image/png": "[encoded data removed]",
      "text/plain": [
       "<Figure size 1440x720 with 2 Axes>"
      ]
     },
     "metadata": {
      "needs_background": "light"
     },
     "output_type": "display_data"
    }
   ],
   "source": [
    "plt.figure(figsize=(20,10))\n",
    "sns.heatmap(df.isna())"
   ]
  },
  {
   "cell_type": "code",
   "execution_count": 8,
   "id": "cd1145ca",
   "metadata": {},
   "outputs": [
    {
     "name": "stdout",
     "output_type": "stream",
     "text": [
      "<class 'pandas.core.frame.DataFrame'>\n",
      "RangeIndex: 614 entries, 0 to 613\n",
      "Data columns (total 13 columns):\n",
      " #   Column             Non-Null Count  Dtype  \n",
      "---  ------             --------------  -----  \n",
      " 0   Loan_ID            614 non-null    object \n",
      " 1   Gender             601 non-null    object \n",
      " 2   Married            611 non-null    object \n",
      " 3   Dependents         599 non-null    object \n",
      " 4   Education          614 non-null    object \n",
      " 5   Self_Employed      582 non-null    object \n",
      " 6   ApplicantIncome    614 non-null    int64  \n",
      " 7   CoapplicantIncome  614 non-null    float64\n",
      " 8   LoanAmount         592 non-null    float64\n",
      " 9   Loan_Amount_Term   600 non-null    float64\n",
      " 10  Credit_History     564 non-null    float64\n",
      " 11  Property_Area      614 non-null    object \n",
      " 12  Loan_Status        614 non-null    object \n",
      "dtypes: float64(4), int64(1), object(8)\n",
      "memory usage: 62.5+ KB\n"
     ]
    }
   ],
   "source": [
    "df.info()"
   ]
  },
  {
   "cell_type": "code",
   "execution_count": 9,
   "id": "664cc7f7",
   "metadata": {},
   "outputs": [],
   "source": [
    "# Handling missing value"
   ]
  },
  {
   "cell_type": "code",
   "execution_count": 10,
   "id": "7eae5d8d",
   "metadata": {},
   "outputs": [
    {
     "data": {
      "text/plain": [
       "0    Male\n",
       "dtype: object"
      ]
     },
     "execution_count": 10,
     "metadata": {},
     "output_type": "execute_result"
    }
   ],
   "source": [
    "df['Gender'].mode()"
   ]
  },
  {
   "cell_type": "code",
   "execution_count": 11,
   "id": "1ef58944",
   "metadata": {},
   "outputs": [
    {
     "data": {
      "text/plain": [
       "0    Yes\n",
       "dtype: object"
      ]
     },
     "execution_count": 11,
     "metadata": {},
     "output_type": "execute_result"
    }
   ],
   "source": [
    "df['Married'].mode()"
   ]
  },
  {
   "cell_type": "code",
   "execution_count": 12,
   "id": "ecb0d10a",
   "metadata": {},
   "outputs": [
    {
     "data": {
      "text/plain": [
       "0     345\n",
       "1     102\n",
       "2     101\n",
       "3+     51\n",
       "Name: Dependents, dtype: int64"
      ]
     },
     "execution_count": 12,
     "metadata": {},
     "output_type": "execute_result"
    }
   ],
   "source": [
    "df['Dependents'].value_counts()"
   ]
  },
  {
   "cell_type": "code",
   "execution_count": 13,
   "id": "e271d979",
   "metadata": {},
   "outputs": [
    {
     "data": {
      "text/plain": [
       "0    0\n",
       "dtype: object"
      ]
     },
     "execution_count": 13,
     "metadata": {},
     "output_type": "execute_result"
    }
   ],
   "source": [
    "df['Dependents'].mode()"
   ]
  },
  {
   "cell_type": "code",
   "execution_count": 14,
   "id": "659753b9",
   "metadata": {},
   "outputs": [
    {
     "data": {
      "text/plain": [
       "No     500\n",
       "Yes     82\n",
       "Name: Self_Employed, dtype: int64"
      ]
     },
     "execution_count": 14,
     "metadata": {},
     "output_type": "execute_result"
    }
   ],
   "source": [
    "df['Self_Employed'].value_counts()"
   ]
  },
  {
   "cell_type": "code",
   "execution_count": 15,
   "id": "337b5c38",
   "metadata": {},
   "outputs": [
    {
     "data": {
      "text/plain": [
       "0    No\n",
       "dtype: object"
      ]
     },
     "execution_count": 15,
     "metadata": {},
     "output_type": "execute_result"
    }
   ],
   "source": [
    "df['Self_Employed'].mode()"
   ]
  },
  {
   "cell_type": "code",
   "execution_count": 4,
   "id": "928333e4",
   "metadata": {},
   "outputs": [],
   "source": [
    "df['Gender']=df['Gender'].fillna(df['Gender'].mode()[0])\n",
    "df['Married']=df['Married'].fillna(df['Married'].mode()[0])\n",
    "df['Dependents']=df['Dependents'].fillna(df['Dependents'].mode()[0])\n",
    "df['Self_Employed']=df['Self_Employed'].fillna(df['Self_Employed'].mode()[0])"
   ]
  },
  {
   "cell_type": "code",
   "execution_count": 17,
   "id": "63ebb2cc",
   "metadata": {},
   "outputs": [
    {
     "data": {
      "text/plain": [
       "Loan_ID               0\n",
       "Gender                0\n",
       "Married               0\n",
       "Dependents            0\n",
       "Education             0\n",
       "Self_Employed         0\n",
       "ApplicantIncome       0\n",
       "CoapplicantIncome     0\n",
       "LoanAmount           22\n",
       "Loan_Amount_Term     14\n",
       "Credit_History       50\n",
       "Property_Area         0\n",
       "Loan_Status           0\n",
       "dtype: int64"
      ]
     },
     "execution_count": 17,
     "metadata": {},
     "output_type": "execute_result"
    }
   ],
   "source": [
    "df.isna().sum()"
   ]
  },
  {
   "cell_type": "code",
   "execution_count": 18,
   "id": "dbb955bf",
   "metadata": {},
   "outputs": [
    {
     "data": {
      "text/plain": [
       "120.0    20\n",
       "110.0    17\n",
       "100.0    15\n",
       "160.0    12\n",
       "187.0    12\n",
       "         ..\n",
       "211.0     1\n",
       "250.0     1\n",
       "62.0      1\n",
       "85.0      1\n",
       "436.0     1\n",
       "Name: LoanAmount, Length: 203, dtype: int64"
      ]
     },
     "execution_count": 18,
     "metadata": {},
     "output_type": "execute_result"
    }
   ],
   "source": [
    "df['LoanAmount'].value_counts()"
   ]
  },
  {
   "cell_type": "code",
   "execution_count": 19,
   "id": "4b20ce12",
   "metadata": {
    "scrolled": true
   },
   "outputs": [
    {
     "data": {
      "text/plain": [
       "<AxesSubplot:xlabel='LoanAmount', ylabel='Density'>"
      ]
     },
     "execution_count": 19,
     "metadata": {},
     "output_type": "execute_result"
    },
    {
     "data": {
      "image/png": "[encoded data removed]",
      "text/plain": [
       "<Figure size 432x288 with 1 Axes>"
      ]
     },
     "metadata": {
      "needs_background": "light"
     },
     "output_type": "display_data"
    }
   ],
   "source": [
    "sns.distplot(df['LoanAmount'])"
   ]
  },
  {
   "cell_type": "code",
   "execution_count": 20,
   "id": "ccf23581",
   "metadata": {},
   "outputs": [],
   "source": [
    "# data is right skewed so taking mean is not rightso we take median"
   ]
  },
  {
   "cell_type": "code",
   "execution_count": 21,
   "id": "4e1db58c",
   "metadata": {},
   "outputs": [
    {
     "data": {
      "text/plain": [
       "128.0"
      ]
     },
     "execution_count": 21,
     "metadata": {},
     "output_type": "execute_result"
    }
   ],
   "source": [
    "df['LoanAmount'].median()"
   ]
  },
  {
   "cell_type": "code",
   "execution_count": 22,
   "id": "73a55c1a",
   "metadata": {},
   "outputs": [
    {
     "data": {
      "text/plain": [
       "360.0    512\n",
       "180.0     44\n",
       "480.0     15\n",
       "300.0     13\n",
       "84.0       4\n",
       "240.0      4\n",
       "120.0      3\n",
       "36.0       2\n",
       "60.0       2\n",
       "12.0       1\n",
       "Name: Loan_Amount_Term, dtype: int64"
      ]
     },
     "execution_count": 22,
     "metadata": {},
     "output_type": "execute_result"
    }
   ],
   "source": [
    "df['Loan_Amount_Term'].value_counts()"
   ]
  },
  {
   "cell_type": "code",
   "execution_count": 23,
   "id": "e1030066",
   "metadata": {},
   "outputs": [
    {
     "data": {
      "text/plain": [
       "<AxesSubplot:xlabel='Loan_Amount_Term', ylabel='Density'>"
      ]
     },
     "execution_count": 23,
     "metadata": {},
     "output_type": "execute_result"
    },
    {
     "data": {
      "image/png": "[encoded data removed]",
      "text/plain": [
       "<Figure size 432x288 with 1 Axes>"
      ]
     },
     "metadata": {
      "needs_background": "light"
     },
     "output_type": "display_data"
    }
   ],
   "source": [
    "sns.distplot(df['Loan_Amount_Term'])"
   ]
  },
  {
   "cell_type": "code",
   "execution_count": 36,
   "id": "9d3f1f41",
   "metadata": {},
   "outputs": [
    {
     "data": {
      "text/plain": [
       "0    360.0\n",
       "dtype: float64"
      ]
     },
     "execution_count": 36,
     "metadata": {},
     "output_type": "execute_result"
    }
   ],
   "source": [
    "df['Loan_Amount_Term'].mode()"
   ]
  },
  {
   "cell_type": "code",
   "execution_count": 23,
   "id": "76f21548",
   "metadata": {},
   "outputs": [
    {
     "data": {
      "text/plain": [
       "1.0    475\n",
       "0.0     89\n",
       "Name: Credit_History, dtype: int64"
      ]
     },
     "execution_count": 23,
     "metadata": {},
     "output_type": "execute_result"
    }
   ],
   "source": [
    "df['Credit_History'].value_counts()"
   ]
  },
  {
   "cell_type": "code",
   "execution_count": 34,
   "id": "a96ac3a4",
   "metadata": {},
   "outputs": [
    {
     "data": {
      "text/plain": [
       "0    1.0\n",
       "dtype: float64"
      ]
     },
     "execution_count": 34,
     "metadata": {},
     "output_type": "execute_result"
    }
   ],
   "source": [
    "df['Credit_History'].mode()"
   ]
  },
  {
   "cell_type": "code",
   "execution_count": 35,
   "id": "3381f348",
   "metadata": {},
   "outputs": [
    {
     "data": {
      "text/plain": [
       "1.0"
      ]
     },
     "execution_count": 35,
     "metadata": {},
     "output_type": "execute_result"
    }
   ],
   "source": [
    "df['Credit_History'].median()"
   ]
  },
  {
   "cell_type": "code",
   "execution_count": 5,
   "id": "ca18dbe1",
   "metadata": {},
   "outputs": [],
   "source": [
    "df['Loan_Amount_Term']=df['Loan_Amount_Term'].fillna(df['Loan_Amount_Term'].median())\n",
    "df['Credit_History']=df['Credit_History'].fillna(df['Credit_History'].mode()[0])\n",
    "df['LoanAmount']=df['LoanAmount'].fillna(df['LoanAmount'].median())"
   ]
  },
  {
   "cell_type": "code",
   "execution_count": 41,
   "id": "f0c76df4",
   "metadata": {},
   "outputs": [
    {
     "data": {
      "text/plain": [
       "Loan_ID              0\n",
       "Gender               0\n",
       "Married              0\n",
       "Dependents           0\n",
       "Education            0\n",
       "Self_Employed        0\n",
       "ApplicantIncome      0\n",
       "CoapplicantIncome    0\n",
       "LoanAmount           0\n",
       "Loan_Amount_Term     0\n",
       "Credit_History       0\n",
       "Property_Area        0\n",
       "Loan_Status          0\n",
       "dtype: int64"
      ]
     },
     "execution_count": 41,
     "metadata": {},
     "output_type": "execute_result"
    }
   ],
   "source": [
    "df.isna().sum()"
   ]
  },
  {
   "cell_type": "code",
   "execution_count": null,
   "id": "a3be06dc",
   "metadata": {},
   "outputs": [],
   "source": [
    "# EDA Analysis"
   ]
  },
  {
   "cell_type": "code",
   "execution_count": 6,
   "id": "10ac8066",
   "metadata": {},
   "outputs": [
    {
     "data": {
      "text/html": [
       "<div>\n",
       "<style scoped>\n",
       "    .dataframe tbody tr th:only-of-type {\n",
       "        vertical-align: middle;\n",
       "    }\n",
       "\n",
       "    .dataframe tbody tr th {\n",
       "        vertical-align: top;\n",
       "    }\n",
       "\n",
       "    .dataframe thead th {\n",
       "        text-align: right;\n",
       "    }\n",
       "</style>\n",
       "<table border=\"1\" class=\"dataframe\">\n",
       "  <thead>\n",
       "    <tr style=\"text-align: right;\">\n",
       "      <th></th>\n",
       "      <th>ApplicantIncome</th>\n",
       "      <th>CoapplicantIncome</th>\n",
       "      <th>LoanAmount</th>\n",
       "      <th>Loan_Amount_Term</th>\n",
       "      <th>Credit_History</th>\n",
       "    </tr>\n",
       "  </thead>\n",
       "  <tbody>\n",
       "    <tr>\n",
       "      <th>count</th>\n",
       "      <td>614.000000</td>\n",
       "      <td>614.000000</td>\n",
       "      <td>614.000000</td>\n",
       "      <td>614.000000</td>\n",
       "      <td>614.000000</td>\n",
       "    </tr>\n",
       "    <tr>\n",
       "      <th>mean</th>\n",
       "      <td>5403.459283</td>\n",
       "      <td>1621.245798</td>\n",
       "      <td>145.752443</td>\n",
       "      <td>342.410423</td>\n",
       "      <td>0.855049</td>\n",
       "    </tr>\n",
       "    <tr>\n",
       "      <th>std</th>\n",
       "      <td>6109.041673</td>\n",
       "      <td>2926.248369</td>\n",
       "      <td>84.107233</td>\n",
       "      <td>64.428629</td>\n",
       "      <td>0.352339</td>\n",
       "    </tr>\n",
       "    <tr>\n",
       "      <th>min</th>\n",
       "      <td>150.000000</td>\n",
       "      <td>0.000000</td>\n",
       "      <td>9.000000</td>\n",
       "      <td>12.000000</td>\n",
       "      <td>0.000000</td>\n",
       "    </tr>\n",
       "    <tr>\n",
       "      <th>25%</th>\n",
       "      <td>2877.500000</td>\n",
       "      <td>0.000000</td>\n",
       "      <td>100.250000</td>\n",
       "      <td>360.000000</td>\n",
       "      <td>1.000000</td>\n",
       "    </tr>\n",
       "    <tr>\n",
       "      <th>50%</th>\n",
       "      <td>3812.500000</td>\n",
       "      <td>1188.500000</td>\n",
       "      <td>128.000000</td>\n",
       "      <td>360.000000</td>\n",
       "      <td>1.000000</td>\n",
       "    </tr>\n",
       "    <tr>\n",
       "      <th>75%</th>\n",
       "      <td>5795.000000</td>\n",
       "      <td>2297.250000</td>\n",
       "      <td>164.750000</td>\n",
       "      <td>360.000000</td>\n",
       "      <td>1.000000</td>\n",
       "    </tr>\n",
       "    <tr>\n",
       "      <th>max</th>\n",
       "      <td>81000.000000</td>\n",
       "      <td>41667.000000</td>\n",
       "      <td>700.000000</td>\n",
       "      <td>480.000000</td>\n",
       "      <td>1.000000</td>\n",
       "    </tr>\n",
       "  </tbody>\n",
       "</table>\n",
       "</div>"
      ],
      "text/plain": [
       "       ApplicantIncome  CoapplicantIncome  LoanAmount  Loan_Amount_Term  \\\n",
       "count       614.000000         614.000000  614.000000        614.000000   \n",
       "mean       5403.459283        1621.245798  145.752443        342.410423   \n",
       "std        6109.041673        2926.248369   84.107233         64.428629   \n",
       "min         150.000000           0.000000    9.000000         12.000000   \n",
       "25%        2877.500000           0.000000  100.250000        360.000000   \n",
       "50%        3812.500000        1188.500000  128.000000        360.000000   \n",
       "75%        5795.000000        2297.250000  164.750000        360.000000   \n",
       "max       81000.000000       41667.000000  700.000000        480.000000   \n",
       "\n",
       "       Credit_History  \n",
       "count      614.000000  \n",
       "mean         0.855049  \n",
       "std          0.352339  \n",
       "min          0.000000  \n",
       "25%          1.000000  \n",
       "50%          1.000000  \n",
       "75%          1.000000  \n",
       "max          1.000000  "
      ]
     },
     "execution_count": 6,
     "metadata": {},
     "output_type": "execute_result"
    }
   ],
   "source": [
    "df.describe()"
   ]
  },
  {
   "cell_type": "raw",
   "id": "8f6b59e6",
   "metadata": {},
   "source": [
    "### Total rows are 614 and total columns are 13, There is no missing values present in the dataset\n",
    "\n",
    "1.ApplicantIncome : Mean=5403 ,std=6109 ,min=150 , max=81000                      \n",
    "2.CoapplicantIncome: Mean=1621 ,std=2926,min=0 , max=41667\n",
    "3.LoanAmount: Mean=145.7 ,std=84.1 ,min=9,max=700                   \n",
    "4.Loan_Amount_Term: Mean=342.4 ,std=64.4 ,min=12 , max=480\n",
    "5.Credit_History: Mean=0.85 ,std=0.35 ,min=0,max=1                "
   ]
  },
  {
   "cell_type": "code",
   "execution_count": 7,
   "id": "6bb62ff4",
   "metadata": {},
   "outputs": [
    {
     "data": {
      "text/html": [
       "<div>\n",
       "<style scoped>\n",
       "    .dataframe tbody tr th:only-of-type {\n",
       "        vertical-align: middle;\n",
       "    }\n",
       "\n",
       "    .dataframe tbody tr th {\n",
       "        vertical-align: top;\n",
       "    }\n",
       "\n",
       "    .dataframe thead th {\n",
       "        text-align: right;\n",
       "    }\n",
       "</style>\n",
       "<table border=\"1\" class=\"dataframe\">\n",
       "  <thead>\n",
       "    <tr style=\"text-align: right;\">\n",
       "      <th></th>\n",
       "      <th>Loan_ID</th>\n",
       "      <th>Gender</th>\n",
       "      <th>Married</th>\n",
       "      <th>Dependents</th>\n",
       "      <th>Education</th>\n",
       "      <th>Self_Employed</th>\n",
       "      <th>Property_Area</th>\n",
       "      <th>Loan_Status</th>\n",
       "    </tr>\n",
       "  </thead>\n",
       "  <tbody>\n",
       "    <tr>\n",
       "      <th>count</th>\n",
       "      <td>614</td>\n",
       "      <td>614</td>\n",
       "      <td>614</td>\n",
       "      <td>614</td>\n",
       "      <td>614</td>\n",
       "      <td>614</td>\n",
       "      <td>614</td>\n",
       "      <td>614</td>\n",
       "    </tr>\n",
       "    <tr>\n",
       "      <th>unique</th>\n",
       "      <td>614</td>\n",
       "      <td>2</td>\n",
       "      <td>2</td>\n",
       "      <td>4</td>\n",
       "      <td>2</td>\n",
       "      <td>2</td>\n",
       "      <td>3</td>\n",
       "      <td>2</td>\n",
       "    </tr>\n",
       "    <tr>\n",
       "      <th>top</th>\n",
       "      <td>LP001487</td>\n",
       "      <td>Male</td>\n",
       "      <td>Yes</td>\n",
       "      <td>0</td>\n",
       "      <td>Graduate</td>\n",
       "      <td>No</td>\n",
       "      <td>Semiurban</td>\n",
       "      <td>Y</td>\n",
       "    </tr>\n",
       "    <tr>\n",
       "      <th>freq</th>\n",
       "      <td>1</td>\n",
       "      <td>502</td>\n",
       "      <td>401</td>\n",
       "      <td>360</td>\n",
       "      <td>480</td>\n",
       "      <td>532</td>\n",
       "      <td>233</td>\n",
       "      <td>422</td>\n",
       "    </tr>\n",
       "  </tbody>\n",
       "</table>\n",
       "</div>"
      ],
      "text/plain": [
       "         Loan_ID Gender Married Dependents Education Self_Employed  \\\n",
       "count        614    614     614        614       614           614   \n",
       "unique       614      2       2          4         2             2   \n",
       "top     LP001487   Male     Yes          0  Graduate            No   \n",
       "freq           1    502     401        360       480           532   \n",
       "\n",
       "       Property_Area Loan_Status  \n",
       "count            614         614  \n",
       "unique             3           2  \n",
       "top        Semiurban           Y  \n",
       "freq             233         422  "
      ]
     },
     "execution_count": 7,
     "metadata": {},
     "output_type": "execute_result"
    }
   ],
   "source": [
    "df.describe(include='O')"
   ]
  },
  {
   "cell_type": "raw",
   "id": "b3eafa20",
   "metadata": {},
   "source": [
    "### Categorical Data\n",
    "No missing data is presents\n",
    "#1.Loan_ID :614 unique value is presents,frequency is 1\n",
    "#2.Gender : 2 unique value is presents,frequency is 502\n",
    "#3.Married: 2 unique value is presents,frequency is 401\n",
    "#4.Dependents:4 unique value is presents,frequency is 360\n",
    "#5.Education :2 unique value is presents,frequency is 480\n",
    "#6.Self_Employed:2 unique value is presents,frequency is 532\n",
    "#7.Property_Area:3 unique value is presents,frequency is 233\n",
    "#8.Loan_Status:2 unique value is presents,frequency is 422\n",
    "\n",
    "\n",
    "Loan_Status:It is also outcome or target variable.It is categorical data we consider it as output for classification problem"
   ]
  },
  {
   "cell_type": "code",
   "execution_count": 8,
   "id": "f12b55a1",
   "metadata": {},
   "outputs": [
    {
     "name": "stdout",
     "output_type": "stream",
     "text": [
      "<class 'pandas.core.frame.DataFrame'>\n",
      "RangeIndex: 614 entries, 0 to 613\n",
      "Data columns (total 13 columns):\n",
      " #   Column             Non-Null Count  Dtype  \n",
      "---  ------             --------------  -----  \n",
      " 0   Loan_ID            614 non-null    object \n",
      " 1   Gender             614 non-null    object \n",
      " 2   Married            614 non-null    object \n",
      " 3   Dependents         614 non-null    object \n",
      " 4   Education          614 non-null    object \n",
      " 5   Self_Employed      614 non-null    object \n",
      " 6   ApplicantIncome    614 non-null    int64  \n",
      " 7   CoapplicantIncome  614 non-null    float64\n",
      " 8   LoanAmount         614 non-null    float64\n",
      " 9   Loan_Amount_Term   614 non-null    float64\n",
      " 10  Credit_History     614 non-null    float64\n",
      " 11  Property_Area      614 non-null    object \n",
      " 12  Loan_Status        614 non-null    object \n",
      "dtypes: float64(4), int64(1), object(8)\n",
      "memory usage: 62.5+ KB\n"
     ]
    }
   ],
   "source": [
    "df.info()"
   ]
  },
  {
   "cell_type": "raw",
   "id": "1eafd8dd",
   "metadata": {},
   "source": [
    "## Total rows= 614\n",
    "  Total columns= 13\n",
    "  Total 8 columns are object type, 1 integer type,and 4 float type \n",
    "         \n",
    " memory usage is 62.5 +KB"
   ]
  },
  {
   "cell_type": "code",
   "execution_count": null,
   "id": "ddb48141",
   "metadata": {},
   "outputs": [],
   "source": [
    "# Data visualization"
   ]
  },
  {
   "cell_type": "code",
   "execution_count": 64,
   "id": "dadd0f97",
   "metadata": {
    "scrolled": true
   },
   "outputs": [
    {
     "data": {
      "text/plain": [
       "<Figure size 720x360 with 0 Axes>"
      ]
     },
     "metadata": {},
     "output_type": "display_data"
    },
    {
     "data": {
      "image/png": "[encoded data removed]",
      "text/plain": [
       "<Figure size 428.625x360 with 1 Axes>"
      ]
     },
     "metadata": {
      "needs_background": "light"
     },
     "output_type": "display_data"
    }
   ],
   "source": [
    "plt.figure(figsize=(10,5))\n",
    "sns.catplot(x='Gender',hue='Loan_Status',kind='count',data=df)\n",
    "plt.show()"
   ]
  },
  {
   "cell_type": "code",
   "execution_count": 17,
   "id": "29f16f17",
   "metadata": {},
   "outputs": [
    {
     "data": {
      "text/html": [
       "<div>\n",
       "<style scoped>\n",
       "    .dataframe tbody tr th:only-of-type {\n",
       "        vertical-align: middle;\n",
       "    }\n",
       "\n",
       "    .dataframe tbody tr th {\n",
       "        vertical-align: top;\n",
       "    }\n",
       "\n",
       "    .dataframe thead th {\n",
       "        text-align: right;\n",
       "    }\n",
       "</style>\n",
       "<table border=\"1\" class=\"dataframe\">\n",
       "  <thead>\n",
       "    <tr style=\"text-align: right;\">\n",
       "      <th>Loan_Status</th>\n",
       "      <th>N</th>\n",
       "      <th>Y</th>\n",
       "    </tr>\n",
       "    <tr>\n",
       "      <th>Gender</th>\n",
       "      <th></th>\n",
       "      <th></th>\n",
       "    </tr>\n",
       "  </thead>\n",
       "  <tbody>\n",
       "    <tr>\n",
       "      <th>Female</th>\n",
       "      <td>0.330357</td>\n",
       "      <td>0.669643</td>\n",
       "    </tr>\n",
       "    <tr>\n",
       "      <th>Male</th>\n",
       "      <td>0.308765</td>\n",
       "      <td>0.691235</td>\n",
       "    </tr>\n",
       "    <tr>\n",
       "      <th>All</th>\n",
       "      <td>0.312704</td>\n",
       "      <td>0.687296</td>\n",
       "    </tr>\n",
       "  </tbody>\n",
       "</table>\n",
       "</div>"
      ],
      "text/plain": [
       "Loan_Status         N         Y\n",
       "Gender                         \n",
       "Female       0.330357  0.669643\n",
       "Male         0.308765  0.691235\n",
       "All          0.312704  0.687296"
      ]
     },
     "execution_count": 17,
     "metadata": {},
     "output_type": "execute_result"
    }
   ],
   "source": [
    "pd.crosstab(columns=[df.Loan_Status],index=[df.Gender],margins=True,normalize='index')"
   ]
  },
  {
   "cell_type": "code",
   "execution_count": null,
   "id": "efeb6480",
   "metadata": {},
   "outputs": [],
   "source": [
    "# Male has slight more chances to approve loan than female"
   ]
  },
  {
   "cell_type": "code",
   "execution_count": 65,
   "id": "7413b32a",
   "metadata": {
    "scrolled": true
   },
   "outputs": [
    {
     "data": {
      "text/plain": [
       "<Figure size 720x360 with 0 Axes>"
      ]
     },
     "metadata": {},
     "output_type": "display_data"
    },
    {
     "data": {
      "image/png": "[encoded data removed]",
      "text/plain": [
       "<Figure size 428.625x360 with 1 Axes>"
      ]
     },
     "metadata": {
      "needs_background": "light"
     },
     "output_type": "display_data"
    }
   ],
   "source": [
    "plt.figure(figsize=(10,5))\n",
    "sns.catplot(x='Married',hue='Loan_Status',kind='count',data=df)\n",
    "plt.show()"
   ]
  },
  {
   "cell_type": "code",
   "execution_count": 18,
   "id": "983ba572",
   "metadata": {},
   "outputs": [
    {
     "data": {
      "text/html": [
       "<div>\n",
       "<style scoped>\n",
       "    .dataframe tbody tr th:only-of-type {\n",
       "        vertical-align: middle;\n",
       "    }\n",
       "\n",
       "    .dataframe tbody tr th {\n",
       "        vertical-align: top;\n",
       "    }\n",
       "\n",
       "    .dataframe thead th {\n",
       "        text-align: right;\n",
       "    }\n",
       "</style>\n",
       "<table border=\"1\" class=\"dataframe\">\n",
       "  <thead>\n",
       "    <tr style=\"text-align: right;\">\n",
       "      <th>Loan_Status</th>\n",
       "      <th>N</th>\n",
       "      <th>Y</th>\n",
       "    </tr>\n",
       "    <tr>\n",
       "      <th>Married</th>\n",
       "      <th></th>\n",
       "      <th></th>\n",
       "    </tr>\n",
       "  </thead>\n",
       "  <tbody>\n",
       "    <tr>\n",
       "      <th>No</th>\n",
       "      <td>0.370892</td>\n",
       "      <td>0.629108</td>\n",
       "    </tr>\n",
       "    <tr>\n",
       "      <th>Yes</th>\n",
       "      <td>0.281796</td>\n",
       "      <td>0.718204</td>\n",
       "    </tr>\n",
       "    <tr>\n",
       "      <th>All</th>\n",
       "      <td>0.312704</td>\n",
       "      <td>0.687296</td>\n",
       "    </tr>\n",
       "  </tbody>\n",
       "</table>\n",
       "</div>"
      ],
      "text/plain": [
       "Loan_Status         N         Y\n",
       "Married                        \n",
       "No           0.370892  0.629108\n",
       "Yes          0.281796  0.718204\n",
       "All          0.312704  0.687296"
      ]
     },
     "execution_count": 18,
     "metadata": {},
     "output_type": "execute_result"
    }
   ],
   "source": [
    "pd.crosstab(columns=[df.Loan_Status],index=[df.Married],margins=True,normalize='index')"
   ]
  },
  {
   "cell_type": "code",
   "execution_count": null,
   "id": "88d6bde7",
   "metadata": {},
   "outputs": [],
   "source": [
    "# Married people have more chances to approve loan"
   ]
  },
  {
   "cell_type": "code",
   "execution_count": 66,
   "id": "0c9231d9",
   "metadata": {
    "scrolled": true
   },
   "outputs": [
    {
     "data": {
      "text/plain": [
       "<Figure size 720x360 with 0 Axes>"
      ]
     },
     "metadata": {},
     "output_type": "display_data"
    },
    {
     "data": {
      "image/png": "[encoded data removed]",
      "text/plain": [
       "<Figure size 428.625x360 with 1 Axes>"
      ]
     },
     "metadata": {
      "needs_background": "light"
     },
     "output_type": "display_data"
    }
   ],
   "source": [
    "plt.figure(figsize=(10,5))\n",
    "sns.catplot(x='Dependents',hue='Loan_Status',kind='count',data=df)\n",
    "plt.show()"
   ]
  },
  {
   "cell_type": "code",
   "execution_count": 19,
   "id": "2be3b6b5",
   "metadata": {},
   "outputs": [
    {
     "data": {
      "text/html": [
       "<div>\n",
       "<style scoped>\n",
       "    .dataframe tbody tr th:only-of-type {\n",
       "        vertical-align: middle;\n",
       "    }\n",
       "\n",
       "    .dataframe tbody tr th {\n",
       "        vertical-align: top;\n",
       "    }\n",
       "\n",
       "    .dataframe thead th {\n",
       "        text-align: right;\n",
       "    }\n",
       "</style>\n",
       "<table border=\"1\" class=\"dataframe\">\n",
       "  <thead>\n",
       "    <tr style=\"text-align: right;\">\n",
       "      <th>Loan_Status</th>\n",
       "      <th>N</th>\n",
       "      <th>Y</th>\n",
       "    </tr>\n",
       "    <tr>\n",
       "      <th>Dependents</th>\n",
       "      <th></th>\n",
       "      <th></th>\n",
       "    </tr>\n",
       "  </thead>\n",
       "  <tbody>\n",
       "    <tr>\n",
       "      <th>0</th>\n",
       "      <td>0.313889</td>\n",
       "      <td>0.686111</td>\n",
       "    </tr>\n",
       "    <tr>\n",
       "      <th>1</th>\n",
       "      <td>0.352941</td>\n",
       "      <td>0.647059</td>\n",
       "    </tr>\n",
       "    <tr>\n",
       "      <th>2</th>\n",
       "      <td>0.247525</td>\n",
       "      <td>0.752475</td>\n",
       "    </tr>\n",
       "    <tr>\n",
       "      <th>3+</th>\n",
       "      <td>0.352941</td>\n",
       "      <td>0.647059</td>\n",
       "    </tr>\n",
       "    <tr>\n",
       "      <th>All</th>\n",
       "      <td>0.312704</td>\n",
       "      <td>0.687296</td>\n",
       "    </tr>\n",
       "  </tbody>\n",
       "</table>\n",
       "</div>"
      ],
      "text/plain": [
       "Loan_Status         N         Y\n",
       "Dependents                     \n",
       "0            0.313889  0.686111\n",
       "1            0.352941  0.647059\n",
       "2            0.247525  0.752475\n",
       "3+           0.352941  0.647059\n",
       "All          0.312704  0.687296"
      ]
     },
     "execution_count": 19,
     "metadata": {},
     "output_type": "execute_result"
    }
   ],
   "source": [
    "pd.crosstab(columns=[df.Loan_Status],index=[df.Dependents],margins=True,normalize='index')"
   ]
  },
  {
   "cell_type": "code",
   "execution_count": null,
   "id": "1e2ea5b1",
   "metadata": {},
   "outputs": [],
   "source": [
    "# zero dependency has more chances for loan approval.Overall 68% chances of loan approval for dependent people"
   ]
  },
  {
   "cell_type": "code",
   "execution_count": 87,
   "id": "b28af1ab",
   "metadata": {},
   "outputs": [
    {
     "data": {
      "text/plain": [
       "<Figure size 720x360 with 0 Axes>"
      ]
     },
     "metadata": {},
     "output_type": "display_data"
    },
    {
     "data": {
      "image/png": "[encoded data removed]",
      "text/plain": [
       "<Figure size 428.625x360 with 1 Axes>"
      ]
     },
     "metadata": {
      "needs_background": "light"
     },
     "output_type": "display_data"
    }
   ],
   "source": [
    "plt.figure(figsize=(10,5))\n",
    "sns.catplot(x='Education',hue='Loan_Status',kind='count',data=df)\n",
    "plt.show()"
   ]
  },
  {
   "cell_type": "code",
   "execution_count": 20,
   "id": "6fdcfeb7",
   "metadata": {},
   "outputs": [
    {
     "data": {
      "text/html": [
       "<div>\n",
       "<style scoped>\n",
       "    .dataframe tbody tr th:only-of-type {\n",
       "        vertical-align: middle;\n",
       "    }\n",
       "\n",
       "    .dataframe tbody tr th {\n",
       "        vertical-align: top;\n",
       "    }\n",
       "\n",
       "    .dataframe thead th {\n",
       "        text-align: right;\n",
       "    }\n",
       "</style>\n",
       "<table border=\"1\" class=\"dataframe\">\n",
       "  <thead>\n",
       "    <tr style=\"text-align: right;\">\n",
       "      <th>Loan_Status</th>\n",
       "      <th>N</th>\n",
       "      <th>Y</th>\n",
       "    </tr>\n",
       "    <tr>\n",
       "      <th>Education</th>\n",
       "      <th></th>\n",
       "      <th></th>\n",
       "    </tr>\n",
       "  </thead>\n",
       "  <tbody>\n",
       "    <tr>\n",
       "      <th>Graduate</th>\n",
       "      <td>0.291667</td>\n",
       "      <td>0.708333</td>\n",
       "    </tr>\n",
       "    <tr>\n",
       "      <th>Not Graduate</th>\n",
       "      <td>0.388060</td>\n",
       "      <td>0.611940</td>\n",
       "    </tr>\n",
       "    <tr>\n",
       "      <th>All</th>\n",
       "      <td>0.312704</td>\n",
       "      <td>0.687296</td>\n",
       "    </tr>\n",
       "  </tbody>\n",
       "</table>\n",
       "</div>"
      ],
      "text/plain": [
       "Loan_Status          N         Y\n",
       "Education                       \n",
       "Graduate      0.291667  0.708333\n",
       "Not Graduate  0.388060  0.611940\n",
       "All           0.312704  0.687296"
      ]
     },
     "execution_count": 20,
     "metadata": {},
     "output_type": "execute_result"
    }
   ],
   "source": [
    "pd.crosstab(columns=[df.Loan_Status],index=[df.Education],margins=True,normalize='index')"
   ]
  },
  {
   "cell_type": "code",
   "execution_count": null,
   "id": "65a34908",
   "metadata": {},
   "outputs": [],
   "source": [
    "# Graduate has more chances to approve loan"
   ]
  },
  {
   "cell_type": "code",
   "execution_count": 88,
   "id": "d1457435",
   "metadata": {},
   "outputs": [
    {
     "data": {
      "text/plain": [
       "<Figure size 720x360 with 0 Axes>"
      ]
     },
     "metadata": {},
     "output_type": "display_data"
    },
    {
     "data": {
      "image/png": "[encoded data removed]",
      "text/plain": [
       "<Figure size 428.625x360 with 1 Axes>"
      ]
     },
     "metadata": {
      "needs_background": "light"
     },
     "output_type": "display_data"
    }
   ],
   "source": [
    "plt.figure(figsize=(10,5))\n",
    "sns.catplot(x='Self_Employed',hue='Loan_Status',kind='count',data=df)\n",
    "plt.show()"
   ]
  },
  {
   "cell_type": "code",
   "execution_count": 21,
   "id": "15b4d569",
   "metadata": {},
   "outputs": [
    {
     "data": {
      "text/html": [
       "<div>\n",
       "<style scoped>\n",
       "    .dataframe tbody tr th:only-of-type {\n",
       "        vertical-align: middle;\n",
       "    }\n",
       "\n",
       "    .dataframe tbody tr th {\n",
       "        vertical-align: top;\n",
       "    }\n",
       "\n",
       "    .dataframe thead th {\n",
       "        text-align: right;\n",
       "    }\n",
       "</style>\n",
       "<table border=\"1\" class=\"dataframe\">\n",
       "  <thead>\n",
       "    <tr style=\"text-align: right;\">\n",
       "      <th>Loan_Status</th>\n",
       "      <th>N</th>\n",
       "      <th>Y</th>\n",
       "    </tr>\n",
       "    <tr>\n",
       "      <th>Self_Employed</th>\n",
       "      <th></th>\n",
       "      <th></th>\n",
       "    </tr>\n",
       "  </thead>\n",
       "  <tbody>\n",
       "    <tr>\n",
       "      <th>No</th>\n",
       "      <td>0.312030</td>\n",
       "      <td>0.687970</td>\n",
       "    </tr>\n",
       "    <tr>\n",
       "      <th>Yes</th>\n",
       "      <td>0.317073</td>\n",
       "      <td>0.682927</td>\n",
       "    </tr>\n",
       "    <tr>\n",
       "      <th>All</th>\n",
       "      <td>0.312704</td>\n",
       "      <td>0.687296</td>\n",
       "    </tr>\n",
       "  </tbody>\n",
       "</table>\n",
       "</div>"
      ],
      "text/plain": [
       "Loan_Status           N         Y\n",
       "Self_Employed                    \n",
       "No             0.312030  0.687970\n",
       "Yes            0.317073  0.682927\n",
       "All            0.312704  0.687296"
      ]
     },
     "execution_count": 21,
     "metadata": {},
     "output_type": "execute_result"
    }
   ],
   "source": [
    "pd.crosstab(columns=[df.Loan_Status],index=[df.Self_Employed],margins=True,normalize='index')"
   ]
  },
  {
   "cell_type": "code",
   "execution_count": null,
   "id": "16aece7d",
   "metadata": {},
   "outputs": [],
   "source": [
    "# person is not self employed having slight more chances of loan approval"
   ]
  },
  {
   "cell_type": "code",
   "execution_count": 89,
   "id": "893970a5",
   "metadata": {},
   "outputs": [
    {
     "data": {
      "text/plain": [
       "<Figure size 720x360 with 0 Axes>"
      ]
     },
     "metadata": {},
     "output_type": "display_data"
    },
    {
     "data": {
      "image/png": "[encoded data removed]",
      "text/plain": [
       "<Figure size 428.625x360 with 1 Axes>"
      ]
     },
     "metadata": {
      "needs_background": "light"
     },
     "output_type": "display_data"
    }
   ],
   "source": [
    "plt.figure(figsize=(10,5))\n",
    "sns.catplot(x='Property_Area',hue='Loan_Status',kind='count',data=df)\n",
    "plt.show()"
   ]
  },
  {
   "cell_type": "code",
   "execution_count": 22,
   "id": "c470e2e1",
   "metadata": {},
   "outputs": [
    {
     "data": {
      "text/html": [
       "<div>\n",
       "<style scoped>\n",
       "    .dataframe tbody tr th:only-of-type {\n",
       "        vertical-align: middle;\n",
       "    }\n",
       "\n",
       "    .dataframe tbody tr th {\n",
       "        vertical-align: top;\n",
       "    }\n",
       "\n",
       "    .dataframe thead th {\n",
       "        text-align: right;\n",
       "    }\n",
       "</style>\n",
       "<table border=\"1\" class=\"dataframe\">\n",
       "  <thead>\n",
       "    <tr style=\"text-align: right;\">\n",
       "      <th>Loan_Status</th>\n",
       "      <th>N</th>\n",
       "      <th>Y</th>\n",
       "    </tr>\n",
       "    <tr>\n",
       "      <th>Property_Area</th>\n",
       "      <th></th>\n",
       "      <th></th>\n",
       "    </tr>\n",
       "  </thead>\n",
       "  <tbody>\n",
       "    <tr>\n",
       "      <th>Rural</th>\n",
       "      <td>0.385475</td>\n",
       "      <td>0.614525</td>\n",
       "    </tr>\n",
       "    <tr>\n",
       "      <th>Semiurban</th>\n",
       "      <td>0.231760</td>\n",
       "      <td>0.768240</td>\n",
       "    </tr>\n",
       "    <tr>\n",
       "      <th>Urban</th>\n",
       "      <td>0.341584</td>\n",
       "      <td>0.658416</td>\n",
       "    </tr>\n",
       "    <tr>\n",
       "      <th>All</th>\n",
       "      <td>0.312704</td>\n",
       "      <td>0.687296</td>\n",
       "    </tr>\n",
       "  </tbody>\n",
       "</table>\n",
       "</div>"
      ],
      "text/plain": [
       "Loan_Status           N         Y\n",
       "Property_Area                    \n",
       "Rural          0.385475  0.614525\n",
       "Semiurban      0.231760  0.768240\n",
       "Urban          0.341584  0.658416\n",
       "All            0.312704  0.687296"
      ]
     },
     "execution_count": 22,
     "metadata": {},
     "output_type": "execute_result"
    }
   ],
   "source": [
    "pd.crosstab(columns=[df.Loan_Status],index=[df.Property_Area],margins=True,normalize='index')"
   ]
  },
  {
   "cell_type": "code",
   "execution_count": null,
   "id": "0010f0d3",
   "metadata": {},
   "outputs": [],
   "source": [
    "# Semiurban people has more chances to pass loan"
   ]
  },
  {
   "cell_type": "code",
   "execution_count": null,
   "id": "a42c09d7",
   "metadata": {},
   "outputs": [],
   "source": [
    "# Loan_ID is not related with Loan_Status"
   ]
  },
  {
   "cell_type": "code",
   "execution_count": 108,
   "id": "a5d86578",
   "metadata": {},
   "outputs": [
    {
     "data": {
      "image/png": "[encoded data removed]",
      "text/plain": [
       "<Figure size 360x360 with 1 Axes>"
      ]
     },
     "metadata": {
      "needs_background": "light"
     },
     "output_type": "display_data"
    }
   ],
   "source": [
    "plt.figure(figsize=(5,5))\n",
    "sns.barplot(x='Loan_Status',y='ApplicantIncome',hue='Gender',data=df)\n",
    "plt.show()"
   ]
  },
  {
   "cell_type": "code",
   "execution_count": 23,
   "id": "db013c98",
   "metadata": {},
   "outputs": [
    {
     "data": {
      "text/html": [
       "<div>\n",
       "<style scoped>\n",
       "    .dataframe tbody tr th:only-of-type {\n",
       "        vertical-align: middle;\n",
       "    }\n",
       "\n",
       "    .dataframe tbody tr th {\n",
       "        vertical-align: top;\n",
       "    }\n",
       "\n",
       "    .dataframe thead th {\n",
       "        text-align: right;\n",
       "    }\n",
       "</style>\n",
       "<table border=\"1\" class=\"dataframe\">\n",
       "  <thead>\n",
       "    <tr style=\"text-align: right;\">\n",
       "      <th>Loan_Status</th>\n",
       "      <th>N</th>\n",
       "      <th>Y</th>\n",
       "    </tr>\n",
       "    <tr>\n",
       "      <th>ApplicantIncome</th>\n",
       "      <th></th>\n",
       "      <th></th>\n",
       "    </tr>\n",
       "  </thead>\n",
       "  <tbody>\n",
       "    <tr>\n",
       "      <th>150</th>\n",
       "      <td>1.000000</td>\n",
       "      <td>0.000000</td>\n",
       "    </tr>\n",
       "    <tr>\n",
       "      <th>210</th>\n",
       "      <td>0.000000</td>\n",
       "      <td>1.000000</td>\n",
       "    </tr>\n",
       "    <tr>\n",
       "      <th>416</th>\n",
       "      <td>1.000000</td>\n",
       "      <td>0.000000</td>\n",
       "    </tr>\n",
       "    <tr>\n",
       "      <th>645</th>\n",
       "      <td>0.000000</td>\n",
       "      <td>1.000000</td>\n",
       "    </tr>\n",
       "    <tr>\n",
       "      <th>674</th>\n",
       "      <td>0.000000</td>\n",
       "      <td>1.000000</td>\n",
       "    </tr>\n",
       "    <tr>\n",
       "      <th>...</th>\n",
       "      <td>...</td>\n",
       "      <td>...</td>\n",
       "    </tr>\n",
       "    <tr>\n",
       "      <th>39999</th>\n",
       "      <td>0.000000</td>\n",
       "      <td>1.000000</td>\n",
       "    </tr>\n",
       "    <tr>\n",
       "      <th>51763</th>\n",
       "      <td>0.000000</td>\n",
       "      <td>1.000000</td>\n",
       "    </tr>\n",
       "    <tr>\n",
       "      <th>63337</th>\n",
       "      <td>0.000000</td>\n",
       "      <td>1.000000</td>\n",
       "    </tr>\n",
       "    <tr>\n",
       "      <th>81000</th>\n",
       "      <td>1.000000</td>\n",
       "      <td>0.000000</td>\n",
       "    </tr>\n",
       "    <tr>\n",
       "      <th>All</th>\n",
       "      <td>0.312704</td>\n",
       "      <td>0.687296</td>\n",
       "    </tr>\n",
       "  </tbody>\n",
       "</table>\n",
       "<p>506 rows × 2 columns</p>\n",
       "</div>"
      ],
      "text/plain": [
       "Loan_Status             N         Y\n",
       "ApplicantIncome                    \n",
       "150              1.000000  0.000000\n",
       "210              0.000000  1.000000\n",
       "416              1.000000  0.000000\n",
       "645              0.000000  1.000000\n",
       "674              0.000000  1.000000\n",
       "...                   ...       ...\n",
       "39999            0.000000  1.000000\n",
       "51763            0.000000  1.000000\n",
       "63337            0.000000  1.000000\n",
       "81000            1.000000  0.000000\n",
       "All              0.312704  0.687296\n",
       "\n",
       "[506 rows x 2 columns]"
      ]
     },
     "execution_count": 23,
     "metadata": {},
     "output_type": "execute_result"
    }
   ],
   "source": [
    "pd.crosstab(columns=[df.Loan_Status],index=[df.ApplicantIncome],margins=True,normalize='index')"
   ]
  },
  {
   "cell_type": "code",
   "execution_count": null,
   "id": "910609b1",
   "metadata": {},
   "outputs": [],
   "source": [
    "# If applicants income is more chances of loan approval is more"
   ]
  },
  {
   "cell_type": "code",
   "execution_count": 109,
   "id": "1d5a448e",
   "metadata": {},
   "outputs": [
    {
     "data": {
      "image/png": "[encoded data removed]",
      "text/plain": [
       "<Figure size 360x360 with 1 Axes>"
      ]
     },
     "metadata": {
      "needs_background": "light"
     },
     "output_type": "display_data"
    }
   ],
   "source": [
    "plt.figure(figsize=(5,5))\n",
    "sns.barplot(x='Loan_Status',y='CoapplicantIncome',hue='Married',data=df)\n",
    "plt.show()"
   ]
  },
  {
   "cell_type": "code",
   "execution_count": 24,
   "id": "939a53b5",
   "metadata": {},
   "outputs": [
    {
     "data": {
      "text/html": [
       "<div>\n",
       "<style scoped>\n",
       "    .dataframe tbody tr th:only-of-type {\n",
       "        vertical-align: middle;\n",
       "    }\n",
       "\n",
       "    .dataframe tbody tr th {\n",
       "        vertical-align: top;\n",
       "    }\n",
       "\n",
       "    .dataframe thead th {\n",
       "        text-align: right;\n",
       "    }\n",
       "</style>\n",
       "<table border=\"1\" class=\"dataframe\">\n",
       "  <thead>\n",
       "    <tr style=\"text-align: right;\">\n",
       "      <th>Loan_Status</th>\n",
       "      <th>N</th>\n",
       "      <th>Y</th>\n",
       "    </tr>\n",
       "    <tr>\n",
       "      <th>CoapplicantIncome</th>\n",
       "      <th></th>\n",
       "      <th></th>\n",
       "    </tr>\n",
       "  </thead>\n",
       "  <tbody>\n",
       "    <tr>\n",
       "      <th>0.0</th>\n",
       "      <td>0.351648</td>\n",
       "      <td>0.648352</td>\n",
       "    </tr>\n",
       "    <tr>\n",
       "      <th>16.12000084</th>\n",
       "      <td>0.000000</td>\n",
       "      <td>1.000000</td>\n",
       "    </tr>\n",
       "    <tr>\n",
       "      <th>189.0</th>\n",
       "      <td>0.000000</td>\n",
       "      <td>1.000000</td>\n",
       "    </tr>\n",
       "    <tr>\n",
       "      <th>240.0</th>\n",
       "      <td>0.000000</td>\n",
       "      <td>1.000000</td>\n",
       "    </tr>\n",
       "    <tr>\n",
       "      <th>242.0</th>\n",
       "      <td>0.000000</td>\n",
       "      <td>1.000000</td>\n",
       "    </tr>\n",
       "    <tr>\n",
       "      <th>...</th>\n",
       "      <td>...</td>\n",
       "      <td>...</td>\n",
       "    </tr>\n",
       "    <tr>\n",
       "      <th>11300.0</th>\n",
       "      <td>1.000000</td>\n",
       "      <td>0.000000</td>\n",
       "    </tr>\n",
       "    <tr>\n",
       "      <th>20000.0</th>\n",
       "      <td>0.500000</td>\n",
       "      <td>0.500000</td>\n",
       "    </tr>\n",
       "    <tr>\n",
       "      <th>33837.0</th>\n",
       "      <td>1.000000</td>\n",
       "      <td>0.000000</td>\n",
       "    </tr>\n",
       "    <tr>\n",
       "      <th>41667.0</th>\n",
       "      <td>1.000000</td>\n",
       "      <td>0.000000</td>\n",
       "    </tr>\n",
       "    <tr>\n",
       "      <th>All</th>\n",
       "      <td>0.312704</td>\n",
       "      <td>0.687296</td>\n",
       "    </tr>\n",
       "  </tbody>\n",
       "</table>\n",
       "<p>288 rows × 2 columns</p>\n",
       "</div>"
      ],
      "text/plain": [
       "Loan_Status               N         Y\n",
       "CoapplicantIncome                    \n",
       "0.0                0.351648  0.648352\n",
       "16.12000084        0.000000  1.000000\n",
       "189.0              0.000000  1.000000\n",
       "240.0              0.000000  1.000000\n",
       "242.0              0.000000  1.000000\n",
       "...                     ...       ...\n",
       "11300.0            1.000000  0.000000\n",
       "20000.0            0.500000  0.500000\n",
       "33837.0            1.000000  0.000000\n",
       "41667.0            1.000000  0.000000\n",
       "All                0.312704  0.687296\n",
       "\n",
       "[288 rows x 2 columns]"
      ]
     },
     "execution_count": 24,
     "metadata": {},
     "output_type": "execute_result"
    }
   ],
   "source": [
    "pd.crosstab(columns=[df.Loan_Status],index=[df.CoapplicantIncome],margins=True,normalize='index')"
   ]
  },
  {
   "cell_type": "code",
   "execution_count": null,
   "id": "744fa8f9",
   "metadata": {},
   "outputs": [],
   "source": [
    "# coapplicants income are not directly related to loan pass, overall 68% chances to approve loan for coapplicants income"
   ]
  },
  {
   "cell_type": "code",
   "execution_count": 112,
   "id": "789dd3a3",
   "metadata": {},
   "outputs": [
    {
     "data": {
      "image/png": "[encoded data removed]",
      "text/plain": [
       "<Figure size 360x360 with 1 Axes>"
      ]
     },
     "metadata": {
      "needs_background": "light"
     },
     "output_type": "display_data"
    }
   ],
   "source": [
    "plt.figure(figsize=(5,5))\n",
    "sns.barplot(x='Loan_Status',y='LoanAmount',hue='Gender',data=df)\n",
    "plt.show()"
   ]
  },
  {
   "cell_type": "code",
   "execution_count": null,
   "id": "086517fa",
   "metadata": {},
   "outputs": [],
   "source": [
    "# male has high loan_amount than female and approval chances are more"
   ]
  },
  {
   "cell_type": "code",
   "execution_count": 25,
   "id": "1a5dfd41",
   "metadata": {},
   "outputs": [
    {
     "data": {
      "text/html": [
       "<div>\n",
       "<style scoped>\n",
       "    .dataframe tbody tr th:only-of-type {\n",
       "        vertical-align: middle;\n",
       "    }\n",
       "\n",
       "    .dataframe tbody tr th {\n",
       "        vertical-align: top;\n",
       "    }\n",
       "\n",
       "    .dataframe thead th {\n",
       "        text-align: right;\n",
       "    }\n",
       "</style>\n",
       "<table border=\"1\" class=\"dataframe\">\n",
       "  <thead>\n",
       "    <tr style=\"text-align: right;\">\n",
       "      <th>Loan_Status</th>\n",
       "      <th>N</th>\n",
       "      <th>Y</th>\n",
       "    </tr>\n",
       "    <tr>\n",
       "      <th>LoanAmount</th>\n",
       "      <th></th>\n",
       "      <th></th>\n",
       "    </tr>\n",
       "  </thead>\n",
       "  <tbody>\n",
       "    <tr>\n",
       "      <th>9.0</th>\n",
       "      <td>1.000000</td>\n",
       "      <td>0.000000</td>\n",
       "    </tr>\n",
       "    <tr>\n",
       "      <th>17.0</th>\n",
       "      <td>0.000000</td>\n",
       "      <td>1.000000</td>\n",
       "    </tr>\n",
       "    <tr>\n",
       "      <th>25.0</th>\n",
       "      <td>0.000000</td>\n",
       "      <td>1.000000</td>\n",
       "    </tr>\n",
       "    <tr>\n",
       "      <th>26.0</th>\n",
       "      <td>0.000000</td>\n",
       "      <td>1.000000</td>\n",
       "    </tr>\n",
       "    <tr>\n",
       "      <th>30.0</th>\n",
       "      <td>0.000000</td>\n",
       "      <td>1.000000</td>\n",
       "    </tr>\n",
       "    <tr>\n",
       "      <th>...</th>\n",
       "      <td>...</td>\n",
       "      <td>...</td>\n",
       "    </tr>\n",
       "    <tr>\n",
       "      <th>570.0</th>\n",
       "      <td>1.000000</td>\n",
       "      <td>0.000000</td>\n",
       "    </tr>\n",
       "    <tr>\n",
       "      <th>600.0</th>\n",
       "      <td>0.000000</td>\n",
       "      <td>1.000000</td>\n",
       "    </tr>\n",
       "    <tr>\n",
       "      <th>650.0</th>\n",
       "      <td>0.000000</td>\n",
       "      <td>1.000000</td>\n",
       "    </tr>\n",
       "    <tr>\n",
       "      <th>700.0</th>\n",
       "      <td>0.000000</td>\n",
       "      <td>1.000000</td>\n",
       "    </tr>\n",
       "    <tr>\n",
       "      <th>All</th>\n",
       "      <td>0.312704</td>\n",
       "      <td>0.687296</td>\n",
       "    </tr>\n",
       "  </tbody>\n",
       "</table>\n",
       "<p>204 rows × 2 columns</p>\n",
       "</div>"
      ],
      "text/plain": [
       "Loan_Status         N         Y\n",
       "LoanAmount                     \n",
       "9.0          1.000000  0.000000\n",
       "17.0         0.000000  1.000000\n",
       "25.0         0.000000  1.000000\n",
       "26.0         0.000000  1.000000\n",
       "30.0         0.000000  1.000000\n",
       "...               ...       ...\n",
       "570.0        1.000000  0.000000\n",
       "600.0        0.000000  1.000000\n",
       "650.0        0.000000  1.000000\n",
       "700.0        0.000000  1.000000\n",
       "All          0.312704  0.687296\n",
       "\n",
       "[204 rows x 2 columns]"
      ]
     },
     "execution_count": 25,
     "metadata": {},
     "output_type": "execute_result"
    }
   ],
   "source": [
    "pd.crosstab(columns=[df.Loan_Status],index=[df.LoanAmount],margins=True,normalize='index')"
   ]
  },
  {
   "cell_type": "code",
   "execution_count": null,
   "id": "9d197e1d",
   "metadata": {},
   "outputs": [],
   "source": [
    "# 68% loanamount is dependent on loan approval"
   ]
  },
  {
   "cell_type": "code",
   "execution_count": 101,
   "id": "2ea66cfd",
   "metadata": {},
   "outputs": [
    {
     "data": {
      "image/png": "[encoded data removed]",
      "text/plain": [
       "<Figure size 360x360 with 1 Axes>"
      ]
     },
     "metadata": {
      "needs_background": "light"
     },
     "output_type": "display_data"
    }
   ],
   "source": [
    "plt.figure(figsize=(5,5))\n",
    "sns.barplot(x='Loan_Status',y='Loan_Amount_Term',data=df)\n",
    "plt.show()"
   ]
  },
  {
   "cell_type": "code",
   "execution_count": 26,
   "id": "ab39210b",
   "metadata": {
    "scrolled": true
   },
   "outputs": [
    {
     "data": {
      "text/html": [
       "<div>\n",
       "<style scoped>\n",
       "    .dataframe tbody tr th:only-of-type {\n",
       "        vertical-align: middle;\n",
       "    }\n",
       "\n",
       "    .dataframe tbody tr th {\n",
       "        vertical-align: top;\n",
       "    }\n",
       "\n",
       "    .dataframe thead th {\n",
       "        text-align: right;\n",
       "    }\n",
       "</style>\n",
       "<table border=\"1\" class=\"dataframe\">\n",
       "  <thead>\n",
       "    <tr style=\"text-align: right;\">\n",
       "      <th>Loan_Status</th>\n",
       "      <th>N</th>\n",
       "      <th>Y</th>\n",
       "    </tr>\n",
       "    <tr>\n",
       "      <th>Loan_Amount_Term</th>\n",
       "      <th></th>\n",
       "      <th></th>\n",
       "    </tr>\n",
       "  </thead>\n",
       "  <tbody>\n",
       "    <tr>\n",
       "      <th>12.0</th>\n",
       "      <td>0.000000</td>\n",
       "      <td>1.000000</td>\n",
       "    </tr>\n",
       "    <tr>\n",
       "      <th>36.0</th>\n",
       "      <td>1.000000</td>\n",
       "      <td>0.000000</td>\n",
       "    </tr>\n",
       "    <tr>\n",
       "      <th>60.0</th>\n",
       "      <td>0.000000</td>\n",
       "      <td>1.000000</td>\n",
       "    </tr>\n",
       "    <tr>\n",
       "      <th>84.0</th>\n",
       "      <td>0.250000</td>\n",
       "      <td>0.750000</td>\n",
       "    </tr>\n",
       "    <tr>\n",
       "      <th>120.0</th>\n",
       "      <td>0.000000</td>\n",
       "      <td>1.000000</td>\n",
       "    </tr>\n",
       "    <tr>\n",
       "      <th>180.0</th>\n",
       "      <td>0.340909</td>\n",
       "      <td>0.659091</td>\n",
       "    </tr>\n",
       "    <tr>\n",
       "      <th>240.0</th>\n",
       "      <td>0.250000</td>\n",
       "      <td>0.750000</td>\n",
       "    </tr>\n",
       "    <tr>\n",
       "      <th>300.0</th>\n",
       "      <td>0.384615</td>\n",
       "      <td>0.615385</td>\n",
       "    </tr>\n",
       "    <tr>\n",
       "      <th>360.0</th>\n",
       "      <td>0.302281</td>\n",
       "      <td>0.697719</td>\n",
       "    </tr>\n",
       "    <tr>\n",
       "      <th>480.0</th>\n",
       "      <td>0.600000</td>\n",
       "      <td>0.400000</td>\n",
       "    </tr>\n",
       "    <tr>\n",
       "      <th>All</th>\n",
       "      <td>0.312704</td>\n",
       "      <td>0.687296</td>\n",
       "    </tr>\n",
       "  </tbody>\n",
       "</table>\n",
       "</div>"
      ],
      "text/plain": [
       "Loan_Status              N         Y\n",
       "Loan_Amount_Term                    \n",
       "12.0              0.000000  1.000000\n",
       "36.0              1.000000  0.000000\n",
       "60.0              0.000000  1.000000\n",
       "84.0              0.250000  0.750000\n",
       "120.0             0.000000  1.000000\n",
       "180.0             0.340909  0.659091\n",
       "240.0             0.250000  0.750000\n",
       "300.0             0.384615  0.615385\n",
       "360.0             0.302281  0.697719\n",
       "480.0             0.600000  0.400000\n",
       "All               0.312704  0.687296"
      ]
     },
     "execution_count": 26,
     "metadata": {},
     "output_type": "execute_result"
    }
   ],
   "source": [
    "pd.crosstab(columns=[df.Loan_Status],index=[df.Loan_Amount_Term],margins=True,normalize='index')"
   ]
  },
  {
   "cell_type": "code",
   "execution_count": null,
   "id": "b3c47931",
   "metadata": {},
   "outputs": [],
   "source": [
    "# loan_amoont_term is 68% depent on loan status"
   ]
  },
  {
   "cell_type": "code",
   "execution_count": 102,
   "id": "1d1b2b9a",
   "metadata": {
    "scrolled": true
   },
   "outputs": [
    {
     "data": {
      "image/png": "[encoded data removed]",
      "text/plain": [
       "<Figure size 360x360 with 1 Axes>"
      ]
     },
     "metadata": {
      "needs_background": "light"
     },
     "output_type": "display_data"
    }
   ],
   "source": [
    "plt.figure(figsize=(5,5))\n",
    "sns.barplot(x='Loan_Status',y='Credit_History',data=df)\n",
    "plt.show()"
   ]
  },
  {
   "cell_type": "code",
   "execution_count": 28,
   "id": "28a9d78b",
   "metadata": {},
   "outputs": [
    {
     "data": {
      "text/html": [
       "<div>\n",
       "<style scoped>\n",
       "    .dataframe tbody tr th:only-of-type {\n",
       "        vertical-align: middle;\n",
       "    }\n",
       "\n",
       "    .dataframe tbody tr th {\n",
       "        vertical-align: top;\n",
       "    }\n",
       "\n",
       "    .dataframe thead th {\n",
       "        text-align: right;\n",
       "    }\n",
       "</style>\n",
       "<table border=\"1\" class=\"dataframe\">\n",
       "  <thead>\n",
       "    <tr style=\"text-align: right;\">\n",
       "      <th>Credit_History</th>\n",
       "      <th>0.0</th>\n",
       "      <th>1.0</th>\n",
       "    </tr>\n",
       "    <tr>\n",
       "      <th>Loan_Status</th>\n",
       "      <th></th>\n",
       "      <th></th>\n",
       "    </tr>\n",
       "  </thead>\n",
       "  <tbody>\n",
       "    <tr>\n",
       "      <th>N</th>\n",
       "      <td>0.427083</td>\n",
       "      <td>0.572917</td>\n",
       "    </tr>\n",
       "    <tr>\n",
       "      <th>Y</th>\n",
       "      <td>0.016588</td>\n",
       "      <td>0.983412</td>\n",
       "    </tr>\n",
       "    <tr>\n",
       "      <th>All</th>\n",
       "      <td>0.144951</td>\n",
       "      <td>0.855049</td>\n",
       "    </tr>\n",
       "  </tbody>\n",
       "</table>\n",
       "</div>"
      ],
      "text/plain": [
       "Credit_History       0.0       1.0\n",
       "Loan_Status                       \n",
       "N               0.427083  0.572917\n",
       "Y               0.016588  0.983412\n",
       "All             0.144951  0.855049"
      ]
     },
     "execution_count": 28,
     "metadata": {},
     "output_type": "execute_result"
    }
   ],
   "source": [
    "pd.crosstab(columns=[df.Credit_History],index=[df.Loan_Status],margins=True,normalize='index')"
   ]
  },
  {
   "cell_type": "code",
   "execution_count": null,
   "id": "8dab901c",
   "metadata": {},
   "outputs": [],
   "source": [
    "# if past credit_history is present chances of approval of loan is more"
   ]
  },
  {
   "cell_type": "code",
   "execution_count": 6,
   "id": "3c505003",
   "metadata": {},
   "outputs": [],
   "source": [
    "df['Total_Income']=(df['ApplicantIncome']+df['CoapplicantIncome'])"
   ]
  },
  {
   "cell_type": "code",
   "execution_count": 7,
   "id": "9e3f6079",
   "metadata": {},
   "outputs": [],
   "source": [
    "df['EMI']=(df['LoanAmount']/df['Loan_Amount_Term'])"
   ]
  },
  {
   "cell_type": "code",
   "execution_count": 32,
   "id": "0953f1c0",
   "metadata": {},
   "outputs": [
    {
     "data": {
      "text/html": [
       "<div>\n",
       "<style scoped>\n",
       "    .dataframe tbody tr th:only-of-type {\n",
       "        vertical-align: middle;\n",
       "    }\n",
       "\n",
       "    .dataframe tbody tr th {\n",
       "        vertical-align: top;\n",
       "    }\n",
       "\n",
       "    .dataframe thead th {\n",
       "        text-align: right;\n",
       "    }\n",
       "</style>\n",
       "<table border=\"1\" class=\"dataframe\">\n",
       "  <thead>\n",
       "    <tr style=\"text-align: right;\">\n",
       "      <th></th>\n",
       "      <th>Loan_ID</th>\n",
       "      <th>Gender</th>\n",
       "      <th>Married</th>\n",
       "      <th>Dependents</th>\n",
       "      <th>Education</th>\n",
       "      <th>Self_Employed</th>\n",
       "      <th>ApplicantIncome</th>\n",
       "      <th>CoapplicantIncome</th>\n",
       "      <th>LoanAmount</th>\n",
       "      <th>Loan_Amount_Term</th>\n",
       "      <th>Credit_History</th>\n",
       "      <th>Property_Area</th>\n",
       "      <th>Loan_Status</th>\n",
       "      <th>Total_Income</th>\n",
       "      <th>EMI</th>\n",
       "    </tr>\n",
       "  </thead>\n",
       "  <tbody>\n",
       "    <tr>\n",
       "      <th>0</th>\n",
       "      <td>LP001002</td>\n",
       "      <td>Male</td>\n",
       "      <td>No</td>\n",
       "      <td>0</td>\n",
       "      <td>Graduate</td>\n",
       "      <td>No</td>\n",
       "      <td>5849</td>\n",
       "      <td>0.0</td>\n",
       "      <td>128.0</td>\n",
       "      <td>360.0</td>\n",
       "      <td>1.0</td>\n",
       "      <td>Urban</td>\n",
       "      <td>Y</td>\n",
       "      <td>5849.0</td>\n",
       "      <td>0.355556</td>\n",
       "    </tr>\n",
       "    <tr>\n",
       "      <th>1</th>\n",
       "      <td>LP001003</td>\n",
       "      <td>Male</td>\n",
       "      <td>Yes</td>\n",
       "      <td>1</td>\n",
       "      <td>Graduate</td>\n",
       "      <td>No</td>\n",
       "      <td>4583</td>\n",
       "      <td>1508.0</td>\n",
       "      <td>128.0</td>\n",
       "      <td>360.0</td>\n",
       "      <td>1.0</td>\n",
       "      <td>Rural</td>\n",
       "      <td>N</td>\n",
       "      <td>6091.0</td>\n",
       "      <td>0.355556</td>\n",
       "    </tr>\n",
       "    <tr>\n",
       "      <th>2</th>\n",
       "      <td>LP001005</td>\n",
       "      <td>Male</td>\n",
       "      <td>Yes</td>\n",
       "      <td>0</td>\n",
       "      <td>Graduate</td>\n",
       "      <td>Yes</td>\n",
       "      <td>3000</td>\n",
       "      <td>0.0</td>\n",
       "      <td>66.0</td>\n",
       "      <td>360.0</td>\n",
       "      <td>1.0</td>\n",
       "      <td>Urban</td>\n",
       "      <td>Y</td>\n",
       "      <td>3000.0</td>\n",
       "      <td>0.183333</td>\n",
       "    </tr>\n",
       "    <tr>\n",
       "      <th>3</th>\n",
       "      <td>LP001006</td>\n",
       "      <td>Male</td>\n",
       "      <td>Yes</td>\n",
       "      <td>0</td>\n",
       "      <td>Not Graduate</td>\n",
       "      <td>No</td>\n",
       "      <td>2583</td>\n",
       "      <td>2358.0</td>\n",
       "      <td>120.0</td>\n",
       "      <td>360.0</td>\n",
       "      <td>1.0</td>\n",
       "      <td>Urban</td>\n",
       "      <td>Y</td>\n",
       "      <td>4941.0</td>\n",
       "      <td>0.333333</td>\n",
       "    </tr>\n",
       "    <tr>\n",
       "      <th>4</th>\n",
       "      <td>LP001008</td>\n",
       "      <td>Male</td>\n",
       "      <td>No</td>\n",
       "      <td>0</td>\n",
       "      <td>Graduate</td>\n",
       "      <td>No</td>\n",
       "      <td>6000</td>\n",
       "      <td>0.0</td>\n",
       "      <td>141.0</td>\n",
       "      <td>360.0</td>\n",
       "      <td>1.0</td>\n",
       "      <td>Urban</td>\n",
       "      <td>Y</td>\n",
       "      <td>6000.0</td>\n",
       "      <td>0.391667</td>\n",
       "    </tr>\n",
       "  </tbody>\n",
       "</table>\n",
       "</div>"
      ],
      "text/plain": [
       "    Loan_ID Gender Married Dependents     Education Self_Employed  \\\n",
       "0  LP001002   Male      No          0      Graduate            No   \n",
       "1  LP001003   Male     Yes          1      Graduate            No   \n",
       "2  LP001005   Male     Yes          0      Graduate           Yes   \n",
       "3  LP001006   Male     Yes          0  Not Graduate            No   \n",
       "4  LP001008   Male      No          0      Graduate            No   \n",
       "\n",
       "   ApplicantIncome  CoapplicantIncome  LoanAmount  Loan_Amount_Term  \\\n",
       "0             5849                0.0       128.0             360.0   \n",
       "1             4583             1508.0       128.0             360.0   \n",
       "2             3000                0.0        66.0             360.0   \n",
       "3             2583             2358.0       120.0             360.0   \n",
       "4             6000                0.0       141.0             360.0   \n",
       "\n",
       "   Credit_History Property_Area Loan_Status  Total_Income       EMI  \n",
       "0             1.0         Urban           Y        5849.0  0.355556  \n",
       "1             1.0         Rural           N        6091.0  0.355556  \n",
       "2             1.0         Urban           Y        3000.0  0.183333  \n",
       "3             1.0         Urban           Y        4941.0  0.333333  \n",
       "4             1.0         Urban           Y        6000.0  0.391667  "
      ]
     },
     "execution_count": 32,
     "metadata": {},
     "output_type": "execute_result"
    }
   ],
   "source": [
    "df.head()"
   ]
  },
  {
   "cell_type": "code",
   "execution_count": 10,
   "id": "211244a8",
   "metadata": {},
   "outputs": [
    {
     "data": {
      "image/png": "[encoded data removed]",
      "text/plain": [
       "<Figure size 360x360 with 1 Axes>"
      ]
     },
     "metadata": {
      "needs_background": "light"
     },
     "output_type": "display_data"
    }
   ],
   "source": [
    "plt.figure(figsize=(5,5))\n",
    "sns.barplot(x='Loan_Status',y='Total_Income',hue='Gender',data=df)\n",
    "plt.show()"
   ]
  },
  {
   "cell_type": "code",
   "execution_count": 36,
   "id": "e22f6558",
   "metadata": {},
   "outputs": [
    {
     "data": {
      "text/plain": [
       "<AxesSubplot:xlabel='Loan_Status', ylabel='Total_Income'>"
      ]
     },
     "execution_count": 36,
     "metadata": {},
     "output_type": "execute_result"
    },
    {
     "data": {
      "image/png": "[encoded data removed]",
      "text/plain": [
       "<Figure size 432x288 with 1 Axes>"
      ]
     },
     "metadata": {
      "needs_background": "light"
     },
     "output_type": "display_data"
    }
   ],
   "source": [
    "sns.scatterplot(x='Loan_Status',y='Total_Income',data=df)"
   ]
  },
  {
   "cell_type": "code",
   "execution_count": 14,
   "id": "9f1be2ec",
   "metadata": {},
   "outputs": [
    {
     "data": {
      "text/html": [
       "<div>\n",
       "<style scoped>\n",
       "    .dataframe tbody tr th:only-of-type {\n",
       "        vertical-align: middle;\n",
       "    }\n",
       "\n",
       "    .dataframe tbody tr th {\n",
       "        vertical-align: top;\n",
       "    }\n",
       "\n",
       "    .dataframe thead th {\n",
       "        text-align: right;\n",
       "    }\n",
       "</style>\n",
       "<table border=\"1\" class=\"dataframe\">\n",
       "  <thead>\n",
       "    <tr style=\"text-align: right;\">\n",
       "      <th>Loan_Status</th>\n",
       "      <th>N</th>\n",
       "      <th>Y</th>\n",
       "    </tr>\n",
       "    <tr>\n",
       "      <th>Total_Income</th>\n",
       "      <th></th>\n",
       "      <th></th>\n",
       "    </tr>\n",
       "  </thead>\n",
       "  <tbody>\n",
       "    <tr>\n",
       "      <th>1442.0</th>\n",
       "      <td>1.000000</td>\n",
       "      <td>0.000000</td>\n",
       "    </tr>\n",
       "    <tr>\n",
       "      <th>1830.0</th>\n",
       "      <td>1.000000</td>\n",
       "      <td>0.000000</td>\n",
       "    </tr>\n",
       "    <tr>\n",
       "      <th>1880.0</th>\n",
       "      <td>1.000000</td>\n",
       "      <td>0.000000</td>\n",
       "    </tr>\n",
       "    <tr>\n",
       "      <th>1950.0</th>\n",
       "      <td>1.000000</td>\n",
       "      <td>0.000000</td>\n",
       "    </tr>\n",
       "    <tr>\n",
       "      <th>1963.0</th>\n",
       "      <td>0.000000</td>\n",
       "      <td>1.000000</td>\n",
       "    </tr>\n",
       "    <tr>\n",
       "      <th>...</th>\n",
       "      <td>...</td>\n",
       "      <td>...</td>\n",
       "    </tr>\n",
       "    <tr>\n",
       "      <th>43897.0</th>\n",
       "      <td>0.000000</td>\n",
       "      <td>1.000000</td>\n",
       "    </tr>\n",
       "    <tr>\n",
       "      <th>51763.0</th>\n",
       "      <td>0.000000</td>\n",
       "      <td>1.000000</td>\n",
       "    </tr>\n",
       "    <tr>\n",
       "      <th>63337.0</th>\n",
       "      <td>0.000000</td>\n",
       "      <td>1.000000</td>\n",
       "    </tr>\n",
       "    <tr>\n",
       "      <th>81000.0</th>\n",
       "      <td>1.000000</td>\n",
       "      <td>0.000000</td>\n",
       "    </tr>\n",
       "    <tr>\n",
       "      <th>All</th>\n",
       "      <td>0.312704</td>\n",
       "      <td>0.687296</td>\n",
       "    </tr>\n",
       "  </tbody>\n",
       "</table>\n",
       "<p>555 rows × 2 columns</p>\n",
       "</div>"
      ],
      "text/plain": [
       "Loan_Status          N         Y\n",
       "Total_Income                    \n",
       "1442.0        1.000000  0.000000\n",
       "1830.0        1.000000  0.000000\n",
       "1880.0        1.000000  0.000000\n",
       "1950.0        1.000000  0.000000\n",
       "1963.0        0.000000  1.000000\n",
       "...                ...       ...\n",
       "43897.0       0.000000  1.000000\n",
       "51763.0       0.000000  1.000000\n",
       "63337.0       0.000000  1.000000\n",
       "81000.0       1.000000  0.000000\n",
       "All           0.312704  0.687296\n",
       "\n",
       "[555 rows x 2 columns]"
      ]
     },
     "execution_count": 14,
     "metadata": {},
     "output_type": "execute_result"
    }
   ],
   "source": [
    "pd.crosstab(columns=[df.Loan_Status],index=[df.Total_Income],margins=True,normalize='index')"
   ]
  },
  {
   "cell_type": "code",
   "execution_count": 35,
   "id": "b4a02f5c",
   "metadata": {},
   "outputs": [
    {
     "data": {
      "text/plain": [
       "<AxesSubplot:xlabel='Loan_Status', ylabel='EMI'>"
      ]
     },
     "execution_count": 35,
     "metadata": {},
     "output_type": "execute_result"
    },
    {
     "data": {
      "image/png": "[encoded data removed]",
      "text/plain": [
       "<Figure size 432x288 with 1 Axes>"
      ]
     },
     "metadata": {
      "needs_background": "light"
     },
     "output_type": "display_data"
    }
   ],
   "source": [
    "sns.scatterplot(x='Loan_Status',y='EMI',data=df)"
   ]
  },
  {
   "cell_type": "code",
   "execution_count": null,
   "id": "cdabce71",
   "metadata": {},
   "outputs": [],
   "source": [
    "# people whose total income in high chances of loan approval is more"
   ]
  },
  {
   "cell_type": "code",
   "execution_count": 32,
   "id": "d687176c",
   "metadata": {},
   "outputs": [
    {
     "data": {
      "text/html": [
       "<div>\n",
       "<style scoped>\n",
       "    .dataframe tbody tr th:only-of-type {\n",
       "        vertical-align: middle;\n",
       "    }\n",
       "\n",
       "    .dataframe tbody tr th {\n",
       "        vertical-align: top;\n",
       "    }\n",
       "\n",
       "    .dataframe thead th {\n",
       "        text-align: right;\n",
       "    }\n",
       "</style>\n",
       "<table border=\"1\" class=\"dataframe\">\n",
       "  <thead>\n",
       "    <tr style=\"text-align: right;\">\n",
       "      <th>EMI</th>\n",
       "      <th>0.025000</th>\n",
       "      <th>0.072222</th>\n",
       "      <th>0.083333</th>\n",
       "      <th>0.097222</th>\n",
       "      <th>0.100000</th>\n",
       "      <th>0.111111</th>\n",
       "      <th>0.122222</th>\n",
       "      <th>0.125000</th>\n",
       "      <th>0.127778</th>\n",
       "      <th>0.130556</th>\n",
       "      <th>...</th>\n",
       "      <th>1.944444</th>\n",
       "      <th>2.047619</th>\n",
       "      <th>2.083333</th>\n",
       "      <th>2.222222</th>\n",
       "      <th>2.333333</th>\n",
       "      <th>2.583333</th>\n",
       "      <th>2.722222</th>\n",
       "      <th>3.333333</th>\n",
       "      <th>4.305556</th>\n",
       "      <th>9.250000</th>\n",
       "    </tr>\n",
       "    <tr>\n",
       "      <th>Loan_Status</th>\n",
       "      <th></th>\n",
       "      <th></th>\n",
       "      <th></th>\n",
       "      <th></th>\n",
       "      <th></th>\n",
       "      <th></th>\n",
       "      <th></th>\n",
       "      <th></th>\n",
       "      <th></th>\n",
       "      <th></th>\n",
       "      <th></th>\n",
       "      <th></th>\n",
       "      <th></th>\n",
       "      <th></th>\n",
       "      <th></th>\n",
       "      <th></th>\n",
       "      <th></th>\n",
       "      <th></th>\n",
       "      <th></th>\n",
       "      <th></th>\n",
       "      <th></th>\n",
       "    </tr>\n",
       "  </thead>\n",
       "  <tbody>\n",
       "    <tr>\n",
       "      <th>N</th>\n",
       "      <td>0.005208</td>\n",
       "      <td>0.000000</td>\n",
       "      <td>0.000000</td>\n",
       "      <td>0.005208</td>\n",
       "      <td>0.000000</td>\n",
       "      <td>0.000000</td>\n",
       "      <td>0.000000</td>\n",
       "      <td>0.000000</td>\n",
       "      <td>0.005208</td>\n",
       "      <td>0.000000</td>\n",
       "      <td>...</td>\n",
       "      <td>0.005208</td>\n",
       "      <td>0.005208</td>\n",
       "      <td>0.000000</td>\n",
       "      <td>0.005208</td>\n",
       "      <td>0.000000</td>\n",
       "      <td>0.000000</td>\n",
       "      <td>0.000000</td>\n",
       "      <td>0.000000</td>\n",
       "      <td>0.005208</td>\n",
       "      <td>0.000000</td>\n",
       "    </tr>\n",
       "    <tr>\n",
       "      <th>Y</th>\n",
       "      <td>0.000000</td>\n",
       "      <td>0.002370</td>\n",
       "      <td>0.004739</td>\n",
       "      <td>0.000000</td>\n",
       "      <td>0.002370</td>\n",
       "      <td>0.002370</td>\n",
       "      <td>0.004739</td>\n",
       "      <td>0.002370</td>\n",
       "      <td>0.000000</td>\n",
       "      <td>0.002370</td>\n",
       "      <td>...</td>\n",
       "      <td>0.000000</td>\n",
       "      <td>0.000000</td>\n",
       "      <td>0.002370</td>\n",
       "      <td>0.000000</td>\n",
       "      <td>0.002370</td>\n",
       "      <td>0.002370</td>\n",
       "      <td>0.002370</td>\n",
       "      <td>0.002370</td>\n",
       "      <td>0.000000</td>\n",
       "      <td>0.002370</td>\n",
       "    </tr>\n",
       "    <tr>\n",
       "      <th>All</th>\n",
       "      <td>0.001629</td>\n",
       "      <td>0.001629</td>\n",
       "      <td>0.003257</td>\n",
       "      <td>0.001629</td>\n",
       "      <td>0.001629</td>\n",
       "      <td>0.001629</td>\n",
       "      <td>0.003257</td>\n",
       "      <td>0.001629</td>\n",
       "      <td>0.001629</td>\n",
       "      <td>0.001629</td>\n",
       "      <td>...</td>\n",
       "      <td>0.001629</td>\n",
       "      <td>0.001629</td>\n",
       "      <td>0.001629</td>\n",
       "      <td>0.001629</td>\n",
       "      <td>0.001629</td>\n",
       "      <td>0.001629</td>\n",
       "      <td>0.001629</td>\n",
       "      <td>0.001629</td>\n",
       "      <td>0.001629</td>\n",
       "      <td>0.001629</td>\n",
       "    </tr>\n",
       "  </tbody>\n",
       "</table>\n",
       "<p>3 rows × 237 columns</p>\n",
       "</div>"
      ],
      "text/plain": [
       "EMI          0.025000  0.072222  0.083333  0.097222  0.100000  0.111111  \\\n",
       "Loan_Status                                                               \n",
       "N            0.005208  0.000000  0.000000  0.005208  0.000000  0.000000   \n",
       "Y            0.000000  0.002370  0.004739  0.000000  0.002370  0.002370   \n",
       "All          0.001629  0.001629  0.003257  0.001629  0.001629  0.001629   \n",
       "\n",
       "EMI          0.122222  0.125000  0.127778  0.130556  ...  1.944444  2.047619  \\\n",
       "Loan_Status                                          ...                       \n",
       "N            0.000000  0.000000  0.005208  0.000000  ...  0.005208  0.005208   \n",
       "Y            0.004739  0.002370  0.000000  0.002370  ...  0.000000  0.000000   \n",
       "All          0.003257  0.001629  0.001629  0.001629  ...  0.001629  0.001629   \n",
       "\n",
       "EMI          2.083333  2.222222  2.333333  2.583333  2.722222  3.333333  \\\n",
       "Loan_Status                                                               \n",
       "N            0.000000  0.005208  0.000000  0.000000  0.000000  0.000000   \n",
       "Y            0.002370  0.000000  0.002370  0.002370  0.002370  0.002370   \n",
       "All          0.001629  0.001629  0.001629  0.001629  0.001629  0.001629   \n",
       "\n",
       "EMI          4.305556  9.250000  \n",
       "Loan_Status                      \n",
       "N            0.005208  0.000000  \n",
       "Y            0.000000  0.002370  \n",
       "All          0.001629  0.001629  \n",
       "\n",
       "[3 rows x 237 columns]"
      ]
     },
     "execution_count": 32,
     "metadata": {},
     "output_type": "execute_result"
    }
   ],
   "source": [
    "pd.crosstab(columns=[df.EMI],index=[df.Loan_Status],margins=True,normalize='index')"
   ]
  },
  {
   "cell_type": "code",
   "execution_count": null,
   "id": "30d08f1e",
   "metadata": {},
   "outputs": [],
   "source": [
    "# EMI is not directly related with loan status"
   ]
  },
  {
   "cell_type": "code",
   "execution_count": 33,
   "id": "85e6d822",
   "metadata": {},
   "outputs": [],
   "source": [
    "from sklearn.preprocessing import LabelEncoder"
   ]
  },
  {
   "cell_type": "code",
   "execution_count": 34,
   "id": "3ff870ce",
   "metadata": {},
   "outputs": [],
   "source": [
    "le=LabelEncoder()"
   ]
  },
  {
   "cell_type": "code",
   "execution_count": 35,
   "id": "64ceeca1",
   "metadata": {},
   "outputs": [],
   "source": [
    "var=['Gender','Married','Dependents','Education','Self_Employed','Property_Area','Loan_Status']\n",
    "for i in var:\n",
    "    df[i]=le.fit_transform(df[i])"
   ]
  },
  {
   "cell_type": "code",
   "execution_count": 36,
   "id": "8b51add2",
   "metadata": {
    "scrolled": true
   },
   "outputs": [
    {
     "data": {
      "text/html": [
       "<div>\n",
       "<style scoped>\n",
       "    .dataframe tbody tr th:only-of-type {\n",
       "        vertical-align: middle;\n",
       "    }\n",
       "\n",
       "    .dataframe tbody tr th {\n",
       "        vertical-align: top;\n",
       "    }\n",
       "\n",
       "    .dataframe thead th {\n",
       "        text-align: right;\n",
       "    }\n",
       "</style>\n",
       "<table border=\"1\" class=\"dataframe\">\n",
       "  <thead>\n",
       "    <tr style=\"text-align: right;\">\n",
       "      <th></th>\n",
       "      <th>Loan_ID</th>\n",
       "      <th>Gender</th>\n",
       "      <th>Married</th>\n",
       "      <th>Dependents</th>\n",
       "      <th>Education</th>\n",
       "      <th>Self_Employed</th>\n",
       "      <th>ApplicantIncome</th>\n",
       "      <th>CoapplicantIncome</th>\n",
       "      <th>LoanAmount</th>\n",
       "      <th>Loan_Amount_Term</th>\n",
       "      <th>Credit_History</th>\n",
       "      <th>Property_Area</th>\n",
       "      <th>Loan_Status</th>\n",
       "      <th>Total_Income</th>\n",
       "      <th>EMI</th>\n",
       "    </tr>\n",
       "  </thead>\n",
       "  <tbody>\n",
       "    <tr>\n",
       "      <th>0</th>\n",
       "      <td>LP001002</td>\n",
       "      <td>1</td>\n",
       "      <td>0</td>\n",
       "      <td>0</td>\n",
       "      <td>0</td>\n",
       "      <td>0</td>\n",
       "      <td>5849</td>\n",
       "      <td>0.0</td>\n",
       "      <td>128.0</td>\n",
       "      <td>360.0</td>\n",
       "      <td>1.0</td>\n",
       "      <td>2</td>\n",
       "      <td>1</td>\n",
       "      <td>5849.0</td>\n",
       "      <td>0.355556</td>\n",
       "    </tr>\n",
       "    <tr>\n",
       "      <th>1</th>\n",
       "      <td>LP001003</td>\n",
       "      <td>1</td>\n",
       "      <td>1</td>\n",
       "      <td>1</td>\n",
       "      <td>0</td>\n",
       "      <td>0</td>\n",
       "      <td>4583</td>\n",
       "      <td>1508.0</td>\n",
       "      <td>128.0</td>\n",
       "      <td>360.0</td>\n",
       "      <td>1.0</td>\n",
       "      <td>0</td>\n",
       "      <td>0</td>\n",
       "      <td>6091.0</td>\n",
       "      <td>0.355556</td>\n",
       "    </tr>\n",
       "    <tr>\n",
       "      <th>2</th>\n",
       "      <td>LP001005</td>\n",
       "      <td>1</td>\n",
       "      <td>1</td>\n",
       "      <td>0</td>\n",
       "      <td>0</td>\n",
       "      <td>1</td>\n",
       "      <td>3000</td>\n",
       "      <td>0.0</td>\n",
       "      <td>66.0</td>\n",
       "      <td>360.0</td>\n",
       "      <td>1.0</td>\n",
       "      <td>2</td>\n",
       "      <td>1</td>\n",
       "      <td>3000.0</td>\n",
       "      <td>0.183333</td>\n",
       "    </tr>\n",
       "    <tr>\n",
       "      <th>3</th>\n",
       "      <td>LP001006</td>\n",
       "      <td>1</td>\n",
       "      <td>1</td>\n",
       "      <td>0</td>\n",
       "      <td>1</td>\n",
       "      <td>0</td>\n",
       "      <td>2583</td>\n",
       "      <td>2358.0</td>\n",
       "      <td>120.0</td>\n",
       "      <td>360.0</td>\n",
       "      <td>1.0</td>\n",
       "      <td>2</td>\n",
       "      <td>1</td>\n",
       "      <td>4941.0</td>\n",
       "      <td>0.333333</td>\n",
       "    </tr>\n",
       "    <tr>\n",
       "      <th>4</th>\n",
       "      <td>LP001008</td>\n",
       "      <td>1</td>\n",
       "      <td>0</td>\n",
       "      <td>0</td>\n",
       "      <td>0</td>\n",
       "      <td>0</td>\n",
       "      <td>6000</td>\n",
       "      <td>0.0</td>\n",
       "      <td>141.0</td>\n",
       "      <td>360.0</td>\n",
       "      <td>1.0</td>\n",
       "      <td>2</td>\n",
       "      <td>1</td>\n",
       "      <td>6000.0</td>\n",
       "      <td>0.391667</td>\n",
       "    </tr>\n",
       "    <tr>\n",
       "      <th>...</th>\n",
       "      <td>...</td>\n",
       "      <td>...</td>\n",
       "      <td>...</td>\n",
       "      <td>...</td>\n",
       "      <td>...</td>\n",
       "      <td>...</td>\n",
       "      <td>...</td>\n",
       "      <td>...</td>\n",
       "      <td>...</td>\n",
       "      <td>...</td>\n",
       "      <td>...</td>\n",
       "      <td>...</td>\n",
       "      <td>...</td>\n",
       "      <td>...</td>\n",
       "      <td>...</td>\n",
       "    </tr>\n",
       "    <tr>\n",
       "      <th>609</th>\n",
       "      <td>LP002978</td>\n",
       "      <td>0</td>\n",
       "      <td>0</td>\n",
       "      <td>0</td>\n",
       "      <td>0</td>\n",
       "      <td>0</td>\n",
       "      <td>2900</td>\n",
       "      <td>0.0</td>\n",
       "      <td>71.0</td>\n",
       "      <td>360.0</td>\n",
       "      <td>1.0</td>\n",
       "      <td>0</td>\n",
       "      <td>1</td>\n",
       "      <td>2900.0</td>\n",
       "      <td>0.197222</td>\n",
       "    </tr>\n",
       "    <tr>\n",
       "      <th>610</th>\n",
       "      <td>LP002979</td>\n",
       "      <td>1</td>\n",
       "      <td>1</td>\n",
       "      <td>3</td>\n",
       "      <td>0</td>\n",
       "      <td>0</td>\n",
       "      <td>4106</td>\n",
       "      <td>0.0</td>\n",
       "      <td>40.0</td>\n",
       "      <td>180.0</td>\n",
       "      <td>1.0</td>\n",
       "      <td>0</td>\n",
       "      <td>1</td>\n",
       "      <td>4106.0</td>\n",
       "      <td>0.222222</td>\n",
       "    </tr>\n",
       "    <tr>\n",
       "      <th>611</th>\n",
       "      <td>LP002983</td>\n",
       "      <td>1</td>\n",
       "      <td>1</td>\n",
       "      <td>1</td>\n",
       "      <td>0</td>\n",
       "      <td>0</td>\n",
       "      <td>8072</td>\n",
       "      <td>240.0</td>\n",
       "      <td>253.0</td>\n",
       "      <td>360.0</td>\n",
       "      <td>1.0</td>\n",
       "      <td>2</td>\n",
       "      <td>1</td>\n",
       "      <td>8312.0</td>\n",
       "      <td>0.702778</td>\n",
       "    </tr>\n",
       "    <tr>\n",
       "      <th>612</th>\n",
       "      <td>LP002984</td>\n",
       "      <td>1</td>\n",
       "      <td>1</td>\n",
       "      <td>2</td>\n",
       "      <td>0</td>\n",
       "      <td>0</td>\n",
       "      <td>7583</td>\n",
       "      <td>0.0</td>\n",
       "      <td>187.0</td>\n",
       "      <td>360.0</td>\n",
       "      <td>1.0</td>\n",
       "      <td>2</td>\n",
       "      <td>1</td>\n",
       "      <td>7583.0</td>\n",
       "      <td>0.519444</td>\n",
       "    </tr>\n",
       "    <tr>\n",
       "      <th>613</th>\n",
       "      <td>LP002990</td>\n",
       "      <td>0</td>\n",
       "      <td>0</td>\n",
       "      <td>0</td>\n",
       "      <td>0</td>\n",
       "      <td>1</td>\n",
       "      <td>4583</td>\n",
       "      <td>0.0</td>\n",
       "      <td>133.0</td>\n",
       "      <td>360.0</td>\n",
       "      <td>0.0</td>\n",
       "      <td>1</td>\n",
       "      <td>0</td>\n",
       "      <td>4583.0</td>\n",
       "      <td>0.369444</td>\n",
       "    </tr>\n",
       "  </tbody>\n",
       "</table>\n",
       "<p>614 rows × 15 columns</p>\n",
       "</div>"
      ],
      "text/plain": [
       "      Loan_ID  Gender  Married  Dependents  Education  Self_Employed  \\\n",
       "0    LP001002       1        0           0          0              0   \n",
       "1    LP001003       1        1           1          0              0   \n",
       "2    LP001005       1        1           0          0              1   \n",
       "3    LP001006       1        1           0          1              0   \n",
       "4    LP001008       1        0           0          0              0   \n",
       "..        ...     ...      ...         ...        ...            ...   \n",
       "609  LP002978       0        0           0          0              0   \n",
       "610  LP002979       1        1           3          0              0   \n",
       "611  LP002983       1        1           1          0              0   \n",
       "612  LP002984       1        1           2          0              0   \n",
       "613  LP002990       0        0           0          0              1   \n",
       "\n",
       "     ApplicantIncome  CoapplicantIncome  LoanAmount  Loan_Amount_Term  \\\n",
       "0               5849                0.0       128.0             360.0   \n",
       "1               4583             1508.0       128.0             360.0   \n",
       "2               3000                0.0        66.0             360.0   \n",
       "3               2583             2358.0       120.0             360.0   \n",
       "4               6000                0.0       141.0             360.0   \n",
       "..               ...                ...         ...               ...   \n",
       "609             2900                0.0        71.0             360.0   \n",
       "610             4106                0.0        40.0             180.0   \n",
       "611             8072              240.0       253.0             360.0   \n",
       "612             7583                0.0       187.0             360.0   \n",
       "613             4583                0.0       133.0             360.0   \n",
       "\n",
       "     Credit_History  Property_Area  Loan_Status  Total_Income       EMI  \n",
       "0               1.0              2            1        5849.0  0.355556  \n",
       "1               1.0              0            0        6091.0  0.355556  \n",
       "2               1.0              2            1        3000.0  0.183333  \n",
       "3               1.0              2            1        4941.0  0.333333  \n",
       "4               1.0              2            1        6000.0  0.391667  \n",
       "..              ...            ...          ...           ...       ...  \n",
       "609             1.0              0            1        2900.0  0.197222  \n",
       "610             1.0              0            1        4106.0  0.222222  \n",
       "611             1.0              2            1        8312.0  0.702778  \n",
       "612             1.0              2            1        7583.0  0.519444  \n",
       "613             0.0              1            0        4583.0  0.369444  \n",
       "\n",
       "[614 rows x 15 columns]"
      ]
     },
     "execution_count": 36,
     "metadata": {},
     "output_type": "execute_result"
    }
   ],
   "source": [
    "df"
   ]
  },
  {
   "cell_type": "code",
   "execution_count": null,
   "id": "a876ec94",
   "metadata": {},
   "outputs": [],
   "source": [
    "# Loan_ID is not related with loan_Status so we drop this"
   ]
  },
  {
   "cell_type": "code",
   "execution_count": 37,
   "id": "5eaba0ac",
   "metadata": {},
   "outputs": [],
   "source": [
    "df=df.drop(columns='Loan_ID',axis=1)"
   ]
  },
  {
   "cell_type": "code",
   "execution_count": 38,
   "id": "2ee81230",
   "metadata": {
    "scrolled": true
   },
   "outputs": [
    {
     "data": {
      "text/html": [
       "<div>\n",
       "<style scoped>\n",
       "    .dataframe tbody tr th:only-of-type {\n",
       "        vertical-align: middle;\n",
       "    }\n",
       "\n",
       "    .dataframe tbody tr th {\n",
       "        vertical-align: top;\n",
       "    }\n",
       "\n",
       "    .dataframe thead th {\n",
       "        text-align: right;\n",
       "    }\n",
       "</style>\n",
       "<table border=\"1\" class=\"dataframe\">\n",
       "  <thead>\n",
       "    <tr style=\"text-align: right;\">\n",
       "      <th></th>\n",
       "      <th>Gender</th>\n",
       "      <th>Married</th>\n",
       "      <th>Dependents</th>\n",
       "      <th>Education</th>\n",
       "      <th>Self_Employed</th>\n",
       "      <th>ApplicantIncome</th>\n",
       "      <th>CoapplicantIncome</th>\n",
       "      <th>LoanAmount</th>\n",
       "      <th>Loan_Amount_Term</th>\n",
       "      <th>Credit_History</th>\n",
       "      <th>Property_Area</th>\n",
       "      <th>Loan_Status</th>\n",
       "      <th>Total_Income</th>\n",
       "      <th>EMI</th>\n",
       "    </tr>\n",
       "  </thead>\n",
       "  <tbody>\n",
       "    <tr>\n",
       "      <th>0</th>\n",
       "      <td>1</td>\n",
       "      <td>0</td>\n",
       "      <td>0</td>\n",
       "      <td>0</td>\n",
       "      <td>0</td>\n",
       "      <td>5849</td>\n",
       "      <td>0.0</td>\n",
       "      <td>128.0</td>\n",
       "      <td>360.0</td>\n",
       "      <td>1.0</td>\n",
       "      <td>2</td>\n",
       "      <td>1</td>\n",
       "      <td>5849.0</td>\n",
       "      <td>0.355556</td>\n",
       "    </tr>\n",
       "    <tr>\n",
       "      <th>1</th>\n",
       "      <td>1</td>\n",
       "      <td>1</td>\n",
       "      <td>1</td>\n",
       "      <td>0</td>\n",
       "      <td>0</td>\n",
       "      <td>4583</td>\n",
       "      <td>1508.0</td>\n",
       "      <td>128.0</td>\n",
       "      <td>360.0</td>\n",
       "      <td>1.0</td>\n",
       "      <td>0</td>\n",
       "      <td>0</td>\n",
       "      <td>6091.0</td>\n",
       "      <td>0.355556</td>\n",
       "    </tr>\n",
       "    <tr>\n",
       "      <th>2</th>\n",
       "      <td>1</td>\n",
       "      <td>1</td>\n",
       "      <td>0</td>\n",
       "      <td>0</td>\n",
       "      <td>1</td>\n",
       "      <td>3000</td>\n",
       "      <td>0.0</td>\n",
       "      <td>66.0</td>\n",
       "      <td>360.0</td>\n",
       "      <td>1.0</td>\n",
       "      <td>2</td>\n",
       "      <td>1</td>\n",
       "      <td>3000.0</td>\n",
       "      <td>0.183333</td>\n",
       "    </tr>\n",
       "    <tr>\n",
       "      <th>3</th>\n",
       "      <td>1</td>\n",
       "      <td>1</td>\n",
       "      <td>0</td>\n",
       "      <td>1</td>\n",
       "      <td>0</td>\n",
       "      <td>2583</td>\n",
       "      <td>2358.0</td>\n",
       "      <td>120.0</td>\n",
       "      <td>360.0</td>\n",
       "      <td>1.0</td>\n",
       "      <td>2</td>\n",
       "      <td>1</td>\n",
       "      <td>4941.0</td>\n",
       "      <td>0.333333</td>\n",
       "    </tr>\n",
       "    <tr>\n",
       "      <th>4</th>\n",
       "      <td>1</td>\n",
       "      <td>0</td>\n",
       "      <td>0</td>\n",
       "      <td>0</td>\n",
       "      <td>0</td>\n",
       "      <td>6000</td>\n",
       "      <td>0.0</td>\n",
       "      <td>141.0</td>\n",
       "      <td>360.0</td>\n",
       "      <td>1.0</td>\n",
       "      <td>2</td>\n",
       "      <td>1</td>\n",
       "      <td>6000.0</td>\n",
       "      <td>0.391667</td>\n",
       "    </tr>\n",
       "  </tbody>\n",
       "</table>\n",
       "</div>"
      ],
      "text/plain": [
       "   Gender  Married  Dependents  Education  Self_Employed  ApplicantIncome  \\\n",
       "0       1        0           0          0              0             5849   \n",
       "1       1        1           1          0              0             4583   \n",
       "2       1        1           0          0              1             3000   \n",
       "3       1        1           0          1              0             2583   \n",
       "4       1        0           0          0              0             6000   \n",
       "\n",
       "   CoapplicantIncome  LoanAmount  Loan_Amount_Term  Credit_History  \\\n",
       "0                0.0       128.0             360.0             1.0   \n",
       "1             1508.0       128.0             360.0             1.0   \n",
       "2                0.0        66.0             360.0             1.0   \n",
       "3             2358.0       120.0             360.0             1.0   \n",
       "4                0.0       141.0             360.0             1.0   \n",
       "\n",
       "   Property_Area  Loan_Status  Total_Income       EMI  \n",
       "0              2            1        5849.0  0.355556  \n",
       "1              0            0        6091.0  0.355556  \n",
       "2              2            1        3000.0  0.183333  \n",
       "3              2            1        4941.0  0.333333  \n",
       "4              2            1        6000.0  0.391667  "
      ]
     },
     "execution_count": 38,
     "metadata": {},
     "output_type": "execute_result"
    }
   ],
   "source": [
    "df.head()"
   ]
  },
  {
   "cell_type": "code",
   "execution_count": null,
   "id": "e9e4b849",
   "metadata": {},
   "outputs": [],
   "source": [
    "# Checking correlation"
   ]
  },
  {
   "cell_type": "code",
   "execution_count": 39,
   "id": "f2fcfd23",
   "metadata": {},
   "outputs": [
    {
     "data": {
      "text/plain": [
       "(14, 14)"
      ]
     },
     "execution_count": 39,
     "metadata": {},
     "output_type": "execute_result"
    }
   ],
   "source": [
    "corr=df.corr()\n",
    "corr.shape"
   ]
  },
  {
   "cell_type": "code",
   "execution_count": 40,
   "id": "53fff252",
   "metadata": {},
   "outputs": [
    {
     "data": {
      "image/png": "[encoded data removed]",
      "text/plain": [
       "<Figure size 1080x576 with 2 Axes>"
      ]
     },
     "metadata": {
      "needs_background": "light"
     },
     "output_type": "display_data"
    }
   ],
   "source": [
    "plt.figure(figsize=(15,8))\n",
    "sns.heatmap(corr,annot=True)\n",
    "plt.show()"
   ]
  },
  {
   "cell_type": "code",
   "execution_count": 41,
   "id": "c17aa66b",
   "metadata": {},
   "outputs": [
    {
     "data": {
      "text/html": [
       "<div>\n",
       "<style scoped>\n",
       "    .dataframe tbody tr th:only-of-type {\n",
       "        vertical-align: middle;\n",
       "    }\n",
       "\n",
       "    .dataframe tbody tr th {\n",
       "        vertical-align: top;\n",
       "    }\n",
       "\n",
       "    .dataframe thead th {\n",
       "        text-align: right;\n",
       "    }\n",
       "</style>\n",
       "<table border=\"1\" class=\"dataframe\">\n",
       "  <thead>\n",
       "    <tr style=\"text-align: right;\">\n",
       "      <th></th>\n",
       "      <th>Gender</th>\n",
       "      <th>Married</th>\n",
       "      <th>Dependents</th>\n",
       "      <th>Education</th>\n",
       "      <th>Self_Employed</th>\n",
       "      <th>ApplicantIncome</th>\n",
       "      <th>CoapplicantIncome</th>\n",
       "      <th>LoanAmount</th>\n",
       "      <th>Loan_Amount_Term</th>\n",
       "      <th>Credit_History</th>\n",
       "      <th>Property_Area</th>\n",
       "      <th>Loan_Status</th>\n",
       "      <th>Total_Income</th>\n",
       "      <th>EMI</th>\n",
       "    </tr>\n",
       "  </thead>\n",
       "  <tbody>\n",
       "    <tr>\n",
       "      <th>Gender</th>\n",
       "      <td>1.000000</td>\n",
       "      <td>0.364569</td>\n",
       "      <td>0.172914</td>\n",
       "      <td>0.045364</td>\n",
       "      <td>-0.000525</td>\n",
       "      <td>0.058809</td>\n",
       "      <td>0.082912</td>\n",
       "      <td>0.106904</td>\n",
       "      <td>-0.074030</td>\n",
       "      <td>0.009170</td>\n",
       "      <td>-0.025752</td>\n",
       "      <td>0.017987</td>\n",
       "      <td>0.093191</td>\n",
       "      <td>0.059760</td>\n",
       "    </tr>\n",
       "    <tr>\n",
       "      <th>Married</th>\n",
       "      <td>0.364569</td>\n",
       "      <td>1.000000</td>\n",
       "      <td>0.334216</td>\n",
       "      <td>0.012304</td>\n",
       "      <td>0.004489</td>\n",
       "      <td>0.051708</td>\n",
       "      <td>0.075948</td>\n",
       "      <td>0.146546</td>\n",
       "      <td>-0.100912</td>\n",
       "      <td>0.010938</td>\n",
       "      <td>0.004257</td>\n",
       "      <td>0.091478</td>\n",
       "      <td>0.083319</td>\n",
       "      <td>0.093830</td>\n",
       "    </tr>\n",
       "    <tr>\n",
       "      <th>Dependents</th>\n",
       "      <td>0.172914</td>\n",
       "      <td>0.334216</td>\n",
       "      <td>1.000000</td>\n",
       "      <td>0.055752</td>\n",
       "      <td>0.056798</td>\n",
       "      <td>0.118202</td>\n",
       "      <td>0.030430</td>\n",
       "      <td>0.163103</td>\n",
       "      <td>-0.103864</td>\n",
       "      <td>-0.040160</td>\n",
       "      <td>-0.000244</td>\n",
       "      <td>0.010118</td>\n",
       "      <td>0.125590</td>\n",
       "      <td>0.103277</td>\n",
       "    </tr>\n",
       "    <tr>\n",
       "      <th>Education</th>\n",
       "      <td>0.045364</td>\n",
       "      <td>0.012304</td>\n",
       "      <td>0.055752</td>\n",
       "      <td>1.000000</td>\n",
       "      <td>-0.010383</td>\n",
       "      <td>-0.140760</td>\n",
       "      <td>-0.062290</td>\n",
       "      <td>-0.168759</td>\n",
       "      <td>-0.073928</td>\n",
       "      <td>-0.073658</td>\n",
       "      <td>-0.065243</td>\n",
       "      <td>-0.085884</td>\n",
       "      <td>-0.161362</td>\n",
       "      <td>-0.077175</td>\n",
       "    </tr>\n",
       "    <tr>\n",
       "      <th>Self_Employed</th>\n",
       "      <td>-0.000525</td>\n",
       "      <td>0.004489</td>\n",
       "      <td>0.056798</td>\n",
       "      <td>-0.010383</td>\n",
       "      <td>1.000000</td>\n",
       "      <td>0.127180</td>\n",
       "      <td>-0.016100</td>\n",
       "      <td>0.115100</td>\n",
       "      <td>-0.033739</td>\n",
       "      <td>-0.001550</td>\n",
       "      <td>-0.030860</td>\n",
       "      <td>-0.003700</td>\n",
       "      <td>0.113000</td>\n",
       "      <td>0.051766</td>\n",
       "    </tr>\n",
       "    <tr>\n",
       "      <th>ApplicantIncome</th>\n",
       "      <td>0.058809</td>\n",
       "      <td>0.051708</td>\n",
       "      <td>0.118202</td>\n",
       "      <td>-0.140760</td>\n",
       "      <td>0.127180</td>\n",
       "      <td>1.000000</td>\n",
       "      <td>-0.116605</td>\n",
       "      <td>0.565181</td>\n",
       "      <td>-0.046531</td>\n",
       "      <td>-0.018615</td>\n",
       "      <td>-0.009500</td>\n",
       "      <td>-0.004710</td>\n",
       "      <td>0.893037</td>\n",
       "      <td>0.320543</td>\n",
       "    </tr>\n",
       "    <tr>\n",
       "      <th>CoapplicantIncome</th>\n",
       "      <td>0.082912</td>\n",
       "      <td>0.075948</td>\n",
       "      <td>0.030430</td>\n",
       "      <td>-0.062290</td>\n",
       "      <td>-0.016100</td>\n",
       "      <td>-0.116605</td>\n",
       "      <td>1.000000</td>\n",
       "      <td>0.189218</td>\n",
       "      <td>-0.059383</td>\n",
       "      <td>0.011134</td>\n",
       "      <td>0.010522</td>\n",
       "      <td>-0.059187</td>\n",
       "      <td>0.342781</td>\n",
       "      <td>0.136378</td>\n",
       "    </tr>\n",
       "    <tr>\n",
       "      <th>LoanAmount</th>\n",
       "      <td>0.106904</td>\n",
       "      <td>0.146546</td>\n",
       "      <td>0.163103</td>\n",
       "      <td>-0.168759</td>\n",
       "      <td>0.115100</td>\n",
       "      <td>0.565181</td>\n",
       "      <td>0.189218</td>\n",
       "      <td>1.000000</td>\n",
       "      <td>0.036960</td>\n",
       "      <td>-0.000607</td>\n",
       "      <td>-0.046632</td>\n",
       "      <td>-0.033214</td>\n",
       "      <td>0.620316</td>\n",
       "      <td>0.491989</td>\n",
       "    </tr>\n",
       "    <tr>\n",
       "      <th>Loan_Amount_Term</th>\n",
       "      <td>-0.074030</td>\n",
       "      <td>-0.100912</td>\n",
       "      <td>-0.103864</td>\n",
       "      <td>-0.073928</td>\n",
       "      <td>-0.033739</td>\n",
       "      <td>-0.046531</td>\n",
       "      <td>-0.059383</td>\n",
       "      <td>0.036960</td>\n",
       "      <td>1.000000</td>\n",
       "      <td>-0.004705</td>\n",
       "      <td>-0.076120</td>\n",
       "      <td>-0.022549</td>\n",
       "      <td>-0.070917</td>\n",
       "      <td>-0.500119</td>\n",
       "    </tr>\n",
       "    <tr>\n",
       "      <th>Credit_History</th>\n",
       "      <td>0.009170</td>\n",
       "      <td>0.010938</td>\n",
       "      <td>-0.040160</td>\n",
       "      <td>-0.073658</td>\n",
       "      <td>-0.001550</td>\n",
       "      <td>-0.018615</td>\n",
       "      <td>0.011134</td>\n",
       "      <td>-0.000607</td>\n",
       "      <td>-0.004705</td>\n",
       "      <td>1.000000</td>\n",
       "      <td>0.001963</td>\n",
       "      <td>0.540556</td>\n",
       "      <td>-0.012563</td>\n",
       "      <td>0.015206</td>\n",
       "    </tr>\n",
       "    <tr>\n",
       "      <th>Property_Area</th>\n",
       "      <td>-0.025752</td>\n",
       "      <td>0.004257</td>\n",
       "      <td>-0.000244</td>\n",
       "      <td>-0.065243</td>\n",
       "      <td>-0.030860</td>\n",
       "      <td>-0.009500</td>\n",
       "      <td>0.010522</td>\n",
       "      <td>-0.046632</td>\n",
       "      <td>-0.076120</td>\n",
       "      <td>0.001963</td>\n",
       "      <td>1.000000</td>\n",
       "      <td>0.032112</td>\n",
       "      <td>-0.004218</td>\n",
       "      <td>0.037821</td>\n",
       "    </tr>\n",
       "    <tr>\n",
       "      <th>Loan_Status</th>\n",
       "      <td>0.017987</td>\n",
       "      <td>0.091478</td>\n",
       "      <td>0.010118</td>\n",
       "      <td>-0.085884</td>\n",
       "      <td>-0.003700</td>\n",
       "      <td>-0.004710</td>\n",
       "      <td>-0.059187</td>\n",
       "      <td>-0.033214</td>\n",
       "      <td>-0.022549</td>\n",
       "      <td>0.540556</td>\n",
       "      <td>0.032112</td>\n",
       "      <td>1.000000</td>\n",
       "      <td>-0.031271</td>\n",
       "      <td>-0.011757</td>\n",
       "    </tr>\n",
       "    <tr>\n",
       "      <th>Total_Income</th>\n",
       "      <td>0.093191</td>\n",
       "      <td>0.083319</td>\n",
       "      <td>0.125590</td>\n",
       "      <td>-0.161362</td>\n",
       "      <td>0.113000</td>\n",
       "      <td>0.893037</td>\n",
       "      <td>0.342781</td>\n",
       "      <td>0.620316</td>\n",
       "      <td>-0.070917</td>\n",
       "      <td>-0.012563</td>\n",
       "      <td>-0.004218</td>\n",
       "      <td>-0.031271</td>\n",
       "      <td>1.000000</td>\n",
       "      <td>0.364980</td>\n",
       "    </tr>\n",
       "    <tr>\n",
       "      <th>EMI</th>\n",
       "      <td>0.059760</td>\n",
       "      <td>0.093830</td>\n",
       "      <td>0.103277</td>\n",
       "      <td>-0.077175</td>\n",
       "      <td>0.051766</td>\n",
       "      <td>0.320543</td>\n",
       "      <td>0.136378</td>\n",
       "      <td>0.491989</td>\n",
       "      <td>-0.500119</td>\n",
       "      <td>0.015206</td>\n",
       "      <td>0.037821</td>\n",
       "      <td>-0.011757</td>\n",
       "      <td>0.364980</td>\n",
       "      <td>1.000000</td>\n",
       "    </tr>\n",
       "  </tbody>\n",
       "</table>\n",
       "</div>"
      ],
      "text/plain": [
       "                     Gender   Married  Dependents  Education  Self_Employed  \\\n",
       "Gender             1.000000  0.364569    0.172914   0.045364      -0.000525   \n",
       "Married            0.364569  1.000000    0.334216   0.012304       0.004489   \n",
       "Dependents         0.172914  0.334216    1.000000   0.055752       0.056798   \n",
       "Education          0.045364  0.012304    0.055752   1.000000      -0.010383   \n",
       "Self_Employed     -0.000525  0.004489    0.056798  -0.010383       1.000000   \n",
       "ApplicantIncome    0.058809  0.051708    0.118202  -0.140760       0.127180   \n",
       "CoapplicantIncome  0.082912  0.075948    0.030430  -0.062290      -0.016100   \n",
       "LoanAmount         0.106904  0.146546    0.163103  -0.168759       0.115100   \n",
       "Loan_Amount_Term  -0.074030 -0.100912   -0.103864  -0.073928      -0.033739   \n",
       "Credit_History     0.009170  0.010938   -0.040160  -0.073658      -0.001550   \n",
       "Property_Area     -0.025752  0.004257   -0.000244  -0.065243      -0.030860   \n",
       "Loan_Status        0.017987  0.091478    0.010118  -0.085884      -0.003700   \n",
       "Total_Income       0.093191  0.083319    0.125590  -0.161362       0.113000   \n",
       "EMI                0.059760  0.093830    0.103277  -0.077175       0.051766   \n",
       "\n",
       "                   ApplicantIncome  CoapplicantIncome  LoanAmount  \\\n",
       "Gender                    0.058809           0.082912    0.106904   \n",
       "Married                   0.051708           0.075948    0.146546   \n",
       "Dependents                0.118202           0.030430    0.163103   \n",
       "Education                -0.140760          -0.062290   -0.168759   \n",
       "Self_Employed             0.127180          -0.016100    0.115100   \n",
       "ApplicantIncome           1.000000          -0.116605    0.565181   \n",
       "CoapplicantIncome        -0.116605           1.000000    0.189218   \n",
       "LoanAmount                0.565181           0.189218    1.000000   \n",
       "Loan_Amount_Term         -0.046531          -0.059383    0.036960   \n",
       "Credit_History           -0.018615           0.011134   -0.000607   \n",
       "Property_Area            -0.009500           0.010522   -0.046632   \n",
       "Loan_Status              -0.004710          -0.059187   -0.033214   \n",
       "Total_Income              0.893037           0.342781    0.620316   \n",
       "EMI                       0.320543           0.136378    0.491989   \n",
       "\n",
       "                   Loan_Amount_Term  Credit_History  Property_Area  \\\n",
       "Gender                    -0.074030        0.009170      -0.025752   \n",
       "Married                   -0.100912        0.010938       0.004257   \n",
       "Dependents                -0.103864       -0.040160      -0.000244   \n",
       "Education                 -0.073928       -0.073658      -0.065243   \n",
       "Self_Employed             -0.033739       -0.001550      -0.030860   \n",
       "ApplicantIncome           -0.046531       -0.018615      -0.009500   \n",
       "CoapplicantIncome         -0.059383        0.011134       0.010522   \n",
       "LoanAmount                 0.036960       -0.000607      -0.046632   \n",
       "Loan_Amount_Term           1.000000       -0.004705      -0.076120   \n",
       "Credit_History            -0.004705        1.000000       0.001963   \n",
       "Property_Area             -0.076120        0.001963       1.000000   \n",
       "Loan_Status               -0.022549        0.540556       0.032112   \n",
       "Total_Income              -0.070917       -0.012563      -0.004218   \n",
       "EMI                       -0.500119        0.015206       0.037821   \n",
       "\n",
       "                   Loan_Status  Total_Income       EMI  \n",
       "Gender                0.017987      0.093191  0.059760  \n",
       "Married               0.091478      0.083319  0.093830  \n",
       "Dependents            0.010118      0.125590  0.103277  \n",
       "Education            -0.085884     -0.161362 -0.077175  \n",
       "Self_Employed        -0.003700      0.113000  0.051766  \n",
       "ApplicantIncome      -0.004710      0.893037  0.320543  \n",
       "CoapplicantIncome    -0.059187      0.342781  0.136378  \n",
       "LoanAmount           -0.033214      0.620316  0.491989  \n",
       "Loan_Amount_Term     -0.022549     -0.070917 -0.500119  \n",
       "Credit_History        0.540556     -0.012563  0.015206  \n",
       "Property_Area         0.032112     -0.004218  0.037821  \n",
       "Loan_Status           1.000000     -0.031271 -0.011757  \n",
       "Total_Income         -0.031271      1.000000  0.364980  \n",
       "EMI                  -0.011757      0.364980  1.000000  "
      ]
     },
     "execution_count": 41,
     "metadata": {},
     "output_type": "execute_result"
    }
   ],
   "source": [
    "df.corr()"
   ]
  },
  {
   "cell_type": "code",
   "execution_count": 42,
   "id": "4665f11d",
   "metadata": {},
   "outputs": [
    {
     "data": {
      "text/plain": [
       "Education           -0.085884\n",
       "CoapplicantIncome   -0.059187\n",
       "LoanAmount          -0.033214\n",
       "Total_Income        -0.031271\n",
       "Loan_Amount_Term    -0.022549\n",
       "EMI                 -0.011757\n",
       "ApplicantIncome     -0.004710\n",
       "Self_Employed       -0.003700\n",
       "Dependents           0.010118\n",
       "Gender               0.017987\n",
       "Property_Area        0.032112\n",
       "Married              0.091478\n",
       "Credit_History       0.540556\n",
       "Loan_Status          1.000000\n",
       "Name: Loan_Status, dtype: float64"
      ]
     },
     "execution_count": 42,
     "metadata": {},
     "output_type": "execute_result"
    }
   ],
   "source": [
    "corr['Loan_Status'].sort_values()"
   ]
  },
  {
   "cell_type": "code",
   "execution_count": null,
   "id": "7786175f",
   "metadata": {},
   "outputs": [],
   "source": [
    "# features are slightly correlated with target.Education,CoapplicantIncome,LoanaAmount,Loan_Amount_Term,Self_Employed \n",
    "# are negetively related with Loan_Status\n",
    "\n",
    "# Gender,Married,Dependent are correlated to each other.\n",
    "# Loan_amount,ApplicantIncome,CoApplicatIncome are highly correlated\n",
    "# EMI,Loan_Amount_Term,Loan_status,Credit_history also correlated with each other"
   ]
  },
  {
   "cell_type": "code",
   "execution_count": null,
   "id": "77e647b5",
   "metadata": {},
   "outputs": [],
   "source": [
    "# checking skewness"
   ]
  },
  {
   "cell_type": "code",
   "execution_count": 46,
   "id": "599b5042",
   "metadata": {},
   "outputs": [
    {
     "data": {
      "text/plain": [
       "EMI                 9.960701\n",
       "ApplicantIncome     6.539513\n",
       "Total_Income        5.633449\n",
       "LoanAmount          2.743053\n",
       "Self_Employed       2.159796\n",
       "Education           1.367622\n",
       "Dependents          1.015551\n",
       "Property_Area      -0.066196\n",
       "Married            -0.644850\n",
       "Loan_Status        -0.809998\n",
       "Gender             -1.648795\n",
       "Credit_History     -2.021971\n",
       "Loan_Amount_Term   -2.402112\n",
       "dtype: float64"
      ]
     },
     "execution_count": 46,
     "metadata": {},
     "output_type": "execute_result"
    }
   ],
   "source": [
    "df.skew().sort_values(ascending=False)"
   ]
  },
  {
   "cell_type": "code",
   "execution_count": null,
   "id": "6815d818",
   "metadata": {},
   "outputs": [],
   "source": [
    "## we will drop CoapplicantIncomeand check skewnwss"
   ]
  },
  {
   "cell_type": "code",
   "execution_count": 45,
   "id": "230d305c",
   "metadata": {},
   "outputs": [],
   "source": [
    "df=df.drop(columns='CoapplicantIncome',axis=1)"
   ]
  },
  {
   "cell_type": "code",
   "execution_count": 47,
   "id": "38a60547",
   "metadata": {},
   "outputs": [
    {
     "data": {
      "text/plain": [
       "EMI                 9.960701\n",
       "ApplicantIncome     6.539513\n",
       "Total_Income        5.633449\n",
       "LoanAmount          2.743053\n",
       "Self_Employed       2.159796\n",
       "Education           1.367622\n",
       "Dependents          1.015551\n",
       "Property_Area      -0.066196\n",
       "Married            -0.644850\n",
       "Loan_Status        -0.809998\n",
       "Gender             -1.648795\n",
       "Credit_History     -2.021971\n",
       "Loan_Amount_Term   -2.402112\n",
       "dtype: float64"
      ]
     },
     "execution_count": 47,
     "metadata": {},
     "output_type": "execute_result"
    }
   ],
   "source": [
    "df.skew().sort_values(ascending=False)"
   ]
  },
  {
   "cell_type": "code",
   "execution_count": 49,
   "id": "24ab22cf",
   "metadata": {},
   "outputs": [
    {
     "data": {
      "text/plain": [
       "<AxesSubplot:xlabel='EMI', ylabel='Density'>"
      ]
     },
     "execution_count": 49,
     "metadata": {},
     "output_type": "execute_result"
    },
    {
     "data": {
      "image/png": "[encoded data removed]",
      "text/plain": [
       "<Figure size 432x288 with 1 Axes>"
      ]
     },
     "metadata": {
      "needs_background": "light"
     },
     "output_type": "display_data"
    }
   ],
   "source": [
    "sns.distplot(df['EMI'])"
   ]
  },
  {
   "cell_type": "code",
   "execution_count": 50,
   "id": "7568143e",
   "metadata": {},
   "outputs": [
    {
     "data": {
      "text/plain": [
       "<AxesSubplot:xlabel='ApplicantIncome', ylabel='Density'>"
      ]
     },
     "execution_count": 50,
     "metadata": {},
     "output_type": "execute_result"
    },
    {
     "data": {
      "image/png": "[encoded data removed]",
      "text/plain": [
       "<Figure size 432x288 with 1 Axes>"
      ]
     },
     "metadata": {
      "needs_background": "light"
     },
     "output_type": "display_data"
    }
   ],
   "source": [
    "sns.distplot(df['ApplicantIncome'])"
   ]
  },
  {
   "cell_type": "code",
   "execution_count": 52,
   "id": "39ab1ba0",
   "metadata": {},
   "outputs": [
    {
     "data": {
      "text/plain": [
       "<AxesSubplot:xlabel='LoanAmount', ylabel='Density'>"
      ]
     },
     "execution_count": 52,
     "metadata": {},
     "output_type": "execute_result"
    },
    {
     "data": {
      "image/png": "[encoded data removed]",
      "text/plain": [
       "<Figure size 432x288 with 1 Axes>"
      ]
     },
     "metadata": {
      "needs_background": "light"
     },
     "output_type": "display_data"
    }
   ],
   "source": [
    "sns.distplot(df['LoanAmount'])"
   ]
  },
  {
   "cell_type": "code",
   "execution_count": 53,
   "id": "72085890",
   "metadata": {},
   "outputs": [
    {
     "data": {
      "text/plain": [
       "<AxesSubplot:xlabel='Loan_Amount_Term', ylabel='Density'>"
      ]
     },
     "execution_count": 53,
     "metadata": {},
     "output_type": "execute_result"
    },
    {
     "data": {
      "image/png": "[encoded data removed]",
      "text/plain": [
       "<Figure size 432x288 with 1 Axes>"
      ]
     },
     "metadata": {
      "needs_background": "light"
     },
     "output_type": "display_data"
    }
   ],
   "source": [
    "sns.distplot(df['Loan_Amount_Term'])"
   ]
  },
  {
   "cell_type": "code",
   "execution_count": 54,
   "id": "0d4c9bba",
   "metadata": {},
   "outputs": [
    {
     "data": {
      "text/plain": [
       "<AxesSubplot:xlabel='Credit_History', ylabel='Density'>"
      ]
     },
     "execution_count": 54,
     "metadata": {},
     "output_type": "execute_result"
    },
    {
     "data": {
      "image/png": "[encoded data removed]",
      "text/plain": [
       "<Figure size 432x288 with 1 Axes>"
      ]
     },
     "metadata": {
      "needs_background": "light"
     },
     "output_type": "display_data"
    }
   ],
   "source": [
    "sns.distplot(df['Credit_History'])"
   ]
  },
  {
   "cell_type": "code",
   "execution_count": 55,
   "id": "125dc5d8",
   "metadata": {},
   "outputs": [
    {
     "data": {
      "image/png": "[encoded data removed]",
      "text/plain": [
       "<Figure size 1440x1440 with 13 Axes>"
      ]
     },
     "metadata": {
      "needs_background": "light"
     },
     "output_type": "display_data"
    }
   ],
   "source": [
    "plt.figure(figsize=(20,20))\n",
    "plotnumber=1\n",
    "\n",
    "for column in df:\n",
    "    if plotnumber<=16:\n",
    "        ax=plt.subplot(4,4,plotnumber)\n",
    "        sns.distplot(df[column])\n",
    "        plt.xlabel(column,fontsize=20)\n",
    "        \n",
    "    plotnumber+=1\n",
    "plt.show()"
   ]
  },
  {
   "cell_type": "code",
   "execution_count": null,
   "id": "b197e8aa",
   "metadata": {},
   "outputs": [],
   "source": [
    "# We will power transform and check skewness"
   ]
  },
  {
   "cell_type": "code",
   "execution_count": 56,
   "id": "07567450",
   "metadata": {},
   "outputs": [],
   "source": [
    "from sklearn.preprocessing import power_transform"
   ]
  },
  {
   "cell_type": "code",
   "execution_count": 58,
   "id": "9c689660",
   "metadata": {},
   "outputs": [],
   "source": [
    "x=df.drop(columns='Loan_Status',axis=1)\n",
    "y=df['Loan_Status']"
   ]
  },
  {
   "cell_type": "code",
   "execution_count": 59,
   "id": "9553f7d7",
   "metadata": {},
   "outputs": [],
   "source": [
    "df1=power_transform(x)"
   ]
  },
  {
   "cell_type": "code",
   "execution_count": 60,
   "id": "a8d2aa47",
   "metadata": {},
   "outputs": [
    {
     "data": {
      "text/plain": [
       "numpy.ndarray"
      ]
     },
     "execution_count": 60,
     "metadata": {},
     "output_type": "execute_result"
    }
   ],
   "source": [
    "type(df1)"
   ]
  },
  {
   "cell_type": "code",
   "execution_count": 61,
   "id": "ac271e52",
   "metadata": {},
   "outputs": [],
   "source": [
    "df1=pd.DataFrame(df1,columns=x.columns)"
   ]
  },
  {
   "cell_type": "code",
   "execution_count": 62,
   "id": "b95ea600",
   "metadata": {},
   "outputs": [
    {
     "data": {
      "text/html": [
       "<div>\n",
       "<style scoped>\n",
       "    .dataframe tbody tr th:only-of-type {\n",
       "        vertical-align: middle;\n",
       "    }\n",
       "\n",
       "    .dataframe tbody tr th {\n",
       "        vertical-align: top;\n",
       "    }\n",
       "\n",
       "    .dataframe thead th {\n",
       "        text-align: right;\n",
       "    }\n",
       "</style>\n",
       "<table border=\"1\" class=\"dataframe\">\n",
       "  <thead>\n",
       "    <tr style=\"text-align: right;\">\n",
       "      <th></th>\n",
       "      <th>Gender</th>\n",
       "      <th>Married</th>\n",
       "      <th>Dependents</th>\n",
       "      <th>Education</th>\n",
       "      <th>Self_Employed</th>\n",
       "      <th>ApplicantIncome</th>\n",
       "      <th>LoanAmount</th>\n",
       "      <th>Loan_Amount_Term</th>\n",
       "      <th>Credit_History</th>\n",
       "      <th>Property_Area</th>\n",
       "      <th>Total_Income</th>\n",
       "      <th>EMI</th>\n",
       "    </tr>\n",
       "  </thead>\n",
       "  <tbody>\n",
       "    <tr>\n",
       "      <th>0</th>\n",
       "      <td>0.472343</td>\n",
       "      <td>-1.372089</td>\n",
       "      <td>-0.827104</td>\n",
       "      <td>-0.528362</td>\n",
       "      <td>-0.392601</td>\n",
       "      <td>0.544331</td>\n",
       "      <td>-0.025462</td>\n",
       "      <td>0.175540</td>\n",
       "      <td>0.411733</td>\n",
       "      <td>1.193567</td>\n",
       "      <td>0.0</td>\n",
       "      <td>-0.128644</td>\n",
       "    </tr>\n",
       "    <tr>\n",
       "      <th>1</th>\n",
       "      <td>0.472343</td>\n",
       "      <td>0.728816</td>\n",
       "      <td>0.854259</td>\n",
       "      <td>-0.528362</td>\n",
       "      <td>-0.392601</td>\n",
       "      <td>0.170974</td>\n",
       "      <td>-0.025462</td>\n",
       "      <td>0.175540</td>\n",
       "      <td>0.411733</td>\n",
       "      <td>-1.350003</td>\n",
       "      <td>0.0</td>\n",
       "      <td>-0.128644</td>\n",
       "    </tr>\n",
       "    <tr>\n",
       "      <th>2</th>\n",
       "      <td>0.472343</td>\n",
       "      <td>0.728816</td>\n",
       "      <td>-0.827104</td>\n",
       "      <td>-0.528362</td>\n",
       "      <td>2.547117</td>\n",
       "      <td>-0.499955</td>\n",
       "      <td>-1.339826</td>\n",
       "      <td>0.175540</td>\n",
       "      <td>0.411733</td>\n",
       "      <td>1.193567</td>\n",
       "      <td>0.0</td>\n",
       "      <td>-1.514371</td>\n",
       "    </tr>\n",
       "    <tr>\n",
       "      <th>3</th>\n",
       "      <td>0.472343</td>\n",
       "      <td>0.728816</td>\n",
       "      <td>-0.827104</td>\n",
       "      <td>1.892641</td>\n",
       "      <td>-0.392601</td>\n",
       "      <td>-0.743873</td>\n",
       "      <td>-0.155876</td>\n",
       "      <td>0.175540</td>\n",
       "      <td>0.411733</td>\n",
       "      <td>1.193567</td>\n",
       "      <td>0.0</td>\n",
       "      <td>-0.268361</td>\n",
       "    </tr>\n",
       "    <tr>\n",
       "      <th>4</th>\n",
       "      <td>0.472343</td>\n",
       "      <td>-1.372089</td>\n",
       "      <td>-0.827104</td>\n",
       "      <td>-0.528362</td>\n",
       "      <td>-0.392601</td>\n",
       "      <td>0.582817</td>\n",
       "      <td>0.170931</td>\n",
       "      <td>0.175540</td>\n",
       "      <td>0.411733</td>\n",
       "      <td>1.193567</td>\n",
       "      <td>0.0</td>\n",
       "      <td>0.079658</td>\n",
       "    </tr>\n",
       "    <tr>\n",
       "      <th>...</th>\n",
       "      <td>...</td>\n",
       "      <td>...</td>\n",
       "      <td>...</td>\n",
       "      <td>...</td>\n",
       "      <td>...</td>\n",
       "      <td>...</td>\n",
       "      <td>...</td>\n",
       "      <td>...</td>\n",
       "      <td>...</td>\n",
       "      <td>...</td>\n",
       "      <td>...</td>\n",
       "      <td>...</td>\n",
       "    </tr>\n",
       "    <tr>\n",
       "      <th>609</th>\n",
       "      <td>-2.117107</td>\n",
       "      <td>-1.372089</td>\n",
       "      <td>-0.827104</td>\n",
       "      <td>-0.528362</td>\n",
       "      <td>-0.392601</td>\n",
       "      <td>-0.554885</td>\n",
       "      <td>-1.197589</td>\n",
       "      <td>0.175540</td>\n",
       "      <td>0.411733</td>\n",
       "      <td>-1.350003</td>\n",
       "      <td>0.0</td>\n",
       "      <td>-1.371732</td>\n",
       "    </tr>\n",
       "    <tr>\n",
       "      <th>610</th>\n",
       "      <td>0.472343</td>\n",
       "      <td>0.728816</td>\n",
       "      <td>1.522278</td>\n",
       "      <td>-0.528362</td>\n",
       "      <td>-0.392601</td>\n",
       "      <td>-0.000290</td>\n",
       "      <td>-2.296436</td>\n",
       "      <td>-2.312879</td>\n",
       "      <td>0.411733</td>\n",
       "      <td>-1.350003</td>\n",
       "      <td>0.0</td>\n",
       "      <td>-1.131153</td>\n",
       "    </tr>\n",
       "    <tr>\n",
       "      <th>611</th>\n",
       "      <td>0.472343</td>\n",
       "      <td>0.728816</td>\n",
       "      <td>0.854259</td>\n",
       "      <td>-0.528362</td>\n",
       "      <td>-0.392601</td>\n",
       "      <td>1.023487</td>\n",
       "      <td>1.381387</td>\n",
       "      <td>0.175540</td>\n",
       "      <td>0.411733</td>\n",
       "      <td>1.193567</td>\n",
       "      <td>0.0</td>\n",
       "      <td>1.228630</td>\n",
       "    </tr>\n",
       "    <tr>\n",
       "      <th>612</th>\n",
       "      <td>0.472343</td>\n",
       "      <td>0.728816</td>\n",
       "      <td>1.316702</td>\n",
       "      <td>-0.528362</td>\n",
       "      <td>-0.392601</td>\n",
       "      <td>0.931750</td>\n",
       "      <td>0.750522</td>\n",
       "      <td>0.175540</td>\n",
       "      <td>0.411733</td>\n",
       "      <td>1.193567</td>\n",
       "      <td>0.0</td>\n",
       "      <td>0.666703</td>\n",
       "    </tr>\n",
       "    <tr>\n",
       "      <th>613</th>\n",
       "      <td>-2.117107</td>\n",
       "      <td>-1.372089</td>\n",
       "      <td>-0.827104</td>\n",
       "      <td>-0.528362</td>\n",
       "      <td>2.547117</td>\n",
       "      <td>0.170974</td>\n",
       "      <td>0.052205</td>\n",
       "      <td>0.175540</td>\n",
       "      <td>-2.428760</td>\n",
       "      <td>0.002361</td>\n",
       "      <td>0.0</td>\n",
       "      <td>-0.045903</td>\n",
       "    </tr>\n",
       "  </tbody>\n",
       "</table>\n",
       "<p>614 rows × 12 columns</p>\n",
       "</div>"
      ],
      "text/plain": [
       "       Gender   Married  Dependents  Education  Self_Employed  \\\n",
       "0    0.472343 -1.372089   -0.827104  -0.528362      -0.392601   \n",
       "1    0.472343  0.728816    0.854259  -0.528362      -0.392601   \n",
       "2    0.472343  0.728816   -0.827104  -0.528362       2.547117   \n",
       "3    0.472343  0.728816   -0.827104   1.892641      -0.392601   \n",
       "4    0.472343 -1.372089   -0.827104  -0.528362      -0.392601   \n",
       "..        ...       ...         ...        ...            ...   \n",
       "609 -2.117107 -1.372089   -0.827104  -0.528362      -0.392601   \n",
       "610  0.472343  0.728816    1.522278  -0.528362      -0.392601   \n",
       "611  0.472343  0.728816    0.854259  -0.528362      -0.392601   \n",
       "612  0.472343  0.728816    1.316702  -0.528362      -0.392601   \n",
       "613 -2.117107 -1.372089   -0.827104  -0.528362       2.547117   \n",
       "\n",
       "     ApplicantIncome  LoanAmount  Loan_Amount_Term  Credit_History  \\\n",
       "0           0.544331   -0.025462          0.175540        0.411733   \n",
       "1           0.170974   -0.025462          0.175540        0.411733   \n",
       "2          -0.499955   -1.339826          0.175540        0.411733   \n",
       "3          -0.743873   -0.155876          0.175540        0.411733   \n",
       "4           0.582817    0.170931          0.175540        0.411733   \n",
       "..               ...         ...               ...             ...   \n",
       "609        -0.554885   -1.197589          0.175540        0.411733   \n",
       "610        -0.000290   -2.296436         -2.312879        0.411733   \n",
       "611         1.023487    1.381387          0.175540        0.411733   \n",
       "612         0.931750    0.750522          0.175540        0.411733   \n",
       "613         0.170974    0.052205          0.175540       -2.428760   \n",
       "\n",
       "     Property_Area  Total_Income       EMI  \n",
       "0         1.193567           0.0 -0.128644  \n",
       "1        -1.350003           0.0 -0.128644  \n",
       "2         1.193567           0.0 -1.514371  \n",
       "3         1.193567           0.0 -0.268361  \n",
       "4         1.193567           0.0  0.079658  \n",
       "..             ...           ...       ...  \n",
       "609      -1.350003           0.0 -1.371732  \n",
       "610      -1.350003           0.0 -1.131153  \n",
       "611       1.193567           0.0  1.228630  \n",
       "612       1.193567           0.0  0.666703  \n",
       "613       0.002361           0.0 -0.045903  \n",
       "\n",
       "[614 rows x 12 columns]"
      ]
     },
     "execution_count": 62,
     "metadata": {},
     "output_type": "execute_result"
    }
   ],
   "source": [
    "df1"
   ]
  },
  {
   "cell_type": "code",
   "execution_count": 63,
   "id": "baad9bef",
   "metadata": {},
   "outputs": [
    {
     "data": {
      "text/plain": [
       "(614, 12)"
      ]
     },
     "execution_count": 63,
     "metadata": {},
     "output_type": "execute_result"
    }
   ],
   "source": [
    "df1.shape"
   ]
  },
  {
   "cell_type": "code",
   "execution_count": 64,
   "id": "9b12aa03",
   "metadata": {},
   "outputs": [
    {
     "data": {
      "text/plain": [
       "Self_Employed       2.159796\n",
       "Education           1.367622\n",
       "Dependents          0.441404\n",
       "Loan_Amount_Term    0.392571\n",
       "EMI                 0.061906\n",
       "LoanAmount          0.020831\n",
       "Total_Income        0.000000\n",
       "ApplicantIncome    -0.092946\n",
       "Property_Area      -0.158267\n",
       "Married            -0.644850\n",
       "Gender             -1.648795\n",
       "Credit_History     -2.021971\n",
       "dtype: float64"
      ]
     },
     "execution_count": 64,
     "metadata": {},
     "output_type": "execute_result"
    }
   ],
   "source": [
    "df1.skew().sort_values(ascending=False)"
   ]
  },
  {
   "cell_type": "code",
   "execution_count": null,
   "id": "c0c77a56",
   "metadata": {},
   "outputs": [],
   "source": [
    "# skewness decrease but Self_Employed,Education,Credit_History,Gender have some skewness but we consider it."
   ]
  },
  {
   "cell_type": "code",
   "execution_count": 65,
   "id": "7bbb9ca8",
   "metadata": {},
   "outputs": [],
   "source": [
    "from sklearn.preprocessing import StandardScaler\n",
    "from statsmodels.stats.outliers_influence import variance_inflation_factor"
   ]
  },
  {
   "cell_type": "code",
   "execution_count": 66,
   "id": "98eb29b2",
   "metadata": {},
   "outputs": [],
   "source": [
    "scaler=StandardScaler()\n",
    "x_scaled=scaler.fit_transform(x)"
   ]
  },
  {
   "cell_type": "code",
   "execution_count": 67,
   "id": "43075e0c",
   "metadata": {},
   "outputs": [
    {
     "data": {
      "text/html": [
       "<div>\n",
       "<style scoped>\n",
       "    .dataframe tbody tr th:only-of-type {\n",
       "        vertical-align: middle;\n",
       "    }\n",
       "\n",
       "    .dataframe tbody tr th {\n",
       "        vertical-align: top;\n",
       "    }\n",
       "\n",
       "    .dataframe thead th {\n",
       "        text-align: right;\n",
       "    }\n",
       "</style>\n",
       "<table border=\"1\" class=\"dataframe\">\n",
       "  <thead>\n",
       "    <tr style=\"text-align: right;\">\n",
       "      <th></th>\n",
       "      <th>vif</th>\n",
       "      <th>features</th>\n",
       "    </tr>\n",
       "  </thead>\n",
       "  <tbody>\n",
       "    <tr>\n",
       "      <th>0</th>\n",
       "      <td>1.170876</td>\n",
       "      <td>Gender</td>\n",
       "    </tr>\n",
       "    <tr>\n",
       "      <th>1</th>\n",
       "      <td>1.282204</td>\n",
       "      <td>Married</td>\n",
       "    </tr>\n",
       "    <tr>\n",
       "      <th>2</th>\n",
       "      <td>1.166228</td>\n",
       "      <td>Dependents</td>\n",
       "    </tr>\n",
       "    <tr>\n",
       "      <th>3</th>\n",
       "      <td>1.064353</td>\n",
       "      <td>Education</td>\n",
       "    </tr>\n",
       "    <tr>\n",
       "      <th>4</th>\n",
       "      <td>1.024902</td>\n",
       "      <td>Self_Employed</td>\n",
       "    </tr>\n",
       "    <tr>\n",
       "      <th>5</th>\n",
       "      <td>4.993494</td>\n",
       "      <td>ApplicantIncome</td>\n",
       "    </tr>\n",
       "    <tr>\n",
       "      <th>6</th>\n",
       "      <td>2.246663</td>\n",
       "      <td>LoanAmount</td>\n",
       "    </tr>\n",
       "    <tr>\n",
       "      <th>7</th>\n",
       "      <td>1.616710</td>\n",
       "      <td>Loan_Amount_Term</td>\n",
       "    </tr>\n",
       "    <tr>\n",
       "      <th>8</th>\n",
       "      <td>1.008695</td>\n",
       "      <td>Credit_History</td>\n",
       "    </tr>\n",
       "    <tr>\n",
       "      <th>9</th>\n",
       "      <td>1.016964</td>\n",
       "      <td>Property_Area</td>\n",
       "    </tr>\n",
       "    <tr>\n",
       "      <th>10</th>\n",
       "      <td>5.563533</td>\n",
       "      <td>Total_Income</td>\n",
       "    </tr>\n",
       "    <tr>\n",
       "      <th>11</th>\n",
       "      <td>2.063151</td>\n",
       "      <td>EMI</td>\n",
       "    </tr>\n",
       "  </tbody>\n",
       "</table>\n",
       "</div>"
      ],
      "text/plain": [
       "         vif          features\n",
       "0   1.170876            Gender\n",
       "1   1.282204           Married\n",
       "2   1.166228        Dependents\n",
       "3   1.064353         Education\n",
       "4   1.024902     Self_Employed\n",
       "5   4.993494   ApplicantIncome\n",
       "6   2.246663        LoanAmount\n",
       "7   1.616710  Loan_Amount_Term\n",
       "8   1.008695    Credit_History\n",
       "9   1.016964     Property_Area\n",
       "10  5.563533      Total_Income\n",
       "11  2.063151               EMI"
      ]
     },
     "execution_count": 67,
     "metadata": {},
     "output_type": "execute_result"
    }
   ],
   "source": [
    "vif=pd.DataFrame()\n",
    "vif['vif']=[variance_inflation_factor(x_scaled,i) for i in range (x_scaled.shape[1])]\n",
    "vif['features']=x.columns\n",
    "vif"
   ]
  },
  {
   "cell_type": "code",
   "execution_count": null,
   "id": "ff1de758",
   "metadata": {},
   "outputs": [],
   "source": [
    "# VIF value is <5 so there is no multicolinearity exist between features and target\n",
    "# but Total_Income vif value is >5 but we consider it."
   ]
  },
  {
   "cell_type": "code",
   "execution_count": null,
   "id": "8743b29d",
   "metadata": {},
   "outputs": [],
   "source": [
    "##checking Outliers"
   ]
  },
  {
   "cell_type": "code",
   "execution_count": 68,
   "id": "d6d1b3c6",
   "metadata": {},
   "outputs": [
    {
     "data": {
      "image/png": "[encoded data removed]",
      "text/plain": [
       "<Figure size 1440x1440 with 12 Axes>"
      ]
     },
     "metadata": {
      "needs_background": "light"
     },
     "output_type": "display_data"
    }
   ],
   "source": [
    "plt.figure(figsize=(20,20))\n",
    "plotnumber=1\n",
    "\n",
    "for column in x:\n",
    "    if plotnumber<=12:\n",
    "        ax=plt.subplot(3,4,plotnumber)\n",
    "        sns.boxplot(x[column])\n",
    "        plt.xlabel(column,fontsize=20)\n",
    "    plotnumber+=1\n",
    "plt.show()"
   ]
  },
  {
   "cell_type": "code",
   "execution_count": 70,
   "id": "afd01465",
   "metadata": {},
   "outputs": [],
   "source": [
    "from scipy.stats import zscore"
   ]
  },
  {
   "cell_type": "code",
   "execution_count": 73,
   "id": "f3e42d4a",
   "metadata": {},
   "outputs": [],
   "source": [
    "z_score=zscore(df[['Gender','Education','Dependents','Credit_History','Total_Income','EMI','Self_Employed','ApplicantIncome','LoanAmount','Loan_Amount_Term']])\n",
    "abs_z_score=np.abs(z_score)\n",
    "filtering_entry=(abs_z_score<3).all(axis=1)\n",
    "df=df[filtering_entry]"
   ]
  },
  {
   "cell_type": "code",
   "execution_count": 74,
   "id": "2cc21e1c",
   "metadata": {},
   "outputs": [
    {
     "data": {
      "text/plain": [
       "(580, 13)"
      ]
     },
     "execution_count": 74,
     "metadata": {},
     "output_type": "execute_result"
    }
   ],
   "source": [
    "df.shape"
   ]
  },
  {
   "cell_type": "code",
   "execution_count": 75,
   "id": "19998666",
   "metadata": {},
   "outputs": [],
   "source": [
    "x=df.drop(columns='Loan_Status',axis=1)\n",
    "y=df['Loan_Status']"
   ]
  },
  {
   "cell_type": "code",
   "execution_count": 77,
   "id": "3e67d6f4",
   "metadata": {},
   "outputs": [
    {
     "data": {
      "text/plain": [
       "False"
      ]
     },
     "execution_count": 77,
     "metadata": {},
     "output_type": "execute_result"
    }
   ],
   "source": [
    "(np.abs(zscore(x))<3).all()"
   ]
  },
  {
   "cell_type": "code",
   "execution_count": 78,
   "id": "da80fed9",
   "metadata": {},
   "outputs": [],
   "source": [
    "z_score=zscore(df[['Gender','Education','Dependents','Credit_History','Total_Income','EMI','Self_Employed','ApplicantIncome','LoanAmount','Loan_Amount_Term']])\n",
    "abs_z_score=np.abs(z_score)\n",
    "filtering_entry=(abs_z_score<3).all(axis=1)\n",
    "df=df[filtering_entry]"
   ]
  },
  {
   "cell_type": "code",
   "execution_count": 79,
   "id": "20fa5f12",
   "metadata": {},
   "outputs": [
    {
     "data": {
      "text/plain": [
       "(511, 13)"
      ]
     },
     "execution_count": 79,
     "metadata": {},
     "output_type": "execute_result"
    }
   ],
   "source": [
    "df.shape"
   ]
  },
  {
   "cell_type": "code",
   "execution_count": 80,
   "id": "6323b2dd",
   "metadata": {},
   "outputs": [],
   "source": [
    "x=df.drop(columns='Loan_Status',axis=1)\n",
    "y=df['Loan_Status']"
   ]
  },
  {
   "cell_type": "code",
   "execution_count": 81,
   "id": "b523f5ba",
   "metadata": {},
   "outputs": [
    {
     "data": {
      "text/plain": [
       "False"
      ]
     },
     "execution_count": 81,
     "metadata": {},
     "output_type": "execute_result"
    }
   ],
   "source": [
    "(np.abs(zscore(x))<3).all()"
   ]
  },
  {
   "cell_type": "code",
   "execution_count": 91,
   "id": "eb834c1c",
   "metadata": {},
   "outputs": [
    {
     "data": {
      "text/plain": [
       "16.775244299674267"
      ]
     },
     "execution_count": 91,
     "metadata": {},
     "output_type": "execute_result"
    }
   ],
   "source": [
    "data_loss=((614-511)/614)*100\n",
    "data_loss"
   ]
  },
  {
   "cell_type": "code",
   "execution_count": null,
   "id": "43f52c8e",
   "metadata": {},
   "outputs": [],
   "source": [
    "# 16% dataloss"
   ]
  },
  {
   "cell_type": "code",
   "execution_count": null,
   "id": "17d72d0b",
   "metadata": {},
   "outputs": [],
   "source": [
    "# Outliers is removed"
   ]
  },
  {
   "cell_type": "code",
   "execution_count": null,
   "id": "c5e60116",
   "metadata": {},
   "outputs": [],
   "source": [
    "# Now Loan_application Dataset is ready for training "
   ]
  },
  {
   "cell_type": "code",
   "execution_count": 82,
   "id": "bd41b6d5",
   "metadata": {},
   "outputs": [
    {
     "data": {
      "text/plain": [
       "1    354\n",
       "0    157\n",
       "Name: Loan_Status, dtype: int64"
      ]
     },
     "execution_count": 82,
     "metadata": {},
     "output_type": "execute_result"
    }
   ],
   "source": [
    "y.value_counts()"
   ]
  },
  {
   "cell_type": "code",
   "execution_count": 84,
   "id": "4ab30fe3",
   "metadata": {},
   "outputs": [],
   "source": [
    "from sklearn.model_selection import train_test_split"
   ]
  },
  {
   "cell_type": "code",
   "execution_count": 85,
   "id": "f5ec3b6d",
   "metadata": {},
   "outputs": [],
   "source": [
    "scaler=StandardScaler()\n",
    "x_scaler=scaler.fit_transform(x)"
   ]
  },
  {
   "cell_type": "code",
   "execution_count": 86,
   "id": "8059f928",
   "metadata": {},
   "outputs": [],
   "source": [
    "x_train,x_test,y_train,y_test=train_test_split(x_scaler,y,test_size=0.25,random_state=42)"
   ]
  },
  {
   "cell_type": "code",
   "execution_count": null,
   "id": "d6e080be",
   "metadata": {},
   "outputs": [],
   "source": [
    "# Handling Imbalanced Dataset"
   ]
  },
  {
   "cell_type": "code",
   "execution_count": null,
   "id": "862fd68a",
   "metadata": {},
   "outputs": [],
   "source": [
    "# Over Sampling for minority or Under Sampling for majority class\n",
    "# Here we will do over-sampling.\n",
    "# Here we use SMOTE(Synthetic Minority Oversampling Technique)"
   ]
  },
  {
   "cell_type": "code",
   "execution_count": 87,
   "id": "6a0ee938",
   "metadata": {},
   "outputs": [],
   "source": [
    "from imblearn.over_sampling import SMOTE"
   ]
  },
  {
   "cell_type": "code",
   "execution_count": 88,
   "id": "3cdd441a",
   "metadata": {},
   "outputs": [],
   "source": [
    "oversampler=SMOTE(random_state=42)\n",
    "x_train_ns,y_train_ns=oversampler.fit_resample(x_train,y_train)"
   ]
  },
  {
   "cell_type": "code",
   "execution_count": 89,
   "id": "f61a537a",
   "metadata": {},
   "outputs": [
    {
     "data": {
      "text/plain": [
       "((520, 12), (520,), (128, 12), (128,))"
      ]
     },
     "execution_count": 89,
     "metadata": {},
     "output_type": "execute_result"
    }
   ],
   "source": [
    "x_train_ns.shape,y_train_ns.shape,x_test.shape,y_test.shape"
   ]
  },
  {
   "cell_type": "code",
   "execution_count": 90,
   "id": "2f21ea8b",
   "metadata": {},
   "outputs": [],
   "source": [
    "from sklearn.linear_model import LogisticRegression\n",
    "from sklearn.metrics import accuracy_score,confusion_matrix,classification_report,roc_curve,roc_auc_score\n",
    "from sklearn.tree import DecisionTreeClassifier\n",
    "from sklearn.neighbors import KNeighborsClassifier\n",
    "from sklearn.ensemble import RandomForestClassifier"
   ]
  },
  {
   "cell_type": "code",
   "execution_count": null,
   "id": "546ee90b",
   "metadata": {},
   "outputs": [],
   "source": [
    "# though we have done oversampling,there is a chance of getting high value of accuracy so we consider confusion\n",
    "# matrix,precion ,recall and f1score"
   ]
  },
  {
   "cell_type": "code",
   "execution_count": 92,
   "id": "d82c9c9c",
   "metadata": {},
   "outputs": [
    {
     "data": {
      "text/plain": [
       "80.46875"
      ]
     },
     "execution_count": 92,
     "metadata": {},
     "output_type": "execute_result"
    }
   ],
   "source": [
    "lr=LogisticRegression()\n",
    "lr.fit(x_train_ns,y_train_ns)\n",
    "y_pred_lr=lr.predict(x_test)\n",
    "acc_lr=accuracy_score(y_test,y_pred_lr)*100\n",
    "acc_lr"
   ]
  },
  {
   "cell_type": "code",
   "execution_count": 93,
   "id": "8aca47b1",
   "metadata": {},
   "outputs": [
    {
     "name": "stdout",
     "output_type": "stream",
     "text": [
      "[[21 13]\n",
      " [12 82]]\n",
      "              precision    recall  f1-score   support\n",
      "\n",
      "           0       0.64      0.62      0.63        34\n",
      "           1       0.86      0.87      0.87        94\n",
      "\n",
      "    accuracy                           0.80       128\n",
      "   macro avg       0.75      0.74      0.75       128\n",
      "weighted avg       0.80      0.80      0.80       128\n",
      "\n"
     ]
    }
   ],
   "source": [
    "print(confusion_matrix(y_test,y_pred_lr))\n",
    "print(classification_report(y_test,y_pred_lr))"
   ]
  },
  {
   "cell_type": "code",
   "execution_count": 100,
   "id": "e4daf966",
   "metadata": {},
   "outputs": [
    {
     "data": {
      "text/plain": [
       "82.8125"
      ]
     },
     "execution_count": 100,
     "metadata": {},
     "output_type": "execute_result"
    }
   ],
   "source": [
    "# SUPPORT VECTOR CLASSIFIER\n",
    "from sklearn.svm import SVC \n",
    "svc=SVC()\n",
    "svc.fit(x_train_ns,y_train_ns)\n",
    "y_pred_svc=svc.predict(x_test)\n",
    "acc_svc=accuracy_score(y_test,y_pred_svc)*100\n",
    "acc_svc"
   ]
  },
  {
   "cell_type": "code",
   "execution_count": 101,
   "id": "8e84e727",
   "metadata": {},
   "outputs": [
    {
     "name": "stdout",
     "output_type": "stream",
     "text": [
      "[[19 15]\n",
      " [ 7 87]]\n",
      "              precision    recall  f1-score   support\n",
      "\n",
      "           0       0.73      0.56      0.63        34\n",
      "           1       0.85      0.93      0.89        94\n",
      "\n",
      "    accuracy                           0.83       128\n",
      "   macro avg       0.79      0.74      0.76       128\n",
      "weighted avg       0.82      0.83      0.82       128\n",
      "\n"
     ]
    }
   ],
   "source": [
    "print(confusion_matrix(y_test,y_pred_svc))\n",
    "print(classification_report(y_test,y_pred_svc))"
   ]
  },
  {
   "cell_type": "code",
   "execution_count": 98,
   "id": "cafebd38",
   "metadata": {},
   "outputs": [
    {
     "data": {
      "text/plain": [
       "74.21875"
      ]
     },
     "execution_count": 98,
     "metadata": {},
     "output_type": "execute_result"
    }
   ],
   "source": [
    "# DECISIONTREE CLASSIFIER\n",
    "\n",
    "dt=DecisionTreeClassifier()\n",
    "dt.fit(x_train_ns,y_train_ns)\n",
    "y_pred_dt=dt.predict(x_test)\n",
    "acc_dt=accuracy_score(y_test,y_pred_dt)*100\n",
    "acc_dt"
   ]
  },
  {
   "cell_type": "code",
   "execution_count": 99,
   "id": "4ca753aa",
   "metadata": {},
   "outputs": [
    {
     "name": "stdout",
     "output_type": "stream",
     "text": [
      "[[22 12]\n",
      " [21 73]]\n",
      "              precision    recall  f1-score   support\n",
      "\n",
      "           0       0.51      0.65      0.57        34\n",
      "           1       0.86      0.78      0.82        94\n",
      "\n",
      "    accuracy                           0.74       128\n",
      "   macro avg       0.69      0.71      0.69       128\n",
      "weighted avg       0.77      0.74      0.75       128\n",
      "\n"
     ]
    }
   ],
   "source": [
    "print(confusion_matrix(y_test,y_pred_dt))\n",
    "print(classification_report(y_test,y_pred_dt))"
   ]
  },
  {
   "cell_type": "code",
   "execution_count": 96,
   "id": "10c225e6",
   "metadata": {},
   "outputs": [
    {
     "data": {
      "text/plain": [
       "79.6875"
      ]
     },
     "execution_count": 96,
     "metadata": {},
     "output_type": "execute_result"
    }
   ],
   "source": [
    "# RANDOM FOREST CLASSIFIER\n",
    "\n",
    "rfc=RandomForestClassifier()\n",
    "rfc.fit(x_train_ns,y_train_ns)\n",
    "y_pred_rfc=rfc.predict(x_test)\n",
    "acc_rfc=accuracy_score(y_test,y_pred_rfc)*100\n",
    "acc_rfc"
   ]
  },
  {
   "cell_type": "code",
   "execution_count": 97,
   "id": "b6ed931d",
   "metadata": {},
   "outputs": [
    {
     "name": "stdout",
     "output_type": "stream",
     "text": [
      "[[19 15]\n",
      " [11 83]]\n",
      "              precision    recall  f1-score   support\n",
      "\n",
      "           0       0.63      0.56      0.59        34\n",
      "           1       0.85      0.88      0.86        94\n",
      "\n",
      "    accuracy                           0.80       128\n",
      "   macro avg       0.74      0.72      0.73       128\n",
      "weighted avg       0.79      0.80      0.79       128\n",
      "\n"
     ]
    }
   ],
   "source": [
    "print(confusion_matrix(y_test,y_pred_rfc))\n",
    "print(classification_report(y_test,y_pred_rfc))"
   ]
  },
  {
   "cell_type": "code",
   "execution_count": 94,
   "id": "9987c19b",
   "metadata": {},
   "outputs": [
    {
     "data": {
      "text/plain": [
       "69.53125"
      ]
     },
     "execution_count": 94,
     "metadata": {},
     "output_type": "execute_result"
    }
   ],
   "source": [
    "# KNN CLASSIFIER\n",
    "\n",
    "knn=KNeighborsClassifier()\n",
    "knn.fit(x_train_ns,y_train_ns)\n",
    "y_pred_knn=knn.predict(x_test)\n",
    "acc_knn=accuracy_score(y_test,y_pred_knn)*100\n",
    "acc_knn"
   ]
  },
  {
   "cell_type": "code",
   "execution_count": 95,
   "id": "ed977c20",
   "metadata": {},
   "outputs": [
    {
     "name": "stdout",
     "output_type": "stream",
     "text": [
      "[[21 13]\n",
      " [26 68]]\n",
      "              precision    recall  f1-score   support\n",
      "\n",
      "           0       0.45      0.62      0.52        34\n",
      "           1       0.84      0.72      0.78        94\n",
      "\n",
      "    accuracy                           0.70       128\n",
      "   macro avg       0.64      0.67      0.65       128\n",
      "weighted avg       0.74      0.70      0.71       128\n",
      "\n"
     ]
    }
   ],
   "source": [
    "print(confusion_matrix(y_test,y_pred_knn))\n",
    "print(classification_report(y_test,y_pred_knn))"
   ]
  },
  {
   "cell_type": "code",
   "execution_count": 102,
   "id": "f0c4c7ff",
   "metadata": {},
   "outputs": [
    {
     "name": "stdout",
     "output_type": "stream",
     "text": [
      "[21:57:44] WARNING: C:/Users/Administrator/workspace/xgboost-win64_release_1.5.1/src/learner.cc:1115: Starting in XGBoost 1.3.0, the default evaluation metric used with the objective 'binary:logistic' was changed from 'error' to 'logloss'. Explicitly set eval_metric if you'd like to restore the old behavior.\n"
     ]
    },
    {
     "data": {
      "text/plain": [
       "69.53125"
      ]
     },
     "execution_count": 102,
     "metadata": {},
     "output_type": "execute_result"
    }
   ],
   "source": [
    "# XG Boost\n",
    "from xgboost import XGBClassifier\n",
    "xgb=XGBClassifier(objective='binary:logistic')\n",
    "xgb.fit(x_train_ns,y_train_ns)\n",
    "y_pred_xgb=knn.predict(x_test)\n",
    "acc_xgb=accuracy_score(y_test,y_pred_xgb)*100\n",
    "acc_xgb"
   ]
  },
  {
   "cell_type": "code",
   "execution_count": 103,
   "id": "ad6e486c",
   "metadata": {},
   "outputs": [
    {
     "name": "stdout",
     "output_type": "stream",
     "text": [
      "[[21 13]\n",
      " [26 68]]\n",
      "              precision    recall  f1-score   support\n",
      "\n",
      "           0       0.45      0.62      0.52        34\n",
      "           1       0.84      0.72      0.78        94\n",
      "\n",
      "    accuracy                           0.70       128\n",
      "   macro avg       0.64      0.67      0.65       128\n",
      "weighted avg       0.74      0.70      0.71       128\n",
      "\n"
     ]
    }
   ],
   "source": [
    "print(confusion_matrix(y_test,y_pred_xgb))\n",
    "print(classification_report(y_test,y_pred_xgb))"
   ]
  },
  {
   "cell_type": "code",
   "execution_count": 104,
   "id": "b4eed174",
   "metadata": {},
   "outputs": [
    {
     "data": {
      "text/html": [
       "<div>\n",
       "<style scoped>\n",
       "    .dataframe tbody tr th:only-of-type {\n",
       "        vertical-align: middle;\n",
       "    }\n",
       "\n",
       "    .dataframe tbody tr th {\n",
       "        vertical-align: top;\n",
       "    }\n",
       "\n",
       "    .dataframe thead th {\n",
       "        text-align: right;\n",
       "    }\n",
       "</style>\n",
       "<table border=\"1\" class=\"dataframe\">\n",
       "  <thead>\n",
       "    <tr style=\"text-align: right;\">\n",
       "      <th></th>\n",
       "      <th>model</th>\n",
       "      <th>score</th>\n",
       "    </tr>\n",
       "  </thead>\n",
       "  <tbody>\n",
       "    <tr>\n",
       "      <th>0</th>\n",
       "      <td>Logistic Regression</td>\n",
       "      <td>80.46875</td>\n",
       "    </tr>\n",
       "    <tr>\n",
       "      <th>1</th>\n",
       "      <td>Support Vector Classifier</td>\n",
       "      <td>82.81250</td>\n",
       "    </tr>\n",
       "    <tr>\n",
       "      <th>2</th>\n",
       "      <td>DecisionTree Classifier</td>\n",
       "      <td>74.21875</td>\n",
       "    </tr>\n",
       "    <tr>\n",
       "      <th>3</th>\n",
       "      <td>Random Forest Classifier</td>\n",
       "      <td>79.68750</td>\n",
       "    </tr>\n",
       "    <tr>\n",
       "      <th>4</th>\n",
       "      <td>Kneighbors Clasifier</td>\n",
       "      <td>69.53125</td>\n",
       "    </tr>\n",
       "    <tr>\n",
       "      <th>5</th>\n",
       "      <td>XGBoost</td>\n",
       "      <td>69.53125</td>\n",
       "    </tr>\n",
       "  </tbody>\n",
       "</table>\n",
       "</div>"
      ],
      "text/plain": [
       "                       model     score\n",
       "0        Logistic Regression  80.46875\n",
       "1  Support Vector Classifier  82.81250\n",
       "2    DecisionTree Classifier  74.21875\n",
       "3   Random Forest Classifier  79.68750\n",
       "4       Kneighbors Clasifier  69.53125\n",
       "5                    XGBoost  69.53125"
      ]
     },
     "execution_count": 104,
     "metadata": {},
     "output_type": "execute_result"
    }
   ],
   "source": [
    "# Model Evaluation\n",
    "\n",
    "Models=pd.DataFrame({'model':['Logistic Regression','Support Vector Classifier',\n",
    "                            'DecisionTree Classifier','Random Forest Classifier','Kneighbors Clasifier','XGBoost'],\n",
    "                    \n",
    "                      'score':[acc_lr,acc_svc,acc_dt,acc_rfc,acc_knn,acc_xgb]})\n",
    "Models"
   ]
  },
  {
   "cell_type": "raw",
   "id": "7366c5be",
   "metadata": {},
   "source": [
    "# All model are doing good for predicting loan status but here better model is support vector classifier because its gives Accuracy score of 83%. \n",
    "Here our model predicts 19 true positive cases out of 34 positive cases and 87 true negative \n",
    "cases out of 94 cases.\n",
    "It gives f1 score of 89% for predicting loan_status(1),Precision 85% and Recall 93%"
   ]
  },
  {
   "cell_type": "code",
   "execution_count": null,
   "id": "932c725d",
   "metadata": {},
   "outputs": [],
   "source": [
    "# Cross Validation"
   ]
  },
  {
   "cell_type": "code",
   "execution_count": null,
   "id": "32fb3ae8",
   "metadata": {},
   "outputs": [],
   "source": [
    "# now check for cross validation score as well as overfitting if exist"
   ]
  },
  {
   "cell_type": "code",
   "execution_count": 105,
   "id": "d17c10ed",
   "metadata": {},
   "outputs": [],
   "source": [
    "from sklearn.model_selection import cross_val_score"
   ]
  },
  {
   "cell_type": "code",
   "execution_count": 106,
   "id": "4647fdfa",
   "metadata": {},
   "outputs": [
    {
     "name": "stdout",
     "output_type": "stream",
     "text": [
      "0.8180087569008185\n"
     ]
    }
   ],
   "source": [
    "# Cross-Validation Logistic Regression\n",
    "cvs_lr=cross_val_score(lr,x,y,cv=5)\n",
    "print(cvs_lr.mean())"
   ]
  },
  {
   "cell_type": "code",
   "execution_count": 107,
   "id": "da11e1be",
   "metadata": {},
   "outputs": [
    {
     "name": "stdout",
     "output_type": "stream",
     "text": [
      "0.6927660384542167\n"
     ]
    }
   ],
   "source": [
    "# Cross-Validation SVC\n",
    "cvs_svc=cross_val_score(svc,x,y,cv=5)\n",
    "print(cvs_svc.mean())"
   ]
  },
  {
   "cell_type": "code",
   "execution_count": 108,
   "id": "9856548a",
   "metadata": {},
   "outputs": [
    {
     "name": "stdout",
     "output_type": "stream",
     "text": [
      "0.7397106415381687\n"
     ]
    }
   ],
   "source": [
    "# Cross-Validation DecisionTree Classifier\n",
    "cvs_dt=cross_val_score(dt,x,y,cv=5)\n",
    "print(cvs_dt.mean())"
   ]
  },
  {
   "cell_type": "code",
   "execution_count": 109,
   "id": "03c2bc1e",
   "metadata": {},
   "outputs": [
    {
     "name": "stdout",
     "output_type": "stream",
     "text": [
      "0.6222729868646488\n"
     ]
    }
   ],
   "source": [
    "# Cross-Validation KNN\n",
    "cvs_knn=cross_val_score(knn,x,y,cv=5)\n",
    "print(cvs_knn.mean())"
   ]
  },
  {
   "cell_type": "code",
   "execution_count": 110,
   "id": "cf345a34",
   "metadata": {},
   "outputs": [
    {
     "name": "stdout",
     "output_type": "stream",
     "text": [
      "0.7984917043740574\n"
     ]
    }
   ],
   "source": [
    "# Cross-Validation Random Forest Classifier\n",
    "cvs_rfc=cross_val_score(rfc,x,y,cv=10)\n",
    "print(cvs_rfc.mean())"
   ]
  },
  {
   "cell_type": "code",
   "execution_count": 111,
   "id": "00f3b6e1",
   "metadata": {},
   "outputs": [
    {
     "name": "stdout",
     "output_type": "stream",
     "text": [
      "[22:00:40] WARNING: C:/Users/Administrator/workspace/xgboost-win64_release_1.5.1/src/learner.cc:1115: Starting in XGBoost 1.3.0, the default evaluation metric used with the objective 'binary:logistic' was changed from 'error' to 'logloss'. Explicitly set eval_metric if you'd like to restore the old behavior.\n",
      "[22:00:40] WARNING: C:/Users/Administrator/workspace/xgboost-win64_release_1.5.1/src/learner.cc:1115: Starting in XGBoost 1.3.0, the default evaluation metric used with the objective 'binary:logistic' was changed from 'error' to 'logloss'. Explicitly set eval_metric if you'd like to restore the old behavior.\n",
      "[22:00:41] WARNING: C:/Users/Administrator/workspace/xgboost-win64_release_1.5.1/src/learner.cc:1115: Starting in XGBoost 1.3.0, the default evaluation metric used with the objective 'binary:logistic' was changed from 'error' to 'logloss'. Explicitly set eval_metric if you'd like to restore the old behavior.\n",
      "[22:00:41] WARNING: C:/Users/Administrator/workspace/xgboost-win64_release_1.5.1/src/learner.cc:1115: Starting in XGBoost 1.3.0, the default evaluation metric used with the objective 'binary:logistic' was changed from 'error' to 'logloss'. Explicitly set eval_metric if you'd like to restore the old behavior.\n",
      "[22:00:41] WARNING: C:/Users/Administrator/workspace/xgboost-win64_release_1.5.1/src/learner.cc:1115: Starting in XGBoost 1.3.0, the default evaluation metric used with the objective 'binary:logistic' was changed from 'error' to 'logloss'. Explicitly set eval_metric if you'd like to restore the old behavior.\n",
      "0.7574148105844279\n"
     ]
    }
   ],
   "source": [
    "# Cross-Validation XGB Classifier\n",
    "cvs_xgb=cross_val_score(xgb,x,y,cv=5)\n",
    "print(cvs_xgb.mean())"
   ]
  },
  {
   "cell_type": "code",
   "execution_count": null,
   "id": "4d665cf8",
   "metadata": {},
   "outputs": [],
   "source": [
    "# Cross-Validation:Random forest(80%), XGB(80%) gives good accuracy but differnce between \n",
    "# Accuracy score and CV score is less in Random Forestclassifier and Decision Tree classifier.So both works better. "
   ]
  },
  {
   "cell_type": "code",
   "execution_count": 140,
   "id": "e19146d7",
   "metadata": {},
   "outputs": [],
   "source": [
    "from sklearn.feature_selection import SelectPercentile,chi2"
   ]
  },
  {
   "cell_type": "code",
   "execution_count": 141,
   "id": "1caf0ac2",
   "metadata": {},
   "outputs": [],
   "source": [
    "spercentile=SelectPercentile(score_func=chi2,percentile=80)"
   ]
  },
  {
   "cell_type": "code",
   "execution_count": 142,
   "id": "7b452361",
   "metadata": {},
   "outputs": [
    {
     "data": {
      "text/plain": [
       "SelectPercentile(percentile=80,\n",
       "                 score_func=<function chi2 at 0x000001AC62A21DC0>)"
      ]
     },
     "execution_count": 142,
     "metadata": {},
     "output_type": "execute_result"
    }
   ],
   "source": [
    "spercentile.fit(x,y)"
   ]
  },
  {
   "cell_type": "code",
   "execution_count": 143,
   "id": "23e71490",
   "metadata": {},
   "outputs": [],
   "source": [
    "cols=spercentile.get_support(indices=True)"
   ]
  },
  {
   "cell_type": "code",
   "execution_count": 144,
   "id": "f0b8a588",
   "metadata": {},
   "outputs": [],
   "source": [
    "features=x.columns[cols]"
   ]
  },
  {
   "cell_type": "code",
   "execution_count": 145,
   "id": "691f85f6",
   "metadata": {},
   "outputs": [],
   "source": [
    "df_scores=pd.DataFrame({'features': x.columns,\n",
    "                        'chi2score': spercentile.scores_,\n",
    "                        'pvalue': spercentile.pvalues_})"
   ]
  },
  {
   "cell_type": "code",
   "execution_count": 146,
   "id": "516fea7e",
   "metadata": {},
   "outputs": [
    {
     "data": {
      "text/html": [
       "<div>\n",
       "<style scoped>\n",
       "    .dataframe tbody tr th:only-of-type {\n",
       "        vertical-align: middle;\n",
       "    }\n",
       "\n",
       "    .dataframe tbody tr th {\n",
       "        vertical-align: top;\n",
       "    }\n",
       "\n",
       "    .dataframe thead th {\n",
       "        text-align: right;\n",
       "    }\n",
       "</style>\n",
       "<table border=\"1\" class=\"dataframe\">\n",
       "  <thead>\n",
       "    <tr style=\"text-align: right;\">\n",
       "      <th></th>\n",
       "      <th>features</th>\n",
       "      <th>chi2score</th>\n",
       "      <th>pvalue</th>\n",
       "    </tr>\n",
       "  </thead>\n",
       "  <tbody>\n",
       "    <tr>\n",
       "      <th>5</th>\n",
       "      <td>ApplicantIncome</td>\n",
       "      <td>1018.230631</td>\n",
       "      <td>1.957128e-223</td>\n",
       "    </tr>\n",
       "    <tr>\n",
       "      <th>10</th>\n",
       "      <td>Total_Income</td>\n",
       "      <td>344.956917</td>\n",
       "      <td>5.313308e-77</td>\n",
       "    </tr>\n",
       "    <tr>\n",
       "      <th>8</th>\n",
       "      <td>Credit_History</td>\n",
       "      <td>23.011627</td>\n",
       "      <td>1.610245e-06</td>\n",
       "    </tr>\n",
       "    <tr>\n",
       "      <th>7</th>\n",
       "      <td>Loan_Amount_Term</td>\n",
       "      <td>6.216625</td>\n",
       "      <td>1.265561e-02</td>\n",
       "    </tr>\n",
       "    <tr>\n",
       "      <th>6</th>\n",
       "      <td>LoanAmount</td>\n",
       "      <td>3.163166</td>\n",
       "      <td>7.531699e-02</td>\n",
       "    </tr>\n",
       "    <tr>\n",
       "      <th>3</th>\n",
       "      <td>Education</td>\n",
       "      <td>2.204642</td>\n",
       "      <td>1.375959e-01</td>\n",
       "    </tr>\n",
       "    <tr>\n",
       "      <th>1</th>\n",
       "      <td>Married</td>\n",
       "      <td>1.059055</td>\n",
       "      <td>3.034308e-01</td>\n",
       "    </tr>\n",
       "    <tr>\n",
       "      <th>4</th>\n",
       "      <td>Self_Employed</td>\n",
       "      <td>0.279299</td>\n",
       "      <td>5.971612e-01</td>\n",
       "    </tr>\n",
       "    <tr>\n",
       "      <th>2</th>\n",
       "      <td>Dependents</td>\n",
       "      <td>0.219278</td>\n",
       "      <td>6.395905e-01</td>\n",
       "    </tr>\n",
       "    <tr>\n",
       "      <th>0</th>\n",
       "      <td>Gender</td>\n",
       "      <td>0.180488</td>\n",
       "      <td>6.709539e-01</td>\n",
       "    </tr>\n",
       "    <tr>\n",
       "      <th>9</th>\n",
       "      <td>Property_Area</td>\n",
       "      <td>0.041953</td>\n",
       "      <td>8.377094e-01</td>\n",
       "    </tr>\n",
       "    <tr>\n",
       "      <th>11</th>\n",
       "      <td>EMI</td>\n",
       "      <td>0.003824</td>\n",
       "      <td>9.506934e-01</td>\n",
       "    </tr>\n",
       "  </tbody>\n",
       "</table>\n",
       "</div>"
      ],
      "text/plain": [
       "            features    chi2score         pvalue\n",
       "5    ApplicantIncome  1018.230631  1.957128e-223\n",
       "10      Total_Income   344.956917   5.313308e-77\n",
       "8     Credit_History    23.011627   1.610245e-06\n",
       "7   Loan_Amount_Term     6.216625   1.265561e-02\n",
       "6         LoanAmount     3.163166   7.531699e-02\n",
       "3          Education     2.204642   1.375959e-01\n",
       "1            Married     1.059055   3.034308e-01\n",
       "4      Self_Employed     0.279299   5.971612e-01\n",
       "2         Dependents     0.219278   6.395905e-01\n",
       "0             Gender     0.180488   6.709539e-01\n",
       "9      Property_Area     0.041953   8.377094e-01\n",
       "11               EMI     0.003824   9.506934e-01"
      ]
     },
     "execution_count": 146,
     "metadata": {},
     "output_type": "execute_result"
    }
   ],
   "source": [
    "df_scores.sort_values(by='chi2score',ascending=False)"
   ]
  },
  {
   "cell_type": "code",
   "execution_count": 147,
   "id": "48cbd4b1",
   "metadata": {},
   "outputs": [
    {
     "data": {
      "image/png": "[encoded data removed]",
      "text/plain": [
       "<Figure size 432x288 with 1 Axes>"
      ]
     },
     "metadata": {
      "needs_background": "light"
     },
     "output_type": "display_data"
    }
   ],
   "source": [
    "feat_importances = pd.Series(rfc.feature_importances_, index=x.columns)\n",
    "feat_importances.nlargest(10).plot(kind='barh')\n",
    "plt.title(\"Top 10 important features in data\")\n",
    "plt.show()"
   ]
  },
  {
   "cell_type": "code",
   "execution_count": null,
   "id": "d88e637a",
   "metadata": {},
   "outputs": [],
   "source": [
    "#these are best features of the dataset"
   ]
  },
  {
   "cell_type": "code",
   "execution_count": null,
   "id": "f83445d0",
   "metadata": {},
   "outputs": [],
   "source": []
  },
  {
   "cell_type": "code",
   "execution_count": 112,
   "id": "c4914016",
   "metadata": {},
   "outputs": [],
   "source": [
    "from sklearn.model_selection import GridSearchCV\n",
    "from sklearn.metrics import plot_roc_curve"
   ]
  },
  {
   "cell_type": "code",
   "execution_count": null,
   "id": "4af39694",
   "metadata": {},
   "outputs": [],
   "source": [
    "## hypertuning the model with GridSearchCV (using Random Forest)"
   ]
  },
  {
   "cell_type": "code",
   "execution_count": 113,
   "id": "28c0d869",
   "metadata": {},
   "outputs": [],
   "source": [
    "parameters={'min_samples_leaf':[1,5,10,15,20],\n",
    "            'max_depth':[4,5,6,7,8,9,10],\n",
    "            'criterion':['gini','entropy'],\n",
    "            'min_samples_split':[2,4,6,8,10,12,14],\n",
    "             'n_estimators':[50,100,150,200,250]\n",
    "           }"
   ]
  },
  {
   "cell_type": "code",
   "execution_count": 114,
   "id": "7464e108",
   "metadata": {},
   "outputs": [],
   "source": [
    "gscv=GridSearchCV(RandomForestClassifier(),parameters,cv=5)"
   ]
  },
  {
   "cell_type": "code",
   "execution_count": 115,
   "id": "32e1dd3c",
   "metadata": {},
   "outputs": [
    {
     "data": {
      "text/plain": [
       "GridSearchCV(cv=5, estimator=RandomForestClassifier(),\n",
       "             param_grid={'criterion': ['gini', 'entropy'],\n",
       "                         'max_depth': [4, 5, 6, 7, 8, 9, 10],\n",
       "                         'min_samples_leaf': [1, 5, 10, 15, 20],\n",
       "                         'min_samples_split': [2, 4, 6, 8, 10, 12, 14],\n",
       "                         'n_estimators': [50, 100, 150, 200, 250]})"
      ]
     },
     "execution_count": 115,
     "metadata": {},
     "output_type": "execute_result"
    }
   ],
   "source": [
    "gscv.fit(x_train,y_train)"
   ]
  },
  {
   "cell_type": "code",
   "execution_count": 116,
   "id": "0f4a87fc",
   "metadata": {},
   "outputs": [],
   "source": [
    "parameters=gscv.best_params_"
   ]
  },
  {
   "cell_type": "code",
   "execution_count": 117,
   "id": "c2df74ba",
   "metadata": {},
   "outputs": [
    {
     "data": {
      "text/plain": [
       "{'criterion': 'entropy',\n",
       " 'max_depth': 7,\n",
       " 'min_samples_leaf': 5,\n",
       " 'min_samples_split': 14,\n",
       " 'n_estimators': 50}"
      ]
     },
     "execution_count": 117,
     "metadata": {},
     "output_type": "execute_result"
    }
   ],
   "source": [
    "parameters"
   ]
  },
  {
   "cell_type": "code",
   "execution_count": 135,
   "id": "43829b5f",
   "metadata": {},
   "outputs": [],
   "source": [
    "clf=RandomForestClassifier(criterion='entropy',max_depth=10,min_samples_leaf=7,min_samples_split=14,n_estimators=100)"
   ]
  },
  {
   "cell_type": "code",
   "execution_count": 136,
   "id": "4421d589",
   "metadata": {},
   "outputs": [
    {
     "data": {
      "text/plain": [
       "RandomForestClassifier(criterion='entropy', max_depth=10, min_samples_leaf=7,\n",
       "                       min_samples_split=14)"
      ]
     },
     "execution_count": 136,
     "metadata": {},
     "output_type": "execute_result"
    }
   ],
   "source": [
    "clf.fit(x_train,y_train)"
   ]
  },
  {
   "cell_type": "code",
   "execution_count": 137,
   "id": "055e5eb6",
   "metadata": {},
   "outputs": [],
   "source": [
    "clf_pred=clf.predict(x_test)   "
   ]
  },
  {
   "cell_type": "code",
   "execution_count": 138,
   "id": "e5bccae4",
   "metadata": {},
   "outputs": [
    {
     "name": "stdout",
     "output_type": "stream",
     "text": [
      "85.9375\n",
      "[[17 17]\n",
      " [ 1 93]]\n",
      "              precision    recall  f1-score   support\n",
      "\n",
      "           0       0.94      0.50      0.65        34\n",
      "           1       0.85      0.99      0.91        94\n",
      "\n",
      "    accuracy                           0.86       128\n",
      "   macro avg       0.89      0.74      0.78       128\n",
      "weighted avg       0.87      0.86      0.84       128\n",
      "\n"
     ]
    }
   ],
   "source": [
    "print(accuracy_score(y_test,clf_pred)*100)\n",
    "print(confusion_matrix(y_test,clf_pred))\n",
    "print(classification_report(y_test,clf_pred))     "
   ]
  },
  {
   "cell_type": "code",
   "execution_count": 139,
   "id": "2e1cf370",
   "metadata": {},
   "outputs": [
    {
     "data": {
      "image/png": "[encoded data removed]",
      "text/plain": [
       "<Figure size 432x288 with 1 Axes>"
      ]
     },
     "metadata": {
      "needs_background": "light"
     },
     "output_type": "display_data"
    }
   ],
   "source": [
    "plot_roc_curve(gscv.best_estimator_,x_test,y_test)\n",
    "plt.title('ROC_AUC plot')\n",
    "plt.show()"
   ]
  },
  {
   "cell_type": "code",
   "execution_count": 148,
   "id": "438a829a",
   "metadata": {},
   "outputs": [
    {
     "data": {
      "text/plain": [
       "['loan_application_clss.pkl']"
      ]
     },
     "execution_count": 148,
     "metadata": {},
     "output_type": "execute_result"
    }
   ],
   "source": [
    "# Saving model\n",
    "import joblib\n",
    "joblib.dump(clf,'loan_application_clss.pkl')"
   ]
  },
  {
   "cell_type": "code",
   "execution_count": null,
   "id": "879fc0c8",
   "metadata": {},
   "outputs": [],
   "source": [
    "# Conclusion"
   ]
  },
  {
   "cell_type": "code",
   "execution_count": 150,
   "id": "d0844932",
   "metadata": {},
   "outputs": [
    {
     "name": "stdout",
     "output_type": "stream",
     "text": [
      "0.859375\n"
     ]
    }
   ],
   "source": [
    "loaded_model = joblib.load(open('loan_application_clss.pkl', 'rb'))\n",
    "result = loaded_model.score(x_test, y_test)\n",
    "print (result)"
   ]
  },
  {
   "cell_type": "code",
   "execution_count": 151,
   "id": "fa89866d",
   "metadata": {},
   "outputs": [],
   "source": [
    "predict_conclusion = pd.DataFrame([loaded_model.predict(x_test)[:], clf_pred[:]], index = ['Predicted', 'Original'])"
   ]
  },
  {
   "cell_type": "code",
   "execution_count": 152,
   "id": "898cdf44",
   "metadata": {},
   "outputs": [
    {
     "data": {
      "text/html": [
       "<div>\n",
       "<style scoped>\n",
       "    .dataframe tbody tr th:only-of-type {\n",
       "        vertical-align: middle;\n",
       "    }\n",
       "\n",
       "    .dataframe tbody tr th {\n",
       "        vertical-align: top;\n",
       "    }\n",
       "\n",
       "    .dataframe thead th {\n",
       "        text-align: right;\n",
       "    }\n",
       "</style>\n",
       "<table border=\"1\" class=\"dataframe\">\n",
       "  <thead>\n",
       "    <tr style=\"text-align: right;\">\n",
       "      <th></th>\n",
       "      <th>0</th>\n",
       "      <th>1</th>\n",
       "      <th>2</th>\n",
       "      <th>3</th>\n",
       "      <th>4</th>\n",
       "      <th>5</th>\n",
       "      <th>6</th>\n",
       "      <th>7</th>\n",
       "      <th>8</th>\n",
       "      <th>9</th>\n",
       "      <th>...</th>\n",
       "      <th>118</th>\n",
       "      <th>119</th>\n",
       "      <th>120</th>\n",
       "      <th>121</th>\n",
       "      <th>122</th>\n",
       "      <th>123</th>\n",
       "      <th>124</th>\n",
       "      <th>125</th>\n",
       "      <th>126</th>\n",
       "      <th>127</th>\n",
       "    </tr>\n",
       "  </thead>\n",
       "  <tbody>\n",
       "    <tr>\n",
       "      <th>Predicted</th>\n",
       "      <td>1</td>\n",
       "      <td>1</td>\n",
       "      <td>1</td>\n",
       "      <td>0</td>\n",
       "      <td>1</td>\n",
       "      <td>1</td>\n",
       "      <td>1</td>\n",
       "      <td>1</td>\n",
       "      <td>0</td>\n",
       "      <td>1</td>\n",
       "      <td>...</td>\n",
       "      <td>0</td>\n",
       "      <td>1</td>\n",
       "      <td>1</td>\n",
       "      <td>1</td>\n",
       "      <td>0</td>\n",
       "      <td>1</td>\n",
       "      <td>0</td>\n",
       "      <td>1</td>\n",
       "      <td>1</td>\n",
       "      <td>1</td>\n",
       "    </tr>\n",
       "    <tr>\n",
       "      <th>Original</th>\n",
       "      <td>1</td>\n",
       "      <td>1</td>\n",
       "      <td>1</td>\n",
       "      <td>0</td>\n",
       "      <td>1</td>\n",
       "      <td>1</td>\n",
       "      <td>1</td>\n",
       "      <td>1</td>\n",
       "      <td>0</td>\n",
       "      <td>1</td>\n",
       "      <td>...</td>\n",
       "      <td>0</td>\n",
       "      <td>1</td>\n",
       "      <td>1</td>\n",
       "      <td>1</td>\n",
       "      <td>0</td>\n",
       "      <td>1</td>\n",
       "      <td>0</td>\n",
       "      <td>1</td>\n",
       "      <td>1</td>\n",
       "      <td>1</td>\n",
       "    </tr>\n",
       "  </tbody>\n",
       "</table>\n",
       "<p>2 rows × 128 columns</p>\n",
       "</div>"
      ],
      "text/plain": [
       "           0    1    2    3    4    5    6    7    8    9    ...  118  119  \\\n",
       "Predicted    1    1    1    0    1    1    1    1    0    1  ...    0    1   \n",
       "Original     1    1    1    0    1    1    1    1    0    1  ...    0    1   \n",
       "\n",
       "           120  121  122  123  124  125  126  127  \n",
       "Predicted    1    1    0    1    0    1    1    1  \n",
       "Original     1    1    0    1    0    1    1    1  \n",
       "\n",
       "[2 rows x 128 columns]"
      ]
     },
     "execution_count": 152,
     "metadata": {},
     "output_type": "execute_result"
    }
   ],
   "source": [
    "predict_conclusion"
   ]
  },
  {
   "cell_type": "raw",
   "id": "446f2abe",
   "metadata": {},
   "source": [
    "Conclusion:\n",
    "\n",
    "By comparing different model in this classification problem we can conclude that Random forest works better here.\n",
    "Hypertunning we get\n",
    "\n",
    "Accuracy=86%\n",
    "AUC  =82% \n",
    "and CV value is 80% .\n",
    "F1 score is 91% for pedicting 1(yes)\n",
    "Precision is 85%\n",
    "Recall is 99%\n",
    "its give most accurate prediction than other model"
   ]
  },
  {
   "cell_type": "code",
   "execution_count": null,
   "id": "eda2168e",
   "metadata": {},
   "outputs": [],
   "source": []
  }
 ],
 "metadata": {
  "kernelspec": {
   "display_name": "Python 3",
   "language": "python",
   "name": "python3"
  },
  "language_info": {
   "codemirror_mode": {
    "name": "ipython",
    "version": 3
   },
   "file_extension": ".py",
   "mimetype": "text/x-python",
   "name": "python",
   "nbconvert_exporter": "python",
   "pygments_lexer": "ipython3",
   "version": "3.8.8"
  }
 },
 "nbformat": 4,
 "nbformat_minor": 5
}
